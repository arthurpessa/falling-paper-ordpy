{
 "cells": [
  {
   "cell_type": "code",
   "execution_count": 6,
   "metadata": {
    "ExecuteTime": {
     "end_time": "2021-02-21T05:35:51.034681Z",
     "start_time": "2021-02-21T05:35:51.022521Z"
    },
    "init_cell": true
   },
   "outputs": [
    {
     "data": {
      "text/html": [
       "<style>.container {width:99.5% !important;} </style>"
      ],
      "text/plain": [
       "<IPython.core.display.HTML object>"
      ]
     },
     "metadata": {},
     "output_type": "display_data"
    }
   ],
   "source": [
    "import scipy.io\n",
    "import numpy as np\n",
    "import matplotlib.pyplot as plt\n",
    "import matplotlib as mpl\n",
    "import seaborn as sns\n",
    "import ordpy\n",
    "\n",
    "%matplotlib inline\n",
    "\n",
    "#extend notebook\n",
    "from IPython.core.display import display, HTML\n",
    "display(HTML(\"<style>.container {width:99.5% !important;} </style>\"))\n",
    "\n",
    "\n",
    "from tslearn.metrics import dtw as Dtw\n",
    "# from dtaidistance import dtw\n",
    "import itertools "
   ]
  },
  {
   "cell_type": "markdown",
   "metadata": {},
   "source": [
    "# Functions' definitions"
   ]
  },
  {
   "cell_type": "code",
   "execution_count": 7,
   "metadata": {
    "ExecuteTime": {
     "end_time": "2021-02-21T05:35:52.405371Z",
     "start_time": "2021-02-21T05:35:52.401253Z"
    },
    "code_folding": [
     0
    ],
    "init_cell": true
   },
   "outputs": [],
   "source": [
    "def stdfigsize(scale=1, nrows=1, ncols=1, ratio=1.3):\n",
    "    \"\"\"\n",
    "    Returns a tuple to be used as figure size.\n",
    "\n",
    "    Parameters\n",
    "    ----------\n",
    "    returns (7*ratio*scale*nrows, 7.*scale*ncols)\n",
    "    By default: ratio=1.3\n",
    "    ----------\n",
    "    Returns (7*ratio*scale*nrows, 7.*scale*ncols).\n",
    "    \"\"\"\n",
    "\n",
    "    return((7*ratio*scale*ncols, 7.*scale*nrows))"
   ]
  },
  {
   "cell_type": "code",
   "execution_count": 8,
   "metadata": {
    "ExecuteTime": {
     "end_time": "2021-02-21T05:35:53.064164Z",
     "start_time": "2021-02-21T05:35:53.054500Z"
    },
    "code_folding": [
     0,
     4
    ],
    "init_cell": true
   },
   "outputs": [],
   "source": [
    "#Style definitions\n",
    "sns.set_style(\"white\")\n",
    "sns.set_style({\"xtick.direction\": \"out\", \"ytick.direction\": \"out\"})\n",
    "\n",
    "rcparams = {\n",
    "    'font.family': 'sans-serif',\n",
    "    'font.sans-serif': ['Helvetica'],\n",
    "    'axes.labelsize': 28,\n",
    "    'axes.titlesize': 28,\n",
    "    'legend.fontsize': 20,\n",
    "    'ytick.right': 'off',\n",
    "    'xtick.top': 'off',\n",
    "    'ytick.left': 'on',\n",
    "    'xtick.bottom': 'on',\n",
    "    'xtick.labelsize': '25',\n",
    "    'ytick.labelsize': '25',\n",
    "    'axes.linewidth': 2.5,\n",
    "    'xtick.major.width': 1.8,\n",
    "    'xtick.minor.width': 1.8,\n",
    "    'xtick.major.size': 14,\n",
    "    'xtick.minor.size': 7,\n",
    "    'xtick.major.pad': 10,\n",
    "    'xtick.minor.pad': 10,\n",
    "    'ytick.major.width': 1.8,\n",
    "    'ytick.minor.width': 1.8,\n",
    "    'ytick.major.size': 14,\n",
    "    'ytick.minor.size': 7,\n",
    "    'ytick.major.pad': 10,\n",
    "    'ytick.minor.pad': 10,\n",
    "    'axes.labelpad': 15,\n",
    "    'axes.titlepad': 15,\n",
    "    'axes.spines.right': False,\n",
    "    'axes.spines.top': False,\n",
    "    'figure.figsize': stdfigsize(),\n",
    "    'lines.linewidth': 3\n",
    "}\n",
    "mpl.rcParams.update(rcparams)"
   ]
  },
  {
   "cell_type": "markdown",
   "metadata": {},
   "source": [
    "# Disks"
   ]
  },
  {
   "cell_type": "markdown",
   "metadata": {},
   "source": [
    "<p style=\"font-size=200px;\"><b>Classification:</b></p>\n",
    "\n",
    "1) ???\n",
    "\n",
    "2) ???\n",
    "\n",
    "3) Steady or periodic behavior</p>"
   ]
  },
  {
   "cell_type": "code",
   "execution_count": 9,
   "metadata": {
    "ExecuteTime": {
     "end_time": "2021-02-21T05:35:54.387514Z",
     "start_time": "2021-02-21T05:35:54.381829Z"
    }
   },
   "outputs": [],
   "source": [
    "disk_human_class = scipy.io.loadmat('classification/humanClassificationCircle.mat')['behaviourHuman'][0]\n",
    "disk_feat_class  = scipy.io.loadmat('classification/dataCircleClassified.mat')"
   ]
  },
  {
   "cell_type": "code",
   "execution_count": 164,
   "metadata": {
    "ExecuteTime": {
     "end_time": "2021-02-19T06:16:38.847683Z",
     "start_time": "2021-02-19T06:16:38.841681Z"
    }
   },
   "outputs": [],
   "source": [
    "# for i, j, k in zip(mat2['dx'], mat2['dy'], range(len(mat2['dy']))):\n",
    "#     if k in np.argwhere(mat2['behaviourAuto'][0]==3).flatten():\n",
    "#         print('\\n', i, j, k, \"###############################\", '\\n')\n",
    "#     else:\n",
    "#         print('not steady', i, j)"
   ]
  },
  {
   "cell_type": "code",
   "execution_count": 54,
   "metadata": {
    "ExecuteTime": {
     "end_time": "2021-02-21T05:47:21.180501Z",
     "start_time": "2021-02-21T05:47:21.148669Z"
    },
    "init_cell": true
   },
   "outputs": [],
   "source": [
    "#Improving data structure. Extracting data from dataCircle.mat and loading it into data arrays\n",
    "disk_data = scipy.io.loadmat('classification/dataCircle.mat')\n",
    "\n",
    "#initial condition of the experiments: 0 (dropping with arm holding the paper horizontally) or 1 (dropping vertically)\n",
    "disk_initcons = []\n",
    "for i in range(len(disk_data['data'][0])):\n",
    "    disk_initcons.append(disk_data['data'][0][i]['initialCondition'][0][0][0][0])\n",
    "disk_initcons = np.asarray(disk_initcons)\n",
    "\n",
    "# radii of the disks dropped\n",
    "disk_radii = []\n",
    "for i in range(len(disk_data['data'][0])):\n",
    "    disk_radii.append(disk_data['data'][0][i]['radius'][0][0][0][0])\n",
    "disk_radii = np.asarray(disk_radii)\n",
    "\n",
    "# camera 1 observable area?\n",
    "disk_cam1 = []\n",
    "for i in range(len(disk_data['data'][0])):\n",
    "    disk_cam1.append(disk_data['data'][0][i]['areaCam1'][0][0])\n",
    "disk_cam1 = np.asarray(disk_cam1)\n",
    "\n",
    "# camera 2 observable area?\n",
    "disk_cam2 = []\n",
    "for i in range(len(disk_data['data'][0])):\n",
    "    disk_cam2.append(disk_data['data'][0][i]['areaCam2'][0][0])\n",
    "disk_cam2 = np.asarray(disk_cam2)\n",
    "\n",
    "# coordinates (x, y, z) along trajectory from 1m high to the floor.\n",
    "disk_trajectories = []\n",
    "for i in range(len(disk_data['data'][0])):\n",
    "    disk_trajectories.append(disk_data['data'][0][i]['trajectory'][0][0])\n",
    "disk_trajectories = np.asarray(disk_trajectories)"
   ]
  },
  {
   "cell_type": "markdown",
   "metadata": {},
   "source": [
    "## data cleaning"
   ]
  },
  {
   "cell_type": "code",
   "execution_count": 127,
   "metadata": {
    "ExecuteTime": {
     "end_time": "2021-02-21T07:09:56.104926Z",
     "start_time": "2021-02-21T07:09:56.044085Z"
    }
   },
   "outputs": [],
   "source": [
    "clean_disk_trajectories = []\n",
    "clean_disk_initcons     = []\n",
    "clean_disk_class        = []\n",
    "clean_disk_radii        = []\n",
    "clean_disk_cam2         = []\n",
    "clean_disk_cam1         = []\n",
    "\n",
    "for i in range(len(disk_trajectories)):\n",
    "    #vertical trajectory\n",
    "    z                = disk_trajectories[i][::,2]\n",
    "    # removing the last 5 centimeters of the fall.\n",
    "    trajectory       = disk_trajectories[i][z>.05]\n",
    "\n",
    "#(original comment) Segment steady and periodic behaviours from trajectories. \n",
    "#We only see steady and periodic from horizontal initial condition.\n",
    "    if disk_initcons[i]==0:        \n",
    "        boolean_trajectory = np.sqrt(trajectory[::,0]**2 + trajectory[::,1]**2)<.2*disk_radii[i]\n",
    "        steady_index       = boolean_trajectory.tolist().index(False)\n",
    "\n",
    "        if steady_index>1: #(original comment) Segment trajectory into steady(periodic)/unknown if more than 2 time-steps are steady(periodic)\n",
    "            clean_disk_trajectories.append(trajectory[:steady_index])\n",
    "            clean_disk_initcons.append(0)\n",
    "            clean_disk_radii.append(disk_radii[i])\n",
    "            clean_disk_class.append(3)\n",
    "            \n",
    "            if len(trajectory[steady_index:])>10: #second part of the sliced original trajectory.\n",
    "                clean_disk_trajectories.append(trajectory[steady_index:])\n",
    "                clean_disk_initcons.append(0)\n",
    "                clean_disk_radii.append(disk_radii[i])\n",
    "                clean_disk_class.append(np.nan)\n",
    "                \n",
    "            else: pass\n",
    "        \n",
    "        else: #no segmentation; only one behavior through the whole fall\n",
    "            clean_disk_trajectories.append(trajectory[steady_index:])\n",
    "            clean_disk_initcons.append(0)\n",
    "            clean_disk_radii.append(disk_radii[i])\n",
    "            clean_disk_class.append(np.nan)\n",
    "                \n",
    "    else: #no trajectory segmentation\n",
    "        boolean_trajectory = np.sqrt(trajectory[::,0]**2 + trajectory[::,1]**2)<0.01\n",
    "        cut_index          = boolean_trajectory.tolist().index(False)\n",
    "        \n",
    "        if len(trajectory[cut_index:])>10: #second part of the sliced original trajectory.\n",
    "            clean_disk_trajectories.append(trajectory[cut_index:])\n",
    "            clean_disk_initcons.append(1)\n",
    "            clean_disk_radii.append(disk_radii[i])\n",
    "            clean_disk_class.append(np.nan)\n",
    "\n",
    "np.save('pickles/clean_disk_trajectories.npy', clean_disk_trajectories)\n",
    "np.save('pickles/clean_disk_initcons.npy', clean_disk_initcons)    \n",
    "np.save('pickles/clean_disk_class.npy', clean_disk_class)       \n",
    "np.save('pickles/clean_disk_radii.npy', clean_disk_radii)       \n",
    "np.save('pickles/clean_disk_class.npy', clean_disk_class)       "
   ]
  },
  {
   "cell_type": "code",
   "execution_count": 129,
   "metadata": {
    "ExecuteTime": {
     "end_time": "2021-02-21T07:13:35.394856Z",
     "start_time": "2021-02-21T07:13:33.890111Z"
    }
   },
   "outputs": [
    {
     "data": {
      "text/plain": [
       "Text(0.5, 0, 'x, lateral')"
      ]
     },
     "execution_count": 129,
     "metadata": {},
     "output_type": "execute_result"
    },
    {
     "name": "stderr",
     "output_type": "stream",
     "text": [
      "findfont: Font family ['sans-serif'] not found. Falling back to DejaVu Sans.\n",
      "findfont: Font family ['sans-serif'] not found. Falling back to DejaVu Sans.\n"
     ]
    },
    {
     "data": {
      "image/png": "[encoded data removed]",
      "text/plain": [
       "<Figure size 655.2x504 with 1 Axes>"
      ]
     },
     "metadata": {},
     "output_type": "display_data"
    }
   ],
   "source": [
    "f, ax = plt.subplots()\n",
    "\n",
    "i      = 21\n",
    "x_, y_ = clean_disk_trajectories[i][::,0], clean_disk_trajectories[i][::,2]\n",
    "\n",
    "ax.plot(x_, y_, '-', color='grey')\n",
    "ax.set_ylabel('z, altura')\n",
    "ax.set_xlabel('x, lateral')"
   ]
  },
  {
   "cell_type": "code",
   "execution_count": 184,
   "metadata": {
    "ExecuteTime": {
     "end_time": "2021-02-21T07:43:44.047143Z",
     "start_time": "2021-02-21T07:43:43.635091Z"
    }
   },
   "outputs": [],
   "source": [
    "disk_ce = []\n",
    "for i, class_ in zip(range(len(clean_disk_trajectories)), clean_disk_class):\n",
    "    if not class_==3:\n",
    "        ts = clean_disk_trajectories[i][::,2]\n",
    "        disk_ce.append(ordpy.complexity_entropy(ts, dx=4))\n",
    "    else:\n",
    "        pass"
   ]
  },
  {
   "cell_type": "code",
   "execution_count": 180,
   "metadata": {
    "ExecuteTime": {
     "end_time": "2021-02-21T07:43:22.922059Z",
     "start_time": "2021-02-21T07:43:22.916940Z"
    }
   },
   "outputs": [
    {
     "data": {
      "text/plain": [
       "218"
      ]
     },
     "execution_count": 180,
     "metadata": {},
     "output_type": "execute_result"
    }
   ],
   "source": [
    "disk_human_class.__len__()"
   ]
  },
  {
   "cell_type": "code",
   "execution_count": 185,
   "metadata": {
    "ExecuteTime": {
     "end_time": "2021-02-21T07:43:52.207382Z",
     "start_time": "2021-02-21T07:43:51.572056Z"
    }
   },
   "outputs": [
    {
     "data": {
      "image/png": "[encoded data removed]",
      "text/plain": [
       "<Figure size 655.2x504 with 1 Axes>"
      ]
     },
     "metadata": {},
     "output_type": "display_data"
    }
   ],
   "source": [
    "a = disk_human_class\n",
    "a = a[a!=3]\n",
    "\n",
    "for (h_, c_), class_ in zip(disk_ce, a):\n",
    "    if class_==1:\n",
    "        plt.plot(h_,c_, '.', marker='*', color='blue')\n",
    "    else:\n",
    "        plt.plot(h_,c_, '.', color='red', zorder=0)"
   ]
  },
  {
   "cell_type": "code",
   "execution_count": 69,
   "metadata": {
    "ExecuteTime": {
     "end_time": "2021-02-20T06:18:35.261824Z",
     "start_time": "2021-02-20T06:18:14.022101Z"
    }
   },
   "outputs": [],
   "source": [
    "# 21seconds to run.\n",
    "dtw_matrix = []\n",
    "A = range(disk_trajectory.__len__())\n",
    "\n",
    "for i,j in list(itertools.product(A, A)):\n",
    "    ts1 = disk_trajectory[i]\n",
    "    ts2 = disk_trajectory[j]\n",
    "    dtw_matrix.append(Dtw(ts1, ts2))"
   ]
  },
  {
   "cell_type": "code",
   "execution_count": 79,
   "metadata": {
    "ExecuteTime": {
     "end_time": "2021-02-20T06:25:22.420233Z",
     "start_time": "2021-02-20T06:25:22.415471Z"
    }
   },
   "outputs": [],
   "source": [
    "from scipy.cluster.hierarchy import average as ClusAvg\n",
    "from scipy.spatial.distance import pdist as Pdist\n",
    "from scipy.cluster.hierarchy import fcluster as Fcluster"
   ]
  },
  {
   "cell_type": "code",
   "execution_count": 71,
   "metadata": {
    "ExecuteTime": {
     "end_time": "2021-02-20T06:19:33.453229Z",
     "start_time": "2021-02-20T06:19:33.447814Z"
    }
   },
   "outputs": [],
   "source": [
    "dtw_matrix_shape = np.reshape(dtw_matrix, (170,-1))"
   ]
  },
  {
   "cell_type": "code",
   "execution_count": 76,
   "metadata": {
    "ExecuteTime": {
     "end_time": "2021-02-20T06:21:45.800873Z",
     "start_time": "2021-02-20T06:21:45.796553Z"
    }
   },
   "outputs": [],
   "source": [
    "y = Pdist(dtw_matrix_shape)"
   ]
  },
  {
   "cell_type": "code",
   "execution_count": 85,
   "metadata": {
    "ExecuteTime": {
     "end_time": "2021-02-20T06:33:25.074675Z",
     "start_time": "2021-02-20T06:33:25.068977Z"
    }
   },
   "outputs": [],
   "source": [
    "Z = ClusAvg(y)"
   ]
  },
  {
   "cell_type": "code",
   "execution_count": 86,
   "metadata": {
    "ExecuteTime": {
     "end_time": "2021-02-20T06:33:31.850719Z",
     "start_time": "2021-02-20T06:33:31.836192Z"
    }
   },
   "outputs": [
    {
     "data": {
      "text/plain": [
       "array([[ 58.        , 135.        ,   0.98516109,   2.        ],\n",
       "       [  5.        ,  85.        ,   1.17740812,   2.        ],\n",
       "       [ 22.        , 138.        ,   1.2516876 ,   2.        ],\n",
       "       [ 36.        ,  95.        ,   1.46373152,   2.        ],\n",
       "       [ 27.        ,  68.        ,   1.48460509,   2.        ],\n",
       "       [ 26.        , 127.        ,   1.49605171,   2.        ],\n",
       "       [ 19.        ,  83.        ,   1.64174705,   2.        ],\n",
       "       [ 76.        , 120.        ,   1.68810495,   2.        ],\n",
       "       [ 49.        , 144.        ,   1.69288316,   2.        ],\n",
       "       [ 65.        , 165.        ,   1.77420147,   2.        ],\n",
       "       [ 82.        , 171.        ,   1.80293752,   3.        ],\n",
       "       [106.        , 131.        ,   1.80519182,   2.        ],\n",
       "       [ 71.        ,  88.        ,   1.90544641,   2.        ],\n",
       "       [ 74.        , 133.        ,   1.93795326,   2.        ],\n",
       "       [ 59.        ,  75.        ,   1.94042893,   2.        ],\n",
       "       [ 69.        , 180.        ,   2.07976968,   4.        ],\n",
       "       [143.        , 152.        ,   2.08773762,   2.        ],\n",
       "       [ 13.        , 181.        ,   2.31293556,   3.        ],\n",
       "       [ 56.        , 114.        ,   2.38141844,   2.        ],\n",
       "       [ 21.        ,  48.        ,   2.38869845,   2.        ],\n",
       "       [ 63.        , 104.        ,   2.39993547,   2.        ],\n",
       "       [ 33.        ,  51.        ,   2.40588562,   2.        ],\n",
       "       [ 64.        , 170.        ,   2.41463914,   3.        ],\n",
       "       [ 34.        ,  86.        ,   2.47937032,   2.        ],\n",
       "       [ 57.        , 105.        ,   2.55457546,   2.        ],\n",
       "       [ 54.        ,  60.        ,   2.86841836,   2.        ],\n",
       "       [  4.        , 174.        ,   2.89713996,   3.        ],\n",
       "       [134.        , 160.        ,   2.90276251,   2.        ],\n",
       "       [ 87.        ,  98.        ,   2.92483857,   2.        ],\n",
       "       [119.        , 175.        ,   2.93529334,   3.        ],\n",
       "       [149.        , 162.        ,   2.93852224,   2.        ],\n",
       "       [101.        , 116.        ,   2.98890905,   2.        ],\n",
       "       [ 11.        ,  35.        ,   3.00147433,   2.        ],\n",
       "       [151.        , 157.        ,   3.08823376,   2.        ],\n",
       "       [110.        , 172.        ,   3.09689703,   3.        ],\n",
       "       [ 10.        , 102.        ,   3.09699369,   2.        ],\n",
       "       [ 62.        , 146.        ,   3.118563  ,   2.        ],\n",
       "       [169.        , 190.        ,   3.14692789,   3.        ],\n",
       "       [176.        , 199.        ,   3.21722129,   5.        ],\n",
       "       [ 14.        , 139.        ,   3.28297004,   2.        ],\n",
       "       [147.        , 182.        ,   3.28819871,   3.        ],\n",
       "       [ 40.        , 154.        ,   3.34852835,   2.        ],\n",
       "       [  6.        , 186.        ,   3.35263756,   3.        ],\n",
       "       [ 47.        , 128.        ,   3.3879337 ,   2.        ],\n",
       "       [ 37.        ,  80.        ,   3.39873526,   2.        ],\n",
       "       [ 15.        , 164.        ,   3.40333004,   2.        ],\n",
       "       [148.        , 185.        ,   3.42925348,   5.        ],\n",
       "       [ 30.        , 140.        ,   3.46841818,   2.        ],\n",
       "       [ 66.        , 118.        ,   3.58793957,   2.        ],\n",
       "       [ 41.        , 117.        ,   3.6055483 ,   2.        ],\n",
       "       [ 97.        , 159.        ,   3.6389285 ,   2.        ],\n",
       "       [  3.        ,  31.        ,   3.78567086,   2.        ],\n",
       "       [ 17.        ,  99.        ,   3.8347192 ,   2.        ],\n",
       "       [  2.        , 103.        ,   3.83800376,   2.        ],\n",
       "       [ 39.        ,  94.        ,   3.87172677,   2.        ],\n",
       "       [ 89.        , 192.        ,   3.89383883,   4.        ],\n",
       "       [  7.        , 161.        ,   3.90312069,   2.        ],\n",
       "       [ 90.        , 197.        ,   3.91531001,   3.        ],\n",
       "       [ 84.        , 125.        ,   3.93047002,   2.        ],\n",
       "       [ 93.        , 178.        ,   3.93687181,   3.        ],\n",
       "       [130.        , 168.        ,   3.97971675,   2.        ],\n",
       "       [ 91.        , 223.        ,   4.0308837 ,   3.        ],\n",
       "       [  8.        , 124.        ,   4.12920683,   2.        ],\n",
       "       [183.        , 208.        ,   4.14833766,   7.        ],\n",
       "       [191.        , 200.        ,   4.36228635,   4.        ],\n",
       "       [108.        , 179.        ,   4.4900514 ,   3.        ],\n",
       "       [ 79.        , 195.        ,   4.52484962,   3.        ],\n",
       "       [ 50.        , 107.        ,   4.52499799,   2.        ],\n",
       "       [ 55.        , 231.        ,   4.55092565,   4.        ],\n",
       "       [156.        , 232.        ,   4.57682645,   3.        ],\n",
       "       [ 53.        , 132.        ,   4.57963691,   2.        ],\n",
       "       [ 67.        , 215.        ,   4.65856976,   3.        ],\n",
       "       [188.        , 214.        ,   4.7125248 ,   4.        ],\n",
       "       [207.        , 237.        ,   4.83888002,   5.        ],\n",
       "       [212.        , 216.        ,   4.9009364 ,   8.        ],\n",
       "       [203.        , 206.        ,   4.94500063,   4.        ],\n",
       "       [205.        , 235.        ,   5.07534284,   5.        ],\n",
       "       [225.        , 233.        ,   5.08893281,  11.        ],\n",
       "       [ 92.        , 229.        ,   5.10803786,   4.        ],\n",
       "       [ 23.        , 153.        ,   5.14921151,   2.        ],\n",
       "       [109.        , 213.        ,   5.26702433,   3.        ],\n",
       "       [ 16.        , 136.        ,   5.33944085,   2.        ],\n",
       "       [189.        , 220.        ,   5.44674137,   4.        ],\n",
       "       [ 45.        , 141.        ,   5.44922067,   2.        ],\n",
       "       [211.        , 218.        ,   5.46674284,   4.        ],\n",
       "       [126.        , 226.        ,   5.4676711 ,   3.        ],\n",
       "       [122.        , 173.        ,   5.50314558,   3.        ],\n",
       "       [ 46.        , 198.        ,   5.72771347,   3.        ],\n",
       "       [202.        , 251.        ,   5.8147611 ,   4.        ],\n",
       "       [187.        , 240.        ,   5.84155679,   5.        ],\n",
       "       [115.        , 224.        ,   5.85814135,   3.        ],\n",
       "       [ 70.        , 238.        ,   5.97980552,   5.        ],\n",
       "       [ 18.        , 239.        ,   5.99816573,   4.        ],\n",
       "       [111.        , 145.        ,   6.01649607,   2.        ],\n",
       "       [227.        , 245.        ,   6.10064183,   7.        ],\n",
       "       [113.        , 249.        ,   6.14719064,   3.        ],\n",
       "       [ 42.        , 177.        ,   6.18224812,   3.        ],\n",
       "       [ 28.        , 158.        ,   6.2267734 ,   2.        ],\n",
       "       [ 52.        , 247.        ,   6.35111237,  12.        ],\n",
       "       [ 96.        , 166.        ,   6.37807619,   2.        ],\n",
       "       [210.        , 234.        ,   6.38337055,   7.        ],\n",
       "       [100.        , 123.        ,   6.3988786 ,   2.        ],\n",
       "       [ 44.        , 184.        ,   6.42218345,   3.        ],\n",
       "       [222.        , 250.        ,   6.45458912,   5.        ],\n",
       "       [194.        , 209.        ,   6.46802052,   4.        ],\n",
       "       [129.        , 201.        ,   6.51567102,   3.        ],\n",
       "       [196.        , 244.        ,   6.57494049,  11.        ],\n",
       "       [219.        , 221.        ,   6.60793242,   4.        ],\n",
       "       [ 43.        , 242.        ,   6.63770724,   5.        ],\n",
       "       [  9.        , 150.        ,   6.65286153,   2.        ],\n",
       "       [ 72.        , 256.        ,   6.6584427 ,   4.        ],\n",
       "       [137.        , 217.        ,   6.94530753,   3.        ],\n",
       "       [ 20.        , 236.        ,   7.08225642,   4.        ],\n",
       "       [121.        , 230.        ,   7.14408752,   3.        ],\n",
       "       [248.        , 262.        ,   7.29312201,   8.        ],\n",
       "       [228.        , 257.        ,   7.53199576,   5.        ],\n",
       "       [254.        , 278.        ,   7.73706304,   9.        ],\n",
       "       [255.        , 269.        ,   7.7665518 ,   5.        ],\n",
       "       [ 32.        , 261.        ,   7.82131168,   6.        ],\n",
       "       [  0.        , 263.        ,   7.92064851,   3.        ],\n",
       "       [  1.        ,  12.        ,   8.1926801 ,   2.        ],\n",
       "       [259.        , 273.        ,   8.19325318,  10.        ],\n",
       "       [241.        , 276.        ,   8.50857262,  14.        ],\n",
       "       [243.        , 284.        ,   8.59566457,  13.        ],\n",
       "       [193.        , 253.        ,   8.61836223,   4.        ],\n",
       "       [246.        , 252.        ,   8.6840969 ,   9.        ],\n",
       "       [264.        , 268.        ,   8.71827247,  19.        ],\n",
       "       [275.        , 291.        ,   8.95341727,  13.        ],\n",
       "       [ 77.        , 288.        ,   9.1374105 ,   7.        ],\n",
       "       [260.        , 271.        ,   9.14946665,   5.        ],\n",
       "       [ 78.        , 290.        ,   9.3003293 ,   3.        ],\n",
       "       [142.        , 281.        ,   9.31466412,   4.        ],\n",
       "       [ 38.        , 167.        ,   9.36593795,   2.        ],\n",
       "       [274.        , 297.        ,   9.45764112,  17.        ],\n",
       "       [ 25.        ,  81.        ,   9.48007133,   2.        ],\n",
       "       [ 61.        , 258.        ,   9.61442966,   5.        ],\n",
       "       [272.        , 277.        ,   9.77881371,   7.        ],\n",
       "       [265.        , 294.        ,  10.07576444,   7.        ],\n",
       "       [287.        , 300.        ,  10.16512241,   8.        ],\n",
       "       [285.        , 305.        ,  10.26898352,  10.        ],\n",
       "       [283.        , 302.        ,  10.36630747,   5.        ],\n",
       "       [280.        , 286.        ,  10.93623777,  13.        ],\n",
       "       [282.        , 299.        ,  11.228403  ,   9.        ],\n",
       "       [298.        , 307.        ,  11.55678734,  14.        ],\n",
       "       [ 24.        , 312.        ,  11.98137333,  10.        ],\n",
       "       [293.        , 296.        ,  12.59963437,  32.        ],\n",
       "       [301.        , 304.        ,  13.62777082,   6.        ],\n",
       "       [ 73.        , 266.        ,  13.62818548,   4.        ],\n",
       "       [292.        , 295.        ,  13.67124562,  23.        ],\n",
       "       [155.        , 311.        ,  14.25011326,  14.        ],\n",
       "       [270.        , 306.        ,  14.36606562,  14.        ],\n",
       "       [314.        , 315.        ,  15.19549025,  42.        ],\n",
       "       [163.        , 289.        ,  15.43909175,   4.        ],\n",
       "       [ 29.        , 320.        ,  15.79305483,  15.        ],\n",
       "       [309.        , 313.        ,  15.94769434,  24.        ],\n",
       "       [318.        , 319.        ,  15.9559217 ,  37.        ],\n",
       "       [267.        , 279.        ,  16.1820768 ,   4.        ],\n",
       "       [303.        , 316.        ,  16.67837051,  23.        ],\n",
       "       [204.        , 317.        ,  16.7387674 ,   7.        ],\n",
       "       [308.        , 323.        ,  19.60212344,  23.        ],\n",
       "       [310.        , 327.        ,  19.88490079,  28.        ],\n",
       "       [321.        , 324.        ,  20.1178712 ,  66.        ],\n",
       "       [325.        , 326.        ,  21.46398931,  41.        ],\n",
       "       [322.        , 328.        ,  22.41881148,  11.        ],\n",
       "       [330.        , 331.        ,  25.12873082,  94.        ],\n",
       "       [329.        , 332.        ,  25.82713851,  64.        ],\n",
       "       [112.        , 334.        ,  33.95597247,  95.        ],\n",
       "       [335.        , 336.        ,  47.00506282, 159.        ],\n",
       "       [333.        , 337.        ,  57.92993482, 170.        ]])"
      ]
     },
     "execution_count": 86,
     "metadata": {},
     "output_type": "execute_result"
    }
   ],
   "source": [
    "Z"
   ]
  },
  {
   "cell_type": "code",
   "execution_count": 84,
   "metadata": {
    "ExecuteTime": {
     "end_time": "2021-02-20T06:30:12.904426Z",
     "start_time": "2021-02-20T06:30:12.896528Z"
    }
   },
   "outputs": [
    {
     "data": {
      "text/plain": [
       "array([1, 2, 3, 2, 2, 2, 2, 2, 3, 2, 2, 3, 2, 3, 3, 2, 3, 3, 3, 3, 3, 2,\n",
       "       1, 3, 3, 3, 3, 2, 2, 2, 3, 2, 3, 2, 3, 3, 2, 2, 3, 3, 2, 2, 1, 2,\n",
       "       2, 3, 3, 3, 2, 3, 3, 2, 3, 3, 3, 3, 2, 3, 3, 2, 3, 3, 3, 3, 3, 2,\n",
       "       2, 2, 2, 2, 3, 2, 2, 1, 3, 2, 1, 3, 2, 3, 2, 3, 2, 3, 3, 2, 3, 3,\n",
       "       2, 3, 3, 3, 3, 3, 3, 2, 2, 2, 3, 3, 3, 3, 2, 3, 3, 3, 3, 3, 2, 3,\n",
       "       1, 1, 3, 3, 2, 3, 3, 2, 2, 3, 1, 3, 2, 3, 3, 3, 2, 3, 3, 3, 3, 3,\n",
       "       3, 3, 3, 3, 3, 3, 1, 3, 3, 3, 3, 2, 3, 1, 3, 2, 2, 2, 2, 3, 2, 3,\n",
       "       2, 2, 3, 3, 2, 2, 3, 2, 2, 1, 2, 2, 2, 3, 3, 3], dtype=int32)"
      ]
     },
     "execution_count": 84,
     "metadata": {},
     "output_type": "execute_result"
    }
   ],
   "source": [
    "Fcluster(Z, t=40, criterion='distance')"
   ]
  },
  {
   "cell_type": "markdown",
   "metadata": {},
   "source": [
    "Falta dar um jeito de ler o código do cara e entender o critério dele pra separar um trajetória em duas, no caso, em uma parcela de\n",
    "trajetória estacionária (periódica) e outro tipo (caótica ou \"tumbling\")."
   ]
  },
  {
   "cell_type": "code",
   "execution_count": 150,
   "metadata": {
    "ExecuteTime": {
     "end_time": "2021-02-19T05:40:04.813806Z",
     "start_time": "2021-02-19T05:40:04.804185Z"
    }
   },
   "outputs": [],
   "source": [
    "mat = scipy.io.loadmat('classification/Field1997_data.mat')"
   ]
  },
  {
   "cell_type": "code",
   "execution_count": 165,
   "metadata": {
    "ExecuteTime": {
     "end_time": "2021-02-19T06:29:55.536629Z",
     "start_time": "2021-02-19T06:29:55.500170Z"
    }
   },
   "outputs": [
    {
     "data": {
      "text/plain": [
       "{'__header__': b'MATLAB 5.0 MAT-file, Platform: MACI64, Created on: Wed Jun 12 09:44:01 2019',\n",
       " '__version__': '1.0',\n",
       " '__globals__': [],\n",
       " 'c': array([[2.38277644e+01, 3.89184311e-03, 1.00000000e+00],\n",
       "        [3.36187395e+01, 3.89184311e-03, 1.00000000e+00],\n",
       "        [2.40504822e+01, 4.83471860e-03, 1.00000000e+00],\n",
       "        [3.62164057e+01, 4.83471860e-03, 1.00000000e+00],\n",
       "        [3.65549199e+01, 5.12939850e-03, 1.00000000e+00],\n",
       "        [4.12545834e+01, 5.38863962e-03, 1.00000000e+00],\n",
       "        [4.69936378e+01, 5.23156373e-03, 1.00000000e+00],\n",
       "        [7.20944119e+01, 3.89184311e-03, 1.00000000e+00],\n",
       "        [6.63036129e+01, 4.60212597e-03, 1.00000000e+00],\n",
       "        [7.20944119e+01, 4.97987935e-03, 1.00000000e+00],\n",
       "        [7.34484412e+01, 5.49596830e-03, 1.00000000e+00],\n",
       "        [5.92995386e+01, 5.44203937e-03, 1.00000000e+00],\n",
       "        [6.88175415e+01, 5.33576384e-03, 1.00000000e+00],\n",
       "        [2.71425194e+01, 6.56341608e-03, 1.00000000e+00],\n",
       "        [4.08725483e+01, 6.62845751e-03, 1.00000000e+00],\n",
       "        [4.40307046e+01, 6.49901287e-03, 1.00000000e+00],\n",
       "        [5.45364550e+01, 6.49901287e-03, 1.00000000e+00],\n",
       "        [5.92995386e+01, 6.49901287e-03, 1.00000000e+00],\n",
       "        [8.21236915e+01, 6.43524161e-03, 1.00000000e+00],\n",
       "        [6.04132631e+01, 7.53503883e-03, 1.00000000e+00],\n",
       "        [6.63036129e+01, 7.68511861e-03, 1.00000000e+00],\n",
       "        [7.27682772e+01, 8.65049686e-03, 1.00000000e+00],\n",
       "        [6.69233517e+01, 9.08769519e-03, 1.00000000e+00],\n",
       "        [3.29989747e+01, 8.23433162e-03, 1.00000000e+00],\n",
       "        [3.58810263e+01, 9.73714261e-03, 1.00000000e+00],\n",
       "        [3.45702799e+01, 1.11785916e-02, 1.00000000e+00],\n",
       "        [4.36229614e+01, 1.28334271e-02, 1.00000000e+00],\n",
       "        [4.24222477e+01, 1.47332380e-02, 1.00000000e+00],\n",
       "        [4.78762411e+01, 7.68511861e-03, 1.00000000e+00],\n",
       "        [4.61273054e+01, 8.15353263e-03, 1.00000000e+00],\n",
       "        [4.74328866e+01, 9.08769519e-03, 1.00000000e+00],\n",
       "        [5.01559539e+01, 9.73714261e-03, 1.00000000e+00],\n",
       "        [5.50462064e+01, 1.05363903e-02, 1.00000000e+00],\n",
       "        [5.50462064e+01, 1.17435605e-02, 1.00000000e+00],\n",
       "        [6.38815189e+01, 1.29606024e-02, 1.00000000e+00],\n",
       "        [5.98538105e+01, 1.30890379e-02, 1.00000000e+00],\n",
       "        [6.15479049e+01, 1.47332380e-02, 1.00000000e+00],\n",
       "        [5.82063457e+01, 1.96106442e-02, 1.00000000e+00],\n",
       "        [5.06247609e+01, 1.59425770e-02, 1.00000000e+00],\n",
       "        [8.21236915e+01, 7.53503883e-03, 1.00000000e+00],\n",
       "        [8.52374449e+01, 7.31539658e-03, 1.00000000e+00],\n",
       "        [8.92961783e+01, 9.64159736e-03, 1.00000000e+00],\n",
       "        [7.20944119e+01, 9.64159736e-03, 1.00000000e+00],\n",
       "        [8.52374449e+01, 1.18599355e-02, 1.00000000e+00],\n",
       "        [6.94607780e+01, 1.62601146e-02, 1.00000000e+00],\n",
       "        [7.14267868e+01, 1.62601146e-02, 1.00000000e+00],\n",
       "        [5.66042270e+01, 2.12203322e-02, 1.00000000e+00],\n",
       "        [6.81802617e+01, 2.43617082e-02, 1.00000000e+00],\n",
       "        [8.84692575e+01, 2.48469346e-02, 1.00000000e+00],\n",
       "        [7.55273163e+01, 2.12203322e-02, 1.00000000e+00],\n",
       "        [7.76650316e+01, 1.96106442e-02, 1.00000000e+00],\n",
       "        [9.61959509e+01, 1.72511814e-02, 1.00000000e+00],\n",
       "        [8.92961783e+01, 4.64773162e-03, 1.00000000e+00],\n",
       "        [9.26818795e+01, 1.37505613e-02, 1.00000000e+00],\n",
       "        [9.18236057e+01, 1.28334271e-02, 1.00000000e+00],\n",
       "        [1.47548849e+02, 4.74675006e-03, 2.00000000e+00],\n",
       "        [1.95422599e+02, 4.85066074e-03, 2.00000000e+00],\n",
       "        [1.67176552e+02, 1.17436684e-03, 2.00000000e+00],\n",
       "        [1.41532436e+02, 5.52367500e-03, 2.00000000e+00],\n",
       "        [1.58699500e+02, 5.76815856e-03, 2.00000000e+00],\n",
       "        [1.95422599e+02, 5.76815856e-03, 2.00000000e+00],\n",
       "        [1.83592534e+02, 6.78533372e-03, 2.00000000e+00],\n",
       "        [1.46021184e+02, 6.71226268e-03, 2.00000000e+00],\n",
       "        [1.27542923e+02, 6.71226268e-03, 2.00000000e+00],\n",
       "        [9.73054957e+01, 5.12049848e-03, 2.00000000e+00],\n",
       "        [1.01441863e+02, 7.64356849e-03, 2.00000000e+00],\n",
       "        [1.03575524e+02, 6.71226268e-03, 2.00000000e+00],\n",
       "        [1.12568487e+02, 6.71226268e-03, 2.00000000e+00],\n",
       "        [1.13746172e+02, 7.89592411e-03, 2.00000000e+00],\n",
       "        [1.13746172e+02, 8.15661136e-03, 2.00000000e+00],\n",
       "        [1.09108088e+02, 8.15661136e-03, 2.00000000e+00],\n",
       "        [1.35761346e+02, 7.56125515e-03, 2.00000000e+00],\n",
       "        [1.53821015e+02, 8.15661136e-03, 2.00000000e+00],\n",
       "        [1.65445669e+02, 7.72677791e-03, 2.00000000e+00],\n",
       "        [1.85513269e+02, 7.81089316e-03, 2.00000000e+00],\n",
       "        [1.70692833e+02, 8.61035605e-03, 2.00000000e+00],\n",
       "        [1.49092497e+02, 8.89463057e-03, 2.00000000e+00],\n",
       "        [1.52228410e+02, 9.38943058e-03, 2.00000000e+00],\n",
       "        [1.68925544e+02, 9.38943058e-03, 2.00000000e+00],\n",
       "        [1.53821015e+02, 1.04631376e-02, 2.00000000e+00],\n",
       "        [1.53821015e+02, 1.02389966e-02, 2.00000000e+00],\n",
       "        [1.21075580e+02, 9.08934213e-03, 2.00000000e+00],\n",
       "        [1.11402995e+02, 9.38943058e-03, 2.00000000e+00],\n",
       "        [1.19822009e+02, 1.00196572e-02, 2.00000000e+00],\n",
       "        [1.26222392e+02, 1.03504604e-02, 2.00000000e+00],\n",
       "        [1.28877270e+02, 1.10451922e-02, 2.00000000e+00],\n",
       "        [1.23622204e+02, 1.15340638e-02, 2.00000000e+00],\n",
       "        [1.26222392e+02, 1.16596259e-02, 2.00000000e+00],\n",
       "        [1.41532436e+02, 3.33276448e-02, 2.00000000e+00],\n",
       "        [1.37181674e+02, 2.20860696e-02, 2.00000000e+00],\n",
       "        [1.37181674e+02, 2.02535096e-02, 2.00000000e+00],\n",
       "        [1.21075580e+02, 1.87751932e-02, 2.00000000e+00],\n",
       "        [1.21075580e+02, 1.79794061e-02, 2.00000000e+00],\n",
       "        [1.14936178e+02, 1.74047800e-02, 2.00000000e+00],\n",
       "        [1.04659125e+02, 1.49567345e-02, 2.00000000e+00],\n",
       "        [1.12568487e+02, 1.44787137e-02, 2.00000000e+00],\n",
       "        [1.14936178e+02, 1.29929360e-02, 2.00000000e+00],\n",
       "        [9.14150289e+01, 1.10451922e-02, 2.00000000e+00],\n",
       "        [9.83235003e+01, 1.10451922e-02, 2.00000000e+00],\n",
       "        [1.01441863e+02, 1.10451922e-02, 2.00000000e+00],\n",
       "        [1.44509336e+02, 1.51195565e-02, 2.00000000e+00],\n",
       "        [1.52228410e+02, 1.47956659e-02, 2.00000000e+00],\n",
       "        [1.40067062e+02, 1.37157209e-02, 2.00000000e+00],\n",
       "        [1.50652294e+02, 1.31343797e-02, 2.00000000e+00],\n",
       "        [1.79810519e+02, 1.91861993e-02, 2.00000000e+00],\n",
       "        [1.83592534e+02, 1.20445734e-02, 2.00000000e+00],\n",
       "        [1.76106413e+02, 1.11654324e-02, 2.00000000e+00],\n",
       "        [1.77948828e+02, 1.08085825e-02, 2.00000000e+00],\n",
       "        [2.03729834e+02, 8.89463057e-03, 2.00000000e+00],\n",
       "        [1.93399267e+02, 1.04631376e-02, 2.00000000e+00],\n",
       "        [2.56149660e+02, 9.80501647e-03, 2.00000000e+00],\n",
       "        [2.50872964e+02, 8.61035605e-03, 2.00000000e+00],\n",
       "        [2.43161031e+02, 7.72677791e-03, 2.00000000e+00],\n",
       "        [2.50872964e+02, 1.25776786e-02, 2.00000000e+00],\n",
       "        [2.50872964e+02, 1.15340638e-02, 2.00000000e+00],\n",
       "        [2.53497582e+02, 1.14098538e-02, 2.00000000e+00],\n",
       "        [1.77948828e+02, 1.74047800e-02, 2.00000000e+00],\n",
       "        [1.77948828e+02, 1.68485190e-02, 2.00000000e+00],\n",
       "        [2.16857477e+02, 1.34219032e-02, 2.00000000e+00],\n",
       "        [2.16857477e+02, 1.29929360e-02, 2.00000000e+00],\n",
       "        [3.39260066e+02, 4.69563246e-03, 2.00000000e+00],\n",
       "        [4.63587359e+02, 3.04511271e-03, 2.00000000e+00],\n",
       "        [3.68716382e+02, 5.70604145e-03, 2.00000000e+00],\n",
       "        [4.58787550e+02, 8.51763140e-03, 2.00000000e+00],\n",
       "        [5.47584275e+02, 8.51763140e-03, 2.00000000e+00],\n",
       "        [4.98621861e+02, 7.72677791e-03, 2.00000000e+00],\n",
       "        [6.81349840e+02, 8.24540587e-03, 2.00000000e+00],\n",
       "        [7.32841219e+02, 8.33516701e-03, 2.00000000e+00],\n",
       "        [5.53313071e+02, 6.29006792e-03, 2.00000000e+00],\n",
       "        [5.53313071e+02, 5.95859674e-03, 2.00000000e+00],\n",
       "        [1.95162686e+02, 3.39105225e-02, 3.00000000e+00],\n",
       "        [2.31255361e+02, 2.53663302e-02, 3.00000000e+00],\n",
       "        [2.22203965e+02, 2.20420874e-02, 3.00000000e+00],\n",
       "        [3.24699677e+02, 3.39105225e-02, 3.00000000e+00],\n",
       "        [4.84040734e+02, 3.52048469e-02, 3.00000000e+00],\n",
       "        [3.24699677e+02, 2.00716360e-02, 3.00000000e+00],\n",
       "        [3.31246928e+02, 1.96992088e-02, 3.00000000e+00],\n",
       "        [3.37926198e+02, 1.82773330e-02, 3.00000000e+00],\n",
       "        [2.82352630e+02, 1.77709989e-02, 3.00000000e+00],\n",
       "        [2.90935583e+02, 1.72786917e-02, 3.00000000e+00],\n",
       "        [3.24699677e+02, 1.51555928e-02, 3.00000000e+00],\n",
       "        [3.44740148e+02, 1.50143292e-02, 3.00000000e+00],\n",
       "        [3.58783011e+02, 1.39306049e-02, 3.00000000e+00],\n",
       "        [4.33707464e+02, 1.48743823e-02, 3.00000000e+00],\n",
       "        [4.33707464e+02, 1.31694612e-02, 3.00000000e+00],\n",
       "        [4.33707464e+02, 1.13369463e-02, 3.00000000e+00],\n",
       "        [5.19071185e+02, 1.04206099e-02, 3.00000000e+00],\n",
       "        [6.40120816e+02, 1.08183522e-02, 3.00000000e+00],\n",
       "        [8.05317213e+02, 1.13369463e-02, 3.00000000e+00],\n",
       "        [7.81559376e+02, 1.31694612e-02, 3.00000000e+00],\n",
       "        [6.46542311e+02, 1.50143292e-02, 3.00000000e+00],\n",
       "        [7.36125681e+02, 1.69580873e-02, 3.00000000e+00],\n",
       "        [7.14409079e+02, 1.89749571e-02, 3.00000000e+00],\n",
       "        [6.72878973e+02, 2.12316986e-02, 3.00000000e+00],\n",
       "        [7.58502425e+02, 2.22494723e-02, 3.00000000e+00],\n",
       "        [7.81559376e+02, 2.46636108e-02, 3.00000000e+00],\n",
       "        [5.29537747e+02, 2.04511042e-02, 3.00000000e+00],\n",
       "        [5.29537747e+02, 1.91534847e-02, 3.00000000e+00],\n",
       "        [4.65095252e+02, 1.89749571e-02, 3.00000000e+00],\n",
       "        [4.16732039e+02, 1.96992088e-02, 3.00000000e+00],\n",
       "        [8.55021410e+02, 1.98845505e-02, 3.00000000e+00],\n",
       "        [9.07793352e+02, 1.84492969e-02, 3.00000000e+00],\n",
       "        [9.07793352e+02, 1.50143292e-02, 3.00000000e+00],\n",
       "        [9.07793352e+02, 1.35446875e-02, 3.00000000e+00],\n",
       "        [1.06499365e+03, 1.64883000e-02, 3.00000000e+00],\n",
       "        [1.06499365e+03, 1.60315272e-02, 3.00000000e+00],\n",
       "        [1.48047837e+03, 1.98845505e-02, 3.00000000e+00],\n",
       "        [1.70251946e+03, 1.74412598e-02, 3.00000000e+00],\n",
       "        [1.70251946e+03, 1.61823612e-02, 3.00000000e+00],\n",
       "        [1.35327810e+03, 1.36721239e-02, 3.00000000e+00],\n",
       "        [1.28739568e+03, 1.29251031e-02, 3.00000000e+00],\n",
       "        [1.54078510e+03, 1.32933672e-02, 3.00000000e+00],\n",
       "        [1.52548194e+03, 1.12312759e-02, 3.00000000e+00],\n",
       "        [2.22913886e+03, 9.48905990e-03, 3.00000000e+00],\n",
       "        [2.83254720e+03, 1.09201376e-02, 3.00000000e+00],\n",
       "        [1.32652992e+03, 9.22618596e-03, 3.00000000e+00],\n",
       "        [1.13072509e+03, 8.32310284e-03, 3.00000000e+00],\n",
       "        [9.73491150e+02, 8.72208340e-03, 3.00000000e+00],\n",
       "        [9.44771978e+02, 9.40061341e-03, 3.00000000e+00],\n",
       "        [9.63822380e+02, 1.22188982e-02, 3.00000000e+00],\n",
       "        [1.44139291e+04, 2.89198189e-02, 3.00000000e+00],\n",
       "        [1.68560994e+03, 3.93918518e-02, 3.00000000e+00],\n",
       "        [1.44139291e+04, 3.08790928e-02, 3.00000000e+00],\n",
       "        [8.47452921e+03, 1.26722727e-01, 4.00000000e+00],\n",
       "        [1.42010356e+04, 6.82440469e-02, 4.00000000e+00],\n",
       "        [8.56248196e+03, 4.21211182e-02, 4.00000000e+00],\n",
       "        [6.96494827e+03, 4.53304677e-02, 4.00000000e+00],\n",
       "        [7.03723386e+03, 4.92987907e-02, 4.00000000e+00],\n",
       "        [5.32514684e+03, 6.34124401e-02, 4.00000000e+00],\n",
       "        [5.32514684e+03, 6.14479205e-02, 4.00000000e+00],\n",
       "        [5.16272892e+03, 4.87843484e-02, 4.00000000e+00],\n",
       "        [6.28169734e+03, 4.87843484e-02, 4.00000000e+00],\n",
       "        [6.21717252e+03, 4.87843484e-02, 4.00000000e+00],\n",
       "        [5.96563343e+03, 5.03440075e-02, 4.00000000e+00],\n",
       "        [5.96563343e+03, 5.36145090e-02, 4.00000000e+00],\n",
       "        [2.59944058e+02, 1.97514633e-02, 3.00000000e+00],\n",
       "        [2.22186126e+02, 2.05575677e-02, 3.00000000e+00],\n",
       "        [1.72844755e+02, 2.53616268e-02, 3.00000000e+00],\n",
       "        [2.26884764e+02, 1.44864765e-02, 3.00000000e+00],\n",
       "        [1.04534132e+03, 1.52292435e-02, 3.00000000e+00]]),\n",
       " 'l1': array([[1.35111213e+02, 5.24561392e-02, 3.00000000e+00],\n",
       "        [1.08522155e+02, 2.91791343e-02, 3.00000000e+00],\n",
       "        [9.87938675e+01, 1.98766879e-02, 3.00000000e+00],\n",
       "        [9.27978054e+01, 1.47457337e-02, 3.00000000e+00],\n",
       "        [8.90039986e+01, 1.19135038e-02, 3.00000000e+00],\n",
       "        [8.90039986e+01, 9.72845716e-03, 3.00000000e+00],\n",
       "        [8.90039986e+01, 7.85990127e-03, 3.00000000e+00],\n",
       "        [8.90039986e+01, 6.84241827e-03, 3.00000000e+00],\n",
       "        [8.90039986e+01, 5.70790545e-03, 3.00000000e+00],\n",
       "        [9.47549266e+01, 4.37213104e-03, 3.00000000e+00],\n",
       "        [9.77682722e+01, 3.38486159e-03, 3.00000000e+00],\n",
       "        [1.06280678e+02, 2.62052712e-03, 3.00000000e+00],\n",
       "        [1.16746196e+02, 2.09474149e-03, 3.00000000e+00],\n",
       "        [1.26910955e+02, 1.72888554e-03, 3.00000000e+00],\n",
       "        [1.32320551e+02, 1.45768854e-03, 3.00000000e+00],\n",
       "        [1.45350230e+02, 1.16521620e-03, 3.00000000e+00],\n",
       "        [1.58005461e+02, 8.64428112e-04, 3.00000000e+00],\n",
       "        [1.61337823e+02, 6.41285248e-04, 3.00000000e+00],\n",
       "        [1.61337823e+02, 4.96476840e-04, 3.00000000e+00],\n",
       "        [1.61337823e+02, 4.01117965e-04, 3.00000000e+00],\n",
       "        [1.56365181e+02, 3.24074779e-04, 3.00000000e+00],\n",
       "        [1.46874963e+02, 2.59052036e-04, 3.00000000e+00],\n",
       "        [1.40870346e+02, 2.02705764e-04, 3.00000000e+00]]),\n",
       " 'l2': array([[1.55420726e+02, 5.67569690e-02, 3.00000000e+00],\n",
       "        [1.55420726e+02, 4.05142107e-02, 3.00000000e+00],\n",
       "        [1.62074618e+02, 2.60890717e-02, 3.00000000e+00],\n",
       "        [1.98200235e+02, 1.84492969e-02, 3.00000000e+00],\n",
       "        [2.32427359e+02, 1.44623196e-02, 3.00000000e+00],\n",
       "        [2.84234248e+02, 1.29251031e-02, 3.00000000e+00],\n",
       "        [3.44686559e+02, 1.14436109e-02, 3.00000000e+00],\n",
       "        [4.28643197e+02, 1.01319293e-02, 3.00000000e+00],\n",
       "        [5.51229413e+02, 9.75942369e-03, 3.00000000e+00],\n",
       "        [7.39222036e+02, 8.97059437e-03, 3.00000000e+00],\n",
       "        [1.01657885e+03, 8.56024600e-03, 3.00000000e+00],\n",
       "        [1.38632809e+03, 8.32310284e-03, 3.00000000e+00],\n",
       "        [1.97150121e+03, 8.56024600e-03, 3.00000000e+00],\n",
       "        [2.89929853e+03, 8.56024600e-03, 3.00000000e+00],\n",
       "        [8.91693770e+03, 9.66845717e-03, 3.00000000e+00],\n",
       "        [2.69684571e+04, 1.09201376e-02, 3.00000000e+00]]),\n",
       " 'l3': array([[1.62507797e+02, 3.75899219e-02, 3.00000000e+00],\n",
       "        [3.44348348e+02, 3.75899219e-02, 3.00000000e+00],\n",
       "        [7.22488104e+02, 3.93918518e-02, 3.00000000e+00],\n",
       "        [1.97935262e+03, 4.01365822e-02, 3.00000000e+00],\n",
       "        [4.58423521e+03, 4.08953921e-02, 3.00000000e+00],\n",
       "        [1.16046098e+04, 4.20605901e-02, 3.00000000e+00],\n",
       "        [3.44073979e+04, 4.49101313e-02, 3.00000000e+00]]),\n",
       " 's': array([[1.33008828e+02, 8.55077590e-04, 1.00000000e+00],\n",
       "        [1.55309865e+02, 5.06120369e-04, 1.00000000e+00],\n",
       "        [9.33274585e+01, 2.37305584e-03, 1.00000000e+00],\n",
       "        [9.43665133e+01, 2.97109017e-03, 1.00000000e+00],\n",
       "        [8.35458233e+01, 3.89815122e-03, 1.00000000e+00],\n",
       "        [6.62135512e+01, 5.51235895e-03, 1.00000000e+00],\n",
       "        [9.64794564e+01, 4.40280666e-03, 1.00000000e+00],\n",
       "        [1.03106410e+02, 4.24093519e-03, 1.00000000e+00],\n",
       "        [1.45327641e+02, 1.16470611e-03, 1.00000000e+00],\n",
       "        [1.25845624e+02, 1.69393267e-03, 1.00000000e+00],\n",
       "        [1.50235869e+02, 3.32077193e-04, 1.00000000e+00],\n",
       "        [1.65811260e+02, 3.28981938e-04, 2.00000000e+00],\n",
       "        [1.65811260e+02, 4.96729355e-04, 2.00000000e+00],\n",
       "        [1.72060125e+02, 5.45493744e-04, 2.00000000e+00],\n",
       "        [1.62772455e+02, 8.47107505e-04, 2.00000000e+00],\n",
       "        [1.72060125e+02, 8.47107505e-04, 2.00000000e+00],\n",
       "        [1.85273225e+02, 8.47107505e-04, 2.00000000e+00],\n",
       "        [1.62772455e+02, 1.15385001e-03, 2.00000000e+00],\n",
       "        [1.31583122e+02, 1.75858808e-03, 2.00000000e+00],\n",
       "        [1.16676929e+02, 2.24339625e-03, 2.00000000e+00],\n",
       "        [1.16676929e+02, 2.39538294e-03, 2.00000000e+00],\n",
       "        [1.24480368e+02, 2.39538294e-03, 2.00000000e+00],\n",
       "        [1.30371791e+02, 2.22248580e-03, 2.00000000e+00],\n",
       "        [1.35285062e+02, 2.22248580e-03, 2.00000000e+00],\n",
       "        [1.12439467e+02, 2.60602097e-03, 2.00000000e+00],\n",
       "        [1.18855175e+02, 2.60602097e-03, 2.00000000e+00],\n",
       "        [1.06370073e+02, 2.88878253e-03, 2.00000000e+00],\n",
       "        [1.19959501e+02, 3.86181698e-03, 2.00000000e+00],\n",
       "        [1.08355900e+02, 3.86181698e-03, 2.00000000e+00],\n",
       "        [1.08355900e+02, 3.68516310e-03, 2.00000000e+00],\n",
       "        [1.18855175e+02, 3.17237703e-03, 2.00000000e+00],\n",
       "        [9.17391268e+01, 6.64779144e-03, 2.00000000e+00],\n",
       "        [1.04420640e+02, 1.41939727e-02, 2.00000000e+00],\n",
       "        [1.01563273e+02, 1.30467101e-02, 2.00000000e+00],\n",
       "        [1.01563273e+02, 1.24499050e-02, 2.00000000e+00],\n",
       "        [9.43201021e+01, 5.51235895e-03, 2.00000000e+00],\n",
       "        [9.97019340e+01, 5.51235895e-03, 2.00000000e+00],\n",
       "        [9.97019340e+01, 5.51235895e-03, 2.00000000e+00],\n",
       "        [1.08355900e+02, 5.77660223e-03, 2.00000000e+00],\n",
       "        [1.15602822e+02, 5.61657392e-03, 2.00000000e+00],\n",
       "        [7.62685225e+02, 1.58645289e-03, 2.00000000e+00],\n",
       "        [1.02535686e+03, 1.89539654e-03, 2.00000000e+00],\n",
       "        [1.07388508e+03, 1.05070164e-03, 2.00000000e+00],\n",
       "        [1.48435295e+03, 1.27904640e-03, 2.00000000e+00],\n",
       "        [4.18206868e+03, 8.63122661e-04, 2.00000000e+00],\n",
       "        [5.57063004e+03, 6.10370748e-04, 2.00000000e+00],\n",
       "        [8.06429587e+03, 4.15764041e-04, 2.00000000e+00],\n",
       "        [1.03517409e+04, 2.80564774e-04, 2.00000000e+00],\n",
       "        [1.03517409e+04, 8.15963159e-04, 2.00000000e+00],\n",
       "        [1.59834161e+03, 2.39538294e-03, 2.00000000e+00],\n",
       "        [1.48435295e+03, 2.65528961e-03, 2.00000000e+00],\n",
       "        [1.80253954e+03, 2.51020926e-03, 2.00000000e+00],\n",
       "        [5.83264151e+02, 3.86181698e-03, 2.00000000e+00],\n",
       "        [7.28219939e+02, 5.66941795e-03, 2.00000000e+00],\n",
       "        [8.84321508e+02, 3.54967616e-03, 2.00000000e+00],\n",
       "        [1.02535686e+03, 3.54967616e-03, 2.00000000e+00],\n",
       "        [1.09393348e+03, 3.75483366e-03, 2.00000000e+00],\n",
       "        [1.17794047e+03, 3.45134004e-03, 2.00000000e+00],\n",
       "        [1.36580343e+03, 3.89815122e-03, 2.00000000e+00],\n",
       "        [1.47068826e+03, 3.79016134e-03, 2.00000000e+00],\n",
       "        [1.43044434e+03, 3.54967616e-03, 2.00000000e+00],\n",
       "        [1.54029318e+03, 3.75483366e-03, 2.00000000e+00],\n",
       "        [1.68954174e+03, 3.75483366e-03, 2.00000000e+00],\n",
       "        [1.72108387e+03, 3.89815122e-03, 2.00000000e+00],\n",
       "        [1.87047115e+03, 3.82582140e-03, 2.00000000e+00],\n",
       "        [2.10943530e+03, 4.16224505e-03, 2.00000000e+00],\n",
       "        [2.51466839e+03, 3.93482731e-03, 2.00000000e+00],\n",
       "        [2.73293753e+03, 3.93482731e-03, 2.00000000e+00],\n",
       "        [3.38072957e+03, 4.08501500e-03, 2.00000000e+00],\n",
       "        [4.37999816e+03, 3.79016134e-03, 2.00000000e+00],\n",
       "        [1.73707507e+03, 5.66941795e-03, 2.00000000e+00],\n",
       "        [1.24515284e+03, 5.72275916e-03, 2.00000000e+00],\n",
       "        [1.14570731e+03, 6.58582810e-03, 2.00000000e+00],\n",
       "        [1.40422874e+03, 6.83720136e-03, 2.00000000e+00],\n",
       "        [1.65857769e+03, 6.83720136e-03, 2.00000000e+00],\n",
       "        [1.95899705e+03, 6.83720136e-03, 2.00000000e+00],\n",
       "        [2.01411119e+03, 5.83095189e-03, 2.00000000e+00],\n",
       "        [2.33533020e+03, 5.72275916e-03, 2.00000000e+00],\n",
       "        [2.80982559e+03, 5.72275916e-03, 2.00000000e+00],\n",
       "        [3.60683526e+03, 5.51235895e-03, 2.00000000e+00],\n",
       "        [3.57363138e+03, 6.16795828e-03, 2.00000000e+00],\n",
       "        [3.91990270e+03, 6.16795828e-03, 2.00000000e+00],\n",
       "        [4.84904278e+03, 6.46362871e-03, 2.00000000e+00],\n",
       "        [5.78056821e+03, 6.34369672e-03, 2.00000000e+00],\n",
       "        [6.89104435e+03, 6.34369672e-03, 2.00000000e+00],\n",
       "        [6.70247781e+03, 8.24552411e-03, 2.00000000e+00],\n",
       "        [5.07853889e+03, 7.94237314e-03, 2.00000000e+00],\n",
       "        [4.37999816e+03, 8.16866849e-03, 2.00000000e+00],\n",
       "        [3.25794853e+03, 7.94237314e-03, 2.00000000e+00],\n",
       "        [3.11072380e+03, 7.94237314e-03, 2.00000000e+00],\n",
       "        [2.80982559e+03, 7.94237314e-03, 2.00000000e+00],\n",
       "        [2.44585701e+03, 7.03200797e-03, 2.00000000e+00],\n",
       "        [2.99774880e+03, 6.83720136e-03, 2.00000000e+00],\n",
       "        [1.85325193e+03, 8.01709965e-03, 2.00000000e+00],\n",
       "        [1.75321485e+03, 8.01709965e-03, 2.00000000e+00],\n",
       "        [1.51206439e+03, 7.94237314e-03, 2.00000000e+00],\n",
       "        [1.40422874e+03, 7.94237314e-03, 2.00000000e+00],\n",
       "        [2.49151881e+03, 8.56024600e-03, 2.00000000e+00],\n",
       "        [9.00830941e+02, 5.30969421e-03, 2.00000000e+00],\n",
       "        [8.84321508e+02, 7.65036767e-03, 2.00000000e+00],\n",
       "        [6.52998088e+03, 1.32704319e-02, 3.00000000e+00],\n",
       "        [1.50808221e+04, 1.31380111e-02, 3.00000000e+00],\n",
       "        [1.90489278e+04, 2.65100175e-02, 3.00000000e+00],\n",
       "        [8.82969504e+03, 2.35041638e-02, 3.00000000e+00],\n",
       "        [3.43507903e+03, 2.54676151e-02, 3.00000000e+00],\n",
       "        [3.11650456e+03, 2.37410673e-02, 3.00000000e+00],\n",
       "        [1.92946250e+03, 4.70390816e-02, 4.00000000e+00],\n",
       "        [4.35654298e+03, 4.70390816e-02, 4.00000000e+00]]),\n",
       " 'tri': array([[1.79380226e+01, 3.79959569e-02, 1.00000000e+00],\n",
       "        [2.40912379e+01, 3.92016204e-02, 1.00000000e+00],\n",
       "        [2.60624354e+01, 3.92016204e-02, 1.00000000e+00],\n",
       "        [3.60502267e+01, 3.92016204e-02, 1.00000000e+00],\n",
       "        [4.70093337e+01, 3.83936673e-02, 1.00000000e+00],\n",
       "        [5.23779420e+01, 3.87955406e-02, 1.00000000e+00],\n",
       "        [6.63156560e+01, 3.96119507e-02, 1.00000000e+00],\n",
       "        [7.83785662e+01, 3.79959569e-02, 1.00000000e+00],\n",
       "        [1.05264484e+02, 3.92016204e-02, 1.00000000e+00],\n",
       "        [1.11660296e+02, 3.92016204e-02, 1.00000000e+00],\n",
       "        [1.32318776e+02, 4.05818968e-02, 2.00000000e+00],\n",
       "        [1.97657386e+02, 1.14476541e-02, 2.00000000e+00],\n",
       "        [3.33036697e+02, 1.13285472e-02, 2.00000000e+00],\n",
       "        [6.25816749e+03, 1.32933672e-02, 3.00000000e+00],\n",
       "        [9.45680743e+03, 1.31694612e-02, 3.00000000e+00],\n",
       "        [1.15693344e+04, 1.31694612e-02, 3.00000000e+00],\n",
       "        [1.33614615e+04, 1.31694612e-02, 3.00000000e+00],\n",
       "        [1.52837474e+04, 1.30467101e-02, 3.00000000e+00],\n",
       "        [2.37703914e+04, 1.30467101e-02, 3.00000000e+00],\n",
       "        [5.73047150e+02, 1.13369463e-02, 3.00000000e+00],\n",
       "        [2.01980984e+02, 4.04202922e-02, 4.00000000e+00],\n",
       "        [2.31042118e+02, 4.04202922e-02, 4.00000000e+00],\n",
       "        [2.50449150e+02, 3.96027129e-02, 4.00000000e+00],\n",
       "        [3.74853509e+02, 4.04202922e-02, 4.00000000e+00],\n",
       "        [4.48438073e+02, 4.12547501e-02, 4.00000000e+00],\n",
       "        [7.14642451e+02, 4.08353898e-02, 4.00000000e+00],\n",
       "        [1.33823367e+03, 4.04202922e-02, 4.00000000e+00],\n",
       "        [8.40235737e+03, 4.80875664e-02, 4.00000000e+00],\n",
       "        [1.20249407e+04, 4.80875664e-02, 4.00000000e+00],\n",
       "        [1.53168040e+04, 4.95843434e-02, 4.00000000e+00],\n",
       "        [2.39756505e+04, 4.85814033e-02, 4.00000000e+00],\n",
       "        [3.19385970e+04, 4.85814033e-02, 4.00000000e+00],\n",
       "        [3.31042699e+04, 4.85814033e-02, 4.00000000e+00],\n",
       "        [2.05563597e+01, 1.07646431e-02, 1.00000000e+00],\n",
       "        [2.47490645e+01, 1.05538422e-02, 1.00000000e+00],\n",
       "        [3.22191074e+01, 1.05538422e-02, 1.00000000e+00],\n",
       "        [3.65821714e+01, 1.06587215e-02, 1.00000000e+00],\n",
       "        [4.90402301e+01, 1.07646431e-02, 1.00000000e+00],\n",
       "        [7.17828049e+01, 1.09796545e-02, 1.00000000e+00]])}"
      ]
     },
     "execution_count": 165,
     "metadata": {},
     "output_type": "execute_result"
    }
   ],
   "source": [
    "mat"
   ]
  },
  {
   "cell_type": "code",
   "execution_count": null,
   "metadata": {},
   "outputs": [],
   "source": []
  },
  {
   "cell_type": "markdown",
   "metadata": {},
   "source": [
    "# Hexagons"
   ]
  },
  {
   "cell_type": "markdown",
   "metadata": {},
   "source": [
    "# Squares"
   ]
  },
  {
   "cell_type": "markdown",
   "metadata": {},
   "source": [
    "# Crosses"
   ]
  }
 ],
 "metadata": {
  "kernelspec": {
   "display_name": "Python 3",
   "language": "python",
   "name": "python3"
  },
  "language_info": {
   "codemirror_mode": {
    "name": "ipython",
    "version": 3
   },
   "file_extension": ".py",
   "mimetype": "text/x-python",
   "name": "python",
   "nbconvert_exporter": "python",
   "pygments_lexer": "ipython3",
   "version": "3.7.4"
  }
 },
 "nbformat": 4,
 "nbformat_minor": 4
}

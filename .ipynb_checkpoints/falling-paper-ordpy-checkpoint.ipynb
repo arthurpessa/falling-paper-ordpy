{
 "cells": [
  {
   "cell_type": "code",
   "execution_count": 1,
   "metadata": {
    "ExecuteTime": {
     "end_time": "2021-03-06T06:13:42.490441Z",
     "start_time": "2021-03-06T06:13:41.042211Z"
    },
    "init_cell": true
   },
   "outputs": [
    {
     "data": {
      "text/html": [
       "<style>.container {width:99.5% !important;} </style>"
      ],
      "text/plain": [
       "<IPython.core.display.HTML object>"
      ]
     },
     "metadata": {},
     "output_type": "display_data"
    }
   ],
   "source": [
    "import numpy as np\n",
    "\n",
    "import scipy.io\n",
    "import scipy.stats\n",
    "\n",
    "import matplotlib.pyplot as plt\n",
    "import matplotlib as mpl\n",
    "import seaborn as sns \n",
    "\n",
    "import itertools\n",
    "\n",
    "#extend notebook\n",
    "from IPython.core.display import display, HTML\n",
    "display(HTML(\"<style>.container {width:99.5% !important;} </style>\"))\n",
    "\n",
    "from tslearn.metrics import dtw as time_warping\n",
    "\n",
    "import ordpy\n",
    "import tqdm"
   ]
  },
  {
   "cell_type": "code",
   "execution_count": 16,
   "metadata": {
    "ExecuteTime": {
     "end_time": "2021-03-06T04:57:09.969984Z",
     "start_time": "2021-03-06T04:57:09.943661Z"
    }
   },
   "outputs": [],
   "source": [
    "from sklearn.cluster import SpectralClustering\n",
    "from sklearn.metrics import silhouette_score"
   ]
  },
  {
   "cell_type": "markdown",
   "metadata": {},
   "source": [
    "# Functions' definitions"
   ]
  },
  {
   "cell_type": "code",
   "execution_count": 2,
   "metadata": {
    "ExecuteTime": {
     "end_time": "2021-03-06T06:13:42.497519Z",
     "start_time": "2021-03-06T06:13:42.492602Z"
    },
    "code_folding": [
     0
    ],
    "init_cell": true
   },
   "outputs": [],
   "source": [
    "def stdfigsize(scale=1, nrows=1, ncols=1, ratio=1.3):\n",
    "    \"\"\"\n",
    "    Returns a tuple to be used as figure size.\n",
    "\n",
    "    Parameters\n",
    "    ----------\n",
    "    returns (7*ratio*scale*nrows, 7.*scale*ncols)\n",
    "    By default: ratio=1.3\n",
    "    ----------\n",
    "    Returns (7*ratio*scale*nrows, 7.*scale*ncols).\n",
    "    \"\"\"\n",
    "\n",
    "    return((7*ratio*scale*ncols, 7.*scale*nrows))"
   ]
  },
  {
   "cell_type": "code",
   "execution_count": 3,
   "metadata": {
    "ExecuteTime": {
     "end_time": "2021-03-06T06:13:42.627579Z",
     "start_time": "2021-03-06T06:13:42.500911Z"
    },
    "code_folding": [
     0
    ],
    "init_cell": true
   },
   "outputs": [],
   "source": [
    "def normalize(array):\n",
    "    \"\"\"\n",
    "    Normalizes an array between 0 and 1.\n",
    "    \"\"\"\n",
    "    return (array-array.min())/(array.max()-array.min())"
   ]
  },
  {
   "cell_type": "code",
   "execution_count": 4,
   "metadata": {
    "ExecuteTime": {
     "end_time": "2021-03-06T06:13:42.732045Z",
     "start_time": "2021-03-06T06:13:42.631408Z"
    },
    "code_folding": [
     6
    ],
    "init_cell": true
   },
   "outputs": [],
   "source": [
    "%matplotlib inline\n",
    "\n",
    "#Style definitions\n",
    "sns.set_style(\"white\")\n",
    "sns.set_style({\"xtick.direction\": \"out\", \"ytick.direction\": \"out\"})\n",
    "\n",
    "rcparams = {\n",
    "    'font.family': 'sans-serif',\n",
    "    'font.sans-serif': ['Helvetica'],\n",
    "    'axes.labelsize': 28,\n",
    "    'axes.titlesize': 28,\n",
    "    'legend.fontsize': 20,\n",
    "    'ytick.right': 'off',\n",
    "    'xtick.top': 'off',\n",
    "    'ytick.left': 'on',\n",
    "    'xtick.bottom': 'on',\n",
    "    'xtick.labelsize': '25',\n",
    "    'ytick.labelsize': '25',\n",
    "    'axes.linewidth': 2.5,\n",
    "    'xtick.major.width': 1.8,\n",
    "    'xtick.minor.width': 1.8,\n",
    "    'xtick.major.size': 14,\n",
    "    'xtick.minor.size': 7,\n",
    "    'xtick.major.pad': 10,\n",
    "    'xtick.minor.pad': 10,\n",
    "    'ytick.major.width': 1.8,\n",
    "    'ytick.minor.width': 1.8,\n",
    "    'ytick.major.size': 14,\n",
    "    'ytick.minor.size': 7,\n",
    "    'ytick.major.pad': 10,\n",
    "    'ytick.minor.pad': 10,\n",
    "    'axes.labelpad': 15,\n",
    "    'axes.titlepad': 15,\n",
    "    'axes.spines.right': False,\n",
    "    'axes.spines.top': False,\n",
    "    'figure.figsize': stdfigsize(),\n",
    "    'lines.linewidth': 3\n",
    "}\n",
    "mpl.rcParams.update(rcparams)"
   ]
  },
  {
   "cell_type": "code",
   "execution_count": 9,
   "metadata": {
    "ExecuteTime": {
     "end_time": "2021-03-06T06:14:20.941658Z",
     "start_time": "2021-03-06T06:14:20.926539Z"
    },
    "code_folding": [
     0
    ],
    "init_cell": true
   },
   "outputs": [],
   "source": [
    "def multi_permutation_entropy(data, dx=3, taux=1, base=2, normalized=True, return_probs=False):\n",
    "    \"\"\"\n",
    "    Calculates Shannon's entropy using an ordinal ditribution extracted from\n",
    "    data (a multidimensional time series).\n",
    "    \n",
    "    Parameters\n",
    "    ----------\n",
    "    data : array\n",
    "           Array object in the format :math:`[[x_{11}, x_{12}, x_{13}, \\\\ldots, x_{1m}],\n",
    "           \\\\ldots, [x_{n1}, x_{n2}, x_{n3}, \\\\ldots, x_{nm}]]` where n is the length \n",
    "           and m is the dimension of a multidimensional time series.\n",
    "    dx : int\n",
    "         Embedding dimension (horizontal axis) (default: 3)\n",
    "    taux : int\n",
    "           Embedding delay (horizontal axis) (default: 1).\n",
    "    base : str, int\n",
    "           Logarithm base in Shannon's entropy. Either 'e' or 2 (default: 'e').\n",
    "    normalized: boolean\n",
    "                If `True`, permutation entropy is normalized by its maximum value.\n",
    "                If `False`, it does not (default: `True`).\n",
    "\n",
    "    Returns\n",
    "    -------\n",
    "     : float\n",
    "       The value of permutation entropy.\n",
    "    \n",
    "    Examples\n",
    "    --------\n",
    "    \"\"\"\n",
    "    try:\n",
    "        ny, nx = np.shape(data)\n",
    "        data   = np.array(data).T\n",
    "    except:\n",
    "        return None\n",
    "    \n",
    "    partitions              = [np.concatenate([[component[i:i+dx*taux:taux]] for i in range(ny-(dx-1)*taux)]) for component in data]\n",
    "    flat_symbolic_sequences = np.apply_along_axis(np.argsort, 2, partitions).reshape(-1, dx)\n",
    "    _, symbols_count        = np.unique(flat_symbolic_sequences, return_counts=True, axis=0)\n",
    "\n",
    "    probabilities = symbols_count/symbols_count.sum()\n",
    "    \n",
    "    if return_probs==True:\n",
    "        miss_symbols  = np.math.factorial(dx)-len(probabilities)\n",
    "        probabilities = np.concatenate((probabilities, np.zeros(miss_symbols)))\n",
    "        \n",
    "        return probabilities\n",
    "    \n",
    "    else:\n",
    "        if normalized==True and base in [2, '2']:        \n",
    "            smax = np.log2(np.math.factorial(dx))\n",
    "            s    = -np.sum(probabilities*np.log2(probabilities))\n",
    "            return s/smax\n",
    "\n",
    "        elif normalized==True and base=='e':        \n",
    "            smax = np.log(np.math.factorial(dx))\n",
    "            s    = -np.sum(probabilities*np.log(probabilities))\n",
    "            return s/smax\n",
    "\n",
    "        elif normalized==False and base in [2, '2']:\n",
    "            return -np.sum(probabilities*np.log2(probabilities))\n",
    "\n",
    "        else:\n",
    "            return -np.sum(probabilities*np.log(probabilities))"
   ]
  },
  {
   "cell_type": "code",
   "execution_count": 10,
   "metadata": {
    "ExecuteTime": {
     "end_time": "2021-03-06T06:14:21.618928Z",
     "start_time": "2021-03-06T06:14:21.589339Z"
    },
    "code_folding": [
     0
    ],
    "init_cell": true
   },
   "outputs": [],
   "source": [
    "def mwpe(data, dx=3, taux=1, base=2, normalized=True, return_probs=False):\n",
    "    \"\"\"\n",
    "    Multivariate weighted permutation entropy.\n",
    "    \n",
    "    Parameters\n",
    "    ----------\n",
    "    data : array\n",
    "           Array object in the format :math:`[[x_{11}, x_{12}, x_{13}, \\\\ldots, x_{1m}],\n",
    "           \\\\ldots, [x_{n1}, x_{n2}, x_{n3}, \\\\ldots, x_{nm}]]` where n is the length \n",
    "           and m is the dimension of a multidimensional time series.\n",
    "    dx : int\n",
    "         Embedding dimension (horizontal axis) (default: 3)\n",
    "    taux : int\n",
    "           Embedding delay (horizontal axis) (default: 1).\n",
    "    base : str, int\n",
    "           Logarithm base in Shannon's entropy. Either 'e' or 2 (default: 'e').\n",
    "    normalized: boolean\n",
    "                If `True`, permutation entropy is normalized by its maximum value.\n",
    "                If `False`, it does not (default: `True`).\n",
    "\n",
    "    Returns\n",
    "    -------\n",
    "     : float\n",
    "       The value of permutation entropy.\n",
    "    \n",
    "    Examples\n",
    "    --------\n",
    "    \"\"\"\n",
    "    try:\n",
    "        ny, nx = np.shape(data)\n",
    "        data   = np.array(data).T\n",
    "    except:\n",
    "        return None\n",
    "    \n",
    "    partitions              = np.asarray([np.concatenate([[component[i:i+dx*taux:taux]] for i in range(ny-(dx-1)*taux)]) for component in data])\n",
    "    weights                 = partitions.var(axis=2).flatten()\n",
    "    flat_symbolic_sequences = np.apply_along_axis(np.argsort, 2, partitions).reshape(-1, dx)\n",
    "    symbols                 = np.unique(flat_symbolic_sequences, return_counts=False, axis=0)\n",
    "\n",
    "\n",
    "    total_variance = []\n",
    "    for symbol in symbols:\n",
    "        z    = flat_symbolic_sequences==symbol\n",
    "        z    = z.sum(axis=1)\n",
    "        args = np.argwhere(z==dx).flatten()\n",
    "        \n",
    "        total_variance.append(sum(weights[args]))\n",
    "\n",
    "    probabilities = total_variance/sum(total_variance)\n",
    "    \n",
    "    if return_probs==True:\n",
    "        miss_symbols  = np.math.factorial(dx)-len(probabilities)\n",
    "        probabilities = np.concatenate((probabilities, np.zeros(miss_symbols)))\n",
    "        \n",
    "        return probabilities\n",
    "    \n",
    "    else:\n",
    "        if normalized==True and base in [2, '2']:        \n",
    "            smax = np.log2(np.math.factorial(dx))\n",
    "            s    = -np.sum(probabilities*np.log2(probabilities))\n",
    "            return s/smax\n",
    "\n",
    "        elif normalized==True and base=='e':        \n",
    "            smax = np.log(np.math.factorial(dx))\n",
    "            s    = -np.sum(probabilities*np.log(probabilities))\n",
    "            return s/smax\n",
    "\n",
    "        elif normalized==False and base in [2, '2']:\n",
    "            return -np.sum(probabilities*np.log2(probabilities))\n",
    "\n",
    "        else:\n",
    "            return -np.sum(probabilities*np.log(probabilities))   "
   ]
  },
  {
   "cell_type": "code",
   "execution_count": null,
   "metadata": {},
   "outputs": [],
   "source": [
    "def weighted_permutation_entropy(data, dx=3, taux=1, base=2, normalized=True):\n",
    "    \"\"\"\n",
    "    Multivariate weighted permutation entropy.\n",
    "    \n",
    "    Parameters\n",
    "    ----------\n",
    "    data : array\n",
    "           Array object in the format :math:`[[x_{11}, x_{12}, x_{13}, \\\\ldots, x_{1m}],\n",
    "           \\\\ldots, [x_{n1}, x_{n2}, x_{n3}, \\\\ldots, x_{nm}]]` where n is the length \n",
    "           and m is the dimension of a multidimensional time series.\n",
    "    dx : int\n",
    "         Embedding dimension (horizontal axis) (default: 3)\n",
    "    taux : int\n",
    "           Embedding delay (horizontal axis) (default: 1).\n",
    "    base : str, int\n",
    "           Logarithm base in Shannon's entropy. Either 'e' or 2 (default: 'e').\n",
    "    normalized: boolean\n",
    "                If `True`, permutation entropy is normalized by its maximum value.\n",
    "                If `False`, it does not (default: `True`).\n",
    "\n",
    "    Returns\n",
    "    -------\n",
    "     : float\n",
    "       The value of permutation entropy.\n",
    "    \n",
    "    Examples\n",
    "    --------\n",
    "    \"\"\"\n",
    "    data   = np.asrray(data)\n",
    "    \n",
    "    partitions              = np.asarray([np.concatenate([[component[i:i+dx*taux:taux]] for i in range(ny-(dx-1)*taux)]) for component in data])\n",
    "    weights                 = partitions.var(axis=2).flatten()\n",
    "    flat_symbolic_sequences = np.apply_along_axis(np.argsort, 2, partitions).reshape(-1, dx)\n",
    "    symbols                 = np.unique(flat_symbolic_sequences, return_counts=False, axis=0)\n",
    "\n",
    "\n",
    "    total_variance = []\n",
    "    for symbol in symbols:\n",
    "        z    = flat_symbolic_sequences==symbol\n",
    "        z    = z.sum(axis=1)\n",
    "        args = np.argwhere(z==dx).flatten()\n",
    "        \n",
    "        total_variance.append(sum(weights[args]))\n",
    "\n",
    "    probabilities = total_variance/sum(total_variance)\n",
    "    \n",
    "    if return_probs==True:\n",
    "        miss_symbols  = np.math.factorial(dx)-len(probabilities)\n",
    "        probabilities = np.concatenate((probabilities, np.zeros(miss_symbols)))\n",
    "        \n",
    "        return probabilities\n",
    "    \n",
    "    else:\n",
    "        if normalized==True and base in [2, '2']:        \n",
    "            smax = np.log2(np.math.factorial(dx))\n",
    "            s    = -np.sum(probabilities*np.log2(probabilities))\n",
    "            return s/smax\n",
    "\n",
    "        elif normalized==True and base=='e':        \n",
    "            smax = np.log(np.math.factorial(dx))\n",
    "            s    = -np.sum(probabilities*np.log(probabilities))\n",
    "            return s/smax\n",
    "\n",
    "        elif normalized==False and base in [2, '2']:\n",
    "            return -np.sum(probabilities*np.log2(probabilities))\n",
    "\n",
    "        else:\n",
    "            return -np.sum(probabilities*np.log(probabilities))   "
   ]
  },
  {
   "cell_type": "code",
   "execution_count": null,
   "metadata": {},
   "outputs": [],
   "source": [
    "a = "
   ]
  },
  {
   "cell_type": "code",
   "execution_count": null,
   "metadata": {},
   "outputs": [],
   "source": [
    "data   = np.asrray(data)\n",
    "    \n",
    "    partitions              = np.asarray([np.concatenate([[component[i:i+dx*taux:taux]] for i in range(ny-(dx-1)*taux)]) for component in data])\n",
    "    weights                 = partitions.var(axis=2).flatten()\n",
    "    flat_symbolic_sequences = np.apply_along_axis(np.argsort, 2, partitions).reshape(-1, dx)\n",
    "    symbols                 = np.unique(flat_symbolic_sequences, return_counts=False, axis=0)\n",
    "\n",
    "\n",
    "    total_variance = []\n",
    "    for symbol in symbols:\n",
    "        z    = flat_symbolic_sequences==symbol\n",
    "        z    = z.sum(axis=1)\n",
    "        args = np.argwhere(z==dx).flatten()\n",
    "        \n",
    "        total_variance.append(sum(weights[args]))\n",
    "\n",
    "    probabilities = total_variance/sum(total_variance)"
   ]
  },
  {
   "cell_type": "markdown",
   "metadata": {},
   "source": [
    "# Disks"
   ]
  },
  {
   "cell_type": "markdown",
   "metadata": {},
   "source": [
    "<p style=\"font-size=200px;\"><b>Classification:</b></p>\n",
    "\n",
    "1) Tumbling\n",
    "\n",
    "2) Chaotic\n",
    "\n",
    "3) Steady or periodic behavior</p>"
   ]
  },
  {
   "cell_type": "code",
   "execution_count": 56,
   "metadata": {
    "ExecuteTime": {
     "end_time": "2021-03-06T06:44:29.521545Z",
     "start_time": "2021-03-06T06:44:29.341033Z"
    },
    "init_cell": true
   },
   "outputs": [],
   "source": [
    "shape = 'Circle'\n",
    "\n",
    "disk_human_class = scipy.io.loadmat('classification/humanClassification{}.mat'.format(shape))['behaviourHuman'][0]\n",
    "disk_feat_class  = scipy.io.loadmat('classification/data{}Classified.mat'.format(shape))\n",
    "\n",
    "#Improving data structure. Extracting data from dataCircle.mat and loading it into data arrays\n",
    "disk_data = scipy.io.loadmat('classification/data{}.mat'.format(shape))"
   ]
  },
  {
   "cell_type": "code",
   "execution_count": 57,
   "metadata": {
    "ExecuteTime": {
     "end_time": "2021-03-06T06:44:30.476609Z",
     "start_time": "2021-03-06T06:44:30.449276Z"
    },
    "init_cell": true
   },
   "outputs": [],
   "source": [
    "#initial condition of the experiments: 0 (dropping with arm holding the paper horizontally) or 1 (dropping vertically)\n",
    "disk_initcons = []\n",
    "for i in range(len(disk_data['data'][0])):\n",
    "    disk_initcons.append(disk_data['data'][0][i]['initialCondition'][0][0][0][0])\n",
    "disk_initcons = np.asarray(disk_initcons)\n",
    "\n",
    "# radii of the disks dropped\n",
    "disk_radii = []\n",
    "for i in range(len(disk_data['data'][0])):\n",
    "    disk_radii.append(disk_data['data'][0][i]['radius'][0][0][0][0])\n",
    "disk_radii = np.asarray(disk_radii)\n",
    "\n",
    "# camera 1 observable area?\n",
    "disk_cam1 = []\n",
    "for i in range(len(disk_data['data'][0])):\n",
    "    disk_cam1.append(disk_data['data'][0][i]['areaCam1'][0][0].flatten())\n",
    "disk_cam1 = np.asarray(disk_cam1)\n",
    "\n",
    "# camera 2 observable area?\n",
    "disk_cam2 = []\n",
    "for i in range(len(disk_data['data'][0])):\n",
    "    disk_cam2.append(disk_data['data'][0][i]['areaCam2'][0][0].flatten())\n",
    "disk_cam2 = np.asarray(disk_cam2)\n",
    "\n",
    "# coordinates (x, y, z) along trajectory from 1m high to the floor.\n",
    "disk_trajectories = []\n",
    "for i in range(len(disk_data['data'][0])):\n",
    "    disk_trajectories.append(disk_data['data'][0][i]['trajectory'][0][0])\n",
    "disk_trajectories = np.asarray(disk_trajectories)"
   ]
  },
  {
   "cell_type": "code",
   "execution_count": 58,
   "metadata": {
    "ExecuteTime": {
     "end_time": "2021-03-06T06:44:31.579283Z",
     "start_time": "2021-03-06T06:44:31.552711Z"
    },
    "init_cell": true
   },
   "outputs": [],
   "source": [
    "clean_disk_trajectories = []\n",
    "clean_disk_initcons     = []\n",
    "clean_disk_class        = []\n",
    "clean_disk_radii        = []\n",
    "clean_disk_cam2         = []\n",
    "clean_disk_cam1         = []\n",
    "\n",
    "for i in range(len(disk_trajectories)):\n",
    "    #vertical trajectory\n",
    "    z                = disk_trajectories[i][::,2]\n",
    "    # removing the last 5 centimeters of the fall.\n",
    "    trajectory       = disk_trajectories[i][z>.05]\n",
    "    \n",
    "    #removing from area series, the last 5cm of the fall\n",
    "    cut_5pc   = len(z)-len(z[z>.05])\n",
    "    area_cam2 = disk_cam2[i][:-cut_5pc]\n",
    "    area_cam1 = disk_cam1[i][:-cut_5pc]\n",
    "\n",
    "#(original comment) Segment steady and periodic behaviours from trajectories. \n",
    "#We only see steady and periodic from horizontal initial condition.\n",
    "    if disk_initcons[i]==0:        \n",
    "        boolean_trajectory = np.sqrt(trajectory[::,0]**2 + trajectory[::,1]**2)<.2*disk_radii[i]\n",
    "        steady_index       = boolean_trajectory.tolist().index(False)\n",
    "\n",
    "        if steady_index>1: #(original comment) Segment trajectory into steady(periodic)/unknown if more than 2 time-steps are steady(periodic)\n",
    "#             pass\n",
    "#             print(steady_index)\n",
    "            clean_disk_trajectories.append(trajectory[:steady_index])\n",
    "            clean_disk_initcons.append(0)\n",
    "            clean_disk_radii.append(disk_radii[i])\n",
    "            clean_disk_class.append(3)\n",
    "            clean_disk_cam1.append(area_cam1[:steady_index])\n",
    "            clean_disk_cam2.append(area_cam2[:steady_index])\n",
    "            \n",
    "            if len(trajectory[steady_index:])>10: #second part of the sliced original trajectory.\n",
    "                clean_disk_trajectories.append(trajectory[steady_index:])\n",
    "                clean_disk_initcons.append(0)\n",
    "                clean_disk_radii.append(disk_radii[i])\n",
    "                clean_disk_class.append(np.nan)\n",
    "                clean_disk_cam1.append(area_cam1[steady_index:])\n",
    "                clean_disk_cam2.append(area_cam2[steady_index:])\n",
    "                \n",
    "                \n",
    "            else: pass\n",
    "        \n",
    "        else: #no segmentation; only one behavior through the whole fall\n",
    "            clean_disk_trajectories.append(trajectory[steady_index:])\n",
    "            clean_disk_initcons.append(0)\n",
    "            clean_disk_radii.append(disk_radii[i])\n",
    "            clean_disk_class.append(np.nan)\n",
    "            clean_disk_cam1.append(area_cam1[steady_index:])\n",
    "            clean_disk_cam2.append(area_cam2[steady_index:])\n",
    "                \n",
    "    else: #no trajectory segmentation\n",
    "        boolean_trajectory = np.sqrt(trajectory[::,0]**2 + trajectory[::,1]**2)<0.01\n",
    "        cut_index          = boolean_trajectory.tolist().index(False)\n",
    "        \n",
    "        if len(trajectory[cut_index:])>10: #second part of the sliced original trajectory.\n",
    "            clean_disk_trajectories.append(trajectory[cut_index:])\n",
    "            clean_disk_initcons.append(1)\n",
    "            clean_disk_radii.append(disk_radii[i])\n",
    "            clean_disk_class.append(np.nan)\n",
    "            clean_disk_cam1.append(area_cam1[cut_index:])\n",
    "            clean_disk_cam2.append(area_cam2[cut_index:])\n",
    "\n",
    "# np.save('pickles/clean_disk_trajectories.npy', clean_disk_trajectories)\n",
    "# np.save('pickles/clean_disk_initcons.npy', clean_disk_initcons)    \n",
    "# np.save('pickles/clean_disk_class.npy', clean_disk_class)       \n",
    "# np.save('pickles/clean_disk_radii.npy', clean_disk_radii)       \n",
    "# np.save('pickles/clean_disk_class.npy', clean_disk_class)       "
   ]
  },
  {
   "cell_type": "code",
   "execution_count": 65,
   "metadata": {
    "ExecuteTime": {
     "end_time": "2021-03-06T06:52:17.114670Z",
     "start_time": "2021-03-06T06:51:32.789796Z"
    }
   },
   "outputs": [
    {
     "name": "stderr",
     "output_type": "stream",
     "text": [
      "100%|██████████| 218/218 [00:44<00:00,  4.92it/s]\n"
     ]
    }
   ],
   "source": [
    "dx_ = 4\n",
    "\n",
    "for i in tqdm.tqdm(range(len(clean_disk_trajectories))):\n",
    "    if not clean_disk_class[i]==3:    \n",
    "        ts     = np.stack((normalize(clean_disk_cam1[i]), normalize(clean_disk_cam2[i])), axis=1)\n",
    "        p      = multi_permutation_entropy(ts, dx=dx_, return_probs=True)\n",
    "        data   = np.asarray(ordpy.renyi_complexity_entropy(p, dx=dx_, alpha=np.logspace(-3, 2, num=100), probs=True))\n",
    "        h_, c_ = data.T\n",
    "        #\n",
    "        #\n",
    "        f, ax  = plt.subplots()\n",
    "        if disk_human_class[i]==1:\n",
    "            ax.plot(h_, c_, '-', color='#C05A3C', label='Tumbling')\n",
    "        if disk_human_class[i]==2:\n",
    "            ax.plot(h_, c_, '-', color='#3888BA', label='Chaotic')\n",
    "            \n",
    "        ax.set_ylabel(r'Statistical complexity, $C$')\n",
    "        ax.set_xlabel(r'Permutation entropy, $H$')\n",
    "        ax.legend(frameon=True)\n",
    "        \n",
    "        f.tight_layout()\n",
    "        f.savefig('figures/sample-{}-renyi(cam1).svg'.format(i), bbox_inches='tight')\n",
    "        plt.close()\n",
    "        \n",
    "    else:\n",
    "        pass"
   ]
  },
  {
   "cell_type": "code",
   "execution_count": 89,
   "metadata": {
    "ExecuteTime": {
     "end_time": "2021-03-06T07:05:44.146124Z",
     "start_time": "2021-03-06T07:05:42.508419Z"
    }
   },
   "outputs": [],
   "source": [
    "# for ts in clean_disk_trajectories:\n",
    "#     disk_ce.append(mwpe(ts, dx=4))\n",
    "\n",
    "dx_     = 4\n",
    "disk_ce = []    \n",
    "pe      = []\n",
    "for t, ts1, ts2, class_ in zip(clean_disk_trajectories, clean_disk_cam1, clean_disk_cam2, clean_disk_class):\n",
    "    if class_==3:\n",
    "        pass\n",
    "    else:\n",
    "        pe.append(multi_permutation_entropy(t, dx=dx_))\n",
    "        \n",
    "        ts = np.stack((normalize(ts1), normalize(ts2)), axis=1)    \n",
    "        p =  multi_permutation_entropy(t, dx=dx_, return_probs=True)    \n",
    "        disk_ce.append(ordpy.complexity_entropy(p, dx=dx_, probs=True))\n",
    "#         disk_ce.append([ordpy.permutation_entropy(ts1, dx=dx_), ordpy.permutation_entropy(ts2, dx=dx_)])\n",
    "#         disk_ce.append(ordpy.complexity_entropy(ts1, dx=dx_))\n",
    "\n",
    "# for i, h_, class_ in zip(range(len(disk_ce)), disk_ce, disk_human_class):\n",
    "#     if class_ == 1:\n",
    "#         plt.plot(i, h_, '.', marker='*', color='grey')\n",
    "#     elif class_ == 2:\n",
    "#         plt.plot(i, h_, '.', marker='*', color='blue')\n",
    "#     if class_ == 3:\n",
    "#         pass\n",
    "\n",
    "# for (h_, c_), class_ in zip(disk_ce, disk_human_class):\n",
    "#     if class_ == 1:\n",
    "#         plt.plot(h_, c_, '.', marker='*', color='grey')\n",
    "#     elif class_ == 2:\n",
    "#         plt.plot(h_,c_,  '.', marker='*', color='blue')\n",
    "#     if class_ == 3:\n",
    "#         pass"
   ]
  },
  {
   "cell_type": "code",
   "execution_count": 75,
   "metadata": {
    "ExecuteTime": {
     "end_time": "2021-03-06T07:00:36.203567Z",
     "start_time": "2021-03-06T07:00:35.976267Z"
    }
   },
   "outputs": [],
   "source": [
    "from mpl_toolkits.mplot3d import Axes3D"
   ]
  },
  {
   "cell_type": "code",
   "execution_count": 90,
   "metadata": {
    "ExecuteTime": {
     "end_time": "2021-03-06T07:05:46.328711Z",
     "start_time": "2021-03-06T07:05:45.491420Z"
    }
   },
   "outputs": [
    {
     "data": {
      "image/png": "[encoded data removed]",
      "text/plain": [
       "<Figure size 655.2x504 with 1 Axes>"
      ]
     },
     "metadata": {},
     "output_type": "display_data"
    }
   ],
   "source": [
    "fig = plt.figure()\n",
    "ax  = fig.gca(projection='3d')\n",
    "\n",
    "h1, h2 = np.asarray(disk_ce).T\n",
    "\n",
    "for pe_,h1_,h2_,  class_ in zip(pe,h1,h2,disk_human_class):\n",
    "    if class_ == 1:\n",
    "        ax.scatter(pe_, h1_, h2_, '.', marker='*', color='grey')\n",
    "    elif class_ == 2:\n",
    "        ax.scatter(pe_, h1_, h2_,  '.', marker='*', color='blue')\n",
    "    if class_ == 3:\n",
    "        pass\n",
    "\n",
    "plt.show()"
   ]
  },
  {
   "cell_type": "code",
   "execution_count": 91,
   "metadata": {
    "ExecuteTime": {
     "end_time": "2021-03-06T07:10:32.791566Z",
     "start_time": "2021-03-06T07:10:29.906966Z"
    }
   },
   "outputs": [
    {
     "data": {
      "image/png": "[encoded data removed]",
      "text/plain": [
       "<Figure size 655.2x504 with 1 Axes>"
      ]
     },
     "metadata": {},
     "output_type": "display_data"
    }
   ],
   "source": [
    "# for ts in clean_disk_trajectories:\n",
    "#     disk_ce.append(mwpe(ts, dx=4))\n",
    "\n",
    "dx_     = 4\n",
    "disk_ce = []    \n",
    "for ts, ts1, ts2, class_ in zip(clean_disk_trajectories, clean_disk_cam1, clean_disk_cam2, clean_disk_class):\n",
    "    if class_==3:\n",
    "        disk_ce.append((0, 0))\n",
    "    else:\n",
    "#         ts = np.stack((normalize(ts1), normalize(ts2)), axis=1)\n",
    "\n",
    "        p  = multi_permutation_entropy(ts, dx=dx_)\n",
    "        p2 = mwpe(ts, dx=dx_)\n",
    "#         disk_ce.append(ordpy.complexity_entropy(p, dx=dx_, probs=True))\n",
    "        disk_ce.append([p, p2])\n",
    "\n",
    "# for i, h_, class_ in zip(range(len(disk_ce)), disk_ce, disk_human_class):\n",
    "#     if class_ == 1:\n",
    "#         plt.plot(i, h_, '.', marker='*', color='grey')\n",
    "#     elif class_ == 2:\n",
    "#         plt.plot(i, h_, '.', marker='*', color='blue')\n",
    "#     if class_ == 3:\n",
    "#         pass\n",
    "\n",
    "for (h_, c_), class_ in zip(disk_ce, disk_human_class):\n",
    "    if class_ == 1:\n",
    "        plt.plot(h_, c_, '.', marker='*', color='grey')\n",
    "    elif class_ == 2:\n",
    "        plt.plot(h_,c_,  '.', marker='*', color='blue', zorder=0)\n",
    "    if class_ == 3:\n",
    "        pass"
   ]
  },
  {
   "cell_type": "code",
   "execution_count": 119,
   "metadata": {
    "ExecuteTime": {
     "end_time": "2021-03-05T03:46:13.648324Z",
     "start_time": "2021-03-05T03:46:01.689625Z"
    }
   },
   "outputs": [
    {
     "name": "stderr",
     "output_type": "stream",
     "text": [
      "100%|██████████| 59/59 [00:11<00:00,  4.94it/s]\n"
     ]
    }
   ],
   "source": [
    "for i in tqdm.tqdm(range(len(clean_disk_trajectories))):\n",
    "\n",
    "    f, ax = plt.subplots()\n",
    "    x_, z_ = clean_disk_trajectories[i][::,0], clean_disk_trajectories[i][::,2]\n",
    "    \n",
    "    ax.plot(x_, z_, '-', color='grey')\n",
    "    ax.set_ylabel('z, altura')\n",
    "    ax.set_xlabel('x, lateral')\n",
    "    \n",
    "    ax.vlines(x=0, ymin=0, ymax=1, linestyle='--', zorder= 0)\n",
    "\n",
    "    f.tight_layout()\n",
    "    f.savefig('figures/{}cross.svg'.format(i), bbox_inches='tight')\n",
    "    plt.close()"
   ]
  },
  {
   "cell_type": "code",
   "execution_count": 208,
   "metadata": {
    "ExecuteTime": {
     "end_time": "2021-03-05T02:47:27.033866Z",
     "start_time": "2021-03-05T02:47:26.771713Z"
    }
   },
   "outputs": [
    {
     "data": {
      "image/png": "[encoded data removed]",
      "text/plain": [
       "<Figure size 655.2x504 with 1 Axes>"
      ]
     },
     "metadata": {},
     "output_type": "display_data"
    }
   ],
   "source": [
    "# for i in tqdm.tqdm(range(len(clean_disk_trajectories))):\n",
    "\n",
    "f, ax = plt.subplots()\n",
    "for i in [21,6]:\n",
    "    if i==21:\n",
    "        x_, z_ = clean_disk_trajectories[i][::,0], clean_disk_trajectories[i][::,2]\n",
    "        ax.plot(x_, z_, '-', color='grey')\n",
    "    else:\n",
    "        x_, z_ = clean_disk_trajectories[i][::,0], clean_disk_trajectories[i][::,2]\n",
    "        ax.plot(x_, z_, '.', color='blue')\n",
    "\n",
    "    ax.vlines(x=0, ymin=0, ymax=1, linestyle='--', zorder= 0)\n",
    "    ax.set_ylabel('z, altura')\n",
    "    ax.set_xlabel('x, lateral')\n",
    "\n",
    "    f.tight_layout()\n",
    "# f.savefig('figures/{}.svg'.format(i), bbox_inches='tight')\n",
    "# plt.close()"
   ]
  },
  {
   "cell_type": "code",
   "execution_count": 220,
   "metadata": {
    "ExecuteTime": {
     "end_time": "2021-03-04T05:53:32.740108Z",
     "start_time": "2021-03-04T05:53:32.728998Z"
    }
   },
   "outputs": [
    {
     "data": {
      "text/plain": [
       "1.3618492453170343"
      ]
     },
     "execution_count": 220,
     "metadata": {},
     "output_type": "execute_result"
    }
   ],
   "source": [
    "i, j = 21, 22\n",
    "# array_        = np.copy(clean_disk_trajectories[i][::,0::2])\n",
    "# array_[::,0] *= -1\n",
    "\n",
    "ts1 = scipy.stats.zscore(rev_disk_trajectories[i][::,0::2], axis=0)\n",
    "ts2 = scipy.stats.zscore(clean_disk_trajectories[j][::,0::2], axis=0)\n",
    "time_warping(ts1, ts2)"
   ]
  },
  {
   "cell_type": "code",
   "execution_count": 261,
   "metadata": {
    "ExecuteTime": {
     "end_time": "2021-03-04T06:06:06.875397Z",
     "start_time": "2021-03-04T06:05:45.298277Z"
    }
   },
   "outputs": [],
   "source": [
    "# 21seconds to run.\n",
    "dtw_matrix = []\n",
    "ts         = rev_disk_trajectories\n",
    "A          = range(ts.__len__())\n",
    "\n",
    "k          = ts.__len__()\n",
    "dtw_matrix = []\n",
    "for i,j in list(itertools.product(A, A)):\n",
    "    ts1 = scipy.stats.zscore(ts[i][::,0::2], axis=0)\n",
    "    ts2 = scipy.stats.zscore(ts[j][::,0::2], axis=0)\n",
    "    dtw_matrix.append(time_warping(ts1, ts2))\n",
    "dtw_matrix = np.reshape(dtw_matrix, (170,-1))"
   ]
  },
  {
   "cell_type": "code",
   "execution_count": 230,
   "metadata": {
    "ExecuteTime": {
     "end_time": "2021-03-04T05:58:45.482474Z",
     "start_time": "2021-03-04T05:58:45.475771Z"
    }
   },
   "outputs": [],
   "source": [
    "def check_symmetric(a, tol=1e-8):\n",
    "    \"\"\"Checks if matrix is symmetric.\"\"\"\n",
    "    return np.all(np.abs(a-a.T) < tol)"
   ]
  },
  {
   "cell_type": "code",
   "execution_count": 265,
   "metadata": {
    "ExecuteTime": {
     "end_time": "2021-03-04T06:06:15.156022Z",
     "start_time": "2021-03-04T06:06:14.696895Z"
    }
   },
   "outputs": [
    {
     "name": "stdout",
     "output_type": "stream",
     "text": [
      "0.028209942353435553\n",
      "0.005192170722543012\n",
      "-0.05395252414050651\n",
      "-0.10928914756066711\n",
      "-0.12020720777148886\n",
      "-0.1266251591438595\n",
      "-0.1684086043467712\n",
      "-0.2485388389051595\n"
     ]
    }
   ],
   "source": [
    "X = dtw_matrix\n",
    "# X = np.stack((X, X), axis=2)\n",
    "for n_clusters in range(2, 10):\n",
    "    model = SpectralClustering(n_clusters=n_clusters, affinity='precomputed', assign_labels='discretize', n_jobs=-1)\n",
    "    model.fit(X)\n",
    "    labels = model.labels_\n",
    "    print(silhouette_score(X, labels, metric='precomputed'))"
   ]
  },
  {
   "cell_type": "code",
   "execution_count": 266,
   "metadata": {
    "ExecuteTime": {
     "end_time": "2021-03-04T06:06:23.282937Z",
     "start_time": "2021-03-04T06:06:23.248781Z"
    }
   },
   "outputs": [
    {
     "name": "stdout",
     "output_type": "stream",
     "text": [
      "0.028209942353435553\n"
     ]
    }
   ],
   "source": [
    "X = dtw_matrix\n",
    "model = SpectralClustering(n_clusters=2, affinity='precomputed', assign_labels='discretize', n_jobs=-1)\n",
    "model.fit(X)\n",
    "labels = model.labels_\n",
    "print(silhouette_score(X, labels, metric='precomputed'))"
   ]
  },
  {
   "cell_type": "code",
   "execution_count": 269,
   "metadata": {
    "ExecuteTime": {
     "end_time": "2021-03-04T06:06:39.391568Z",
     "start_time": "2021-03-04T06:06:39.384490Z"
    }
   },
   "outputs": [
    {
     "data": {
      "text/plain": [
       "array([1, 1, 1, 1, 1, 1, 1, 2, 1, 1, 1, 1, 1, 1, 1, 1, 2, 1, 1, 1, 1, 1,\n",
       "       1, 1, 2, 1, 2, 1, 1, 1, 2, 1, 1, 1, 2, 1, 1, 1, 1, 1, 1, 1, 2, 1,\n",
       "       1, 2, 1, 1, 1, 1, 1, 1, 2, 1, 1, 1, 1, 1, 2, 2, 1, 1, 1, 1, 1, 1,\n",
       "       1, 1, 1, 1, 1, 1, 1, 2, 1, 1, 2, 2, 1, 1, 1, 1, 1, 1, 2, 1, 2, 1,\n",
       "       1, 2, 2, 1, 1, 1, 1, 1, 1, 1, 1, 1, 2, 1, 1, 1, 1, 2, 1, 2, 1, 1,\n",
       "       1, 1, 2, 1, 1, 2, 1, 1, 1, 2, 1, 2, 1, 2, 1, 2, 1, 1, 2, 2, 2, 1,\n",
       "       2, 2, 1, 1, 1, 1, 1, 1, 1, 2, 1, 1, 1, 1, 2, 2, 1, 1, 1, 2, 1, 1,\n",
       "       1, 1, 2, 1, 2, 2, 1, 1, 1, 1, 1, 1, 2, 2, 2, 1])"
      ]
     },
     "execution_count": 269,
     "metadata": {},
     "output_type": "execute_result"
    }
   ],
   "source": [
    "labels+1"
   ]
  },
  {
   "cell_type": "code",
   "execution_count": 40,
   "metadata": {
    "ExecuteTime": {
     "end_time": "2021-02-27T03:04:18.057921Z",
     "start_time": "2021-02-27T03:04:18.052770Z"
    }
   },
   "outputs": [
    {
     "data": {
      "text/plain": [
       "array([1, 1, 2, 1, 2, 1, 1, 1, 2, 2, 1, 2, 2, 2, 2, 1, 2, 2, 2, 2, 2, 1,\n",
       "       1, 1, 2, 1, 2, 1, 1, 1, 1, 1, 2, 1, 2, 1, 1, 2, 1, 2, 1, 1, 1, 1,\n",
       "       1, 2, 1, 2, 1, 1, 1, 1, 1, 2, 2, 2, 2, 2, 2, 1, 2, 2, 2, 2, 2, 1,\n",
       "       1, 1, 1, 1, 1, 1, 1, 1, 2, 1, 1, 2, 1, 2, 1, 1, 1, 2, 2, 1, 1, 1,\n",
       "       1, 2, 2, 2, 2, 2, 2, 1, 2, 1, 2, 2, 2, 2, 1, 2, 2, 1, 2, 2, 1, 2,\n",
       "       1, 1, 1, 2, 1, 2, 2, 1, 1, 2, 1, 1, 1, 2, 2, 2, 2, 2, 2, 1, 1, 2,\n",
       "       2, 2, 2, 2, 2, 2, 1, 2, 1, 2, 2, 1, 2, 1, 2, 2, 1, 1, 1, 2, 1, 2,\n",
       "       1, 1, 2, 2, 1, 1, 2, 2, 1, 1, 2, 1, 2, 2, 1, 2], dtype=uint8)"
      ]
     },
     "execution_count": 40,
     "metadata": {},
     "output_type": "execute_result"
    }
   ],
   "source": [
    "disk_human_class[disk_human_class!=3]"
   ]
  },
  {
   "cell_type": "code",
   "execution_count": 249,
   "metadata": {
    "ExecuteTime": {
     "end_time": "2021-02-27T04:15:09.928463Z",
     "start_time": "2021-02-27T04:15:09.918335Z"
    }
   },
   "outputs": [
    {
     "data": {
      "text/plain": [
       "0.6176470588235294"
      ]
     },
     "execution_count": 249,
     "metadata": {},
     "output_type": "execute_result"
    }
   ],
   "source": [
    "sum(disk_human_class[disk_human_class!=3]==np.where(labels==0, 2, labels))/170"
   ]
  },
  {
   "cell_type": "code",
   "execution_count": 268,
   "metadata": {
    "ExecuteTime": {
     "end_time": "2021-03-04T06:06:32.211316Z",
     "start_time": "2021-03-04T06:06:32.200248Z"
    }
   },
   "outputs": [
    {
     "data": {
      "text/plain": [
       "0.5529411764705883"
      ]
     },
     "execution_count": 268,
     "metadata": {},
     "output_type": "execute_result"
    }
   ],
   "source": [
    "sum(disk_human_class[disk_human_class!=3]==labels+1)/170"
   ]
  },
  {
   "cell_type": "code",
   "execution_count": 185,
   "metadata": {
    "ExecuteTime": {
     "end_time": "2021-02-27T04:02:03.458204Z",
     "start_time": "2021-02-27T04:02:03.449064Z"
    }
   },
   "outputs": [
    {
     "data": {
      "text/plain": [
       "0.5705882352941176"
      ]
     },
     "execution_count": 185,
     "metadata": {},
     "output_type": "execute_result"
    }
   ],
   "source": [
    "sum(disk_feat_class['behaviourAuto'][disk_feat_class['behaviourAuto']!=3]==labels+1)/170"
   ]
  },
  {
   "cell_type": "code",
   "execution_count": 239,
   "metadata": {
    "ExecuteTime": {
     "end_time": "2021-02-27T04:12:31.857660Z",
     "start_time": "2021-02-27T04:12:31.846648Z"
    }
   },
   "outputs": [
    {
     "data": {
      "text/plain": [
       "0.5235294117647059"
      ]
     },
     "execution_count": 239,
     "metadata": {},
     "output_type": "execute_result"
    }
   ],
   "source": [
    "sum(disk_feat_class['behaviourAuto'][disk_feat_class['behaviourAuto']!=3]==np.where(labels==0, 2, labels))/170"
   ]
  },
  {
   "cell_type": "code",
   "execution_count": 60,
   "metadata": {
    "ExecuteTime": {
     "end_time": "2021-02-27T03:13:51.835554Z",
     "start_time": "2021-02-27T03:13:51.829187Z"
    }
   },
   "outputs": [
    {
     "data": {
      "text/plain": [
       "array([1, 1, 2, 1, 2, 1, 1, 1, 2, 2, 1, 2, 2, 2, 2, 1, 2, 2, 2, 2, 2, 1,\n",
       "       1, 1, 2, 1, 2, 1, 1, 1, 1, 1, 2, 1, 2, 1, 1, 2, 1, 2, 1, 1, 1, 1,\n",
       "       1, 2, 1, 2, 1, 1, 1, 1, 1, 2, 2, 2, 2, 2, 2, 1, 2, 2, 2, 2, 2, 1,\n",
       "       1, 1, 1, 1, 1, 1, 1, 1, 2, 1, 1, 2, 1, 2, 1, 1, 1, 2, 2, 1, 1, 1,\n",
       "       1, 2, 2, 2, 2, 2, 2, 1, 2, 1, 2, 2, 2, 2, 1, 2, 2, 1, 2, 2, 1, 2,\n",
       "       1, 1, 1, 2, 1, 2, 2, 1, 1, 2, 1, 1, 1, 2, 2, 2, 2, 2, 2, 1, 1, 2,\n",
       "       2, 2, 2, 2, 2, 2, 1, 2, 1, 2, 2, 1, 2, 1, 2, 2, 1, 1, 1, 2, 1, 2,\n",
       "       1, 1, 2, 2, 1, 1, 2, 2, 1, 1, 2, 1, 2, 2, 1, 2], dtype=uint8)"
      ]
     },
     "execution_count": 60,
     "metadata": {},
     "output_type": "execute_result"
    }
   ],
   "source": [
    "disk_human_class[disk_human_class!=3]"
   ]
  },
  {
   "cell_type": "code",
   "execution_count": 59,
   "metadata": {
    "ExecuteTime": {
     "end_time": "2021-02-27T03:13:19.648345Z",
     "start_time": "2021-02-27T03:13:19.642180Z"
    }
   },
   "outputs": [
    {
     "data": {
      "text/plain": [
       "array([1, 1, 1, 0, 1, 1, 0, 1, 0, 0, 0, 0, 0, 0, 1, 1, 1, 0, 1, 0, 0, 0,\n",
       "       1, 1, 0, 1, 1, 1, 0, 0, 1, 1, 1, 1, 0, 1, 0, 1, 1, 1, 0, 0, 1, 0,\n",
       "       0, 0, 1, 1, 0, 1, 0, 1, 1, 0, 0, 1, 0, 1, 1, 0, 0, 0, 1, 1, 1, 1,\n",
       "       1, 1, 1, 1, 1, 0, 0, 1, 1, 1, 1, 1, 0, 0, 1, 1, 1, 1, 0, 1, 1, 1,\n",
       "       0, 0, 0, 0, 1, 0, 0, 1, 1, 0, 0, 1, 1, 1, 1, 1, 1, 1, 0, 0, 1, 0,\n",
       "       1, 1, 0, 1, 1, 1, 0, 0, 0, 1, 1, 0, 1, 0, 1, 0, 1, 0, 1, 1, 0, 0,\n",
       "       0, 0, 1, 1, 0, 0, 1, 0, 1, 1, 1, 0, 1, 1, 0, 1, 1, 0, 1, 0, 0, 1,\n",
       "       0, 1, 1, 1, 1, 1, 0, 1, 0, 1, 1, 1, 1, 1, 0, 1], dtype=int32)"
      ]
     },
     "execution_count": 59,
     "metadata": {},
     "output_type": "execute_result"
    }
   ],
   "source": [
    "labels"
   ]
  },
  {
   "cell_type": "code",
   "execution_count": 183,
   "metadata": {
    "ExecuteTime": {
     "end_time": "2021-02-27T04:01:47.775713Z",
     "start_time": "2021-02-27T04:01:47.770382Z"
    }
   },
   "outputs": [],
   "source": [
    "B = disk_feat_class['behaviourAuto'][disk_feat_class['behaviourAuto']!=3]"
   ]
  },
  {
   "cell_type": "code",
   "execution_count": null,
   "metadata": {},
   "outputs": [],
   "source": []
  },
  {
   "cell_type": "markdown",
   "metadata": {},
   "source": [
    "Falta dar um jeito de ler o código do cara e entender o critério dele pra separar um trajetória em duas, no caso, em uma parcela de\n",
    "trajetória estacionária (periódica) e outro tipo (caótica ou \"tumbling\")."
   ]
  },
  {
   "cell_type": "code",
   "execution_count": 150,
   "metadata": {
    "ExecuteTime": {
     "end_time": "2021-02-19T05:40:04.813806Z",
     "start_time": "2021-02-19T05:40:04.804185Z"
    }
   },
   "outputs": [],
   "source": [
    "mat = scipy.io.loadmat('classification/Field1997_data.mat')"
   ]
  },
  {
   "cell_type": "code",
   "execution_count": 165,
   "metadata": {
    "ExecuteTime": {
     "end_time": "2021-02-19T06:29:55.536629Z",
     "start_time": "2021-02-19T06:29:55.500170Z"
    }
   },
   "outputs": [
    {
     "data": {
      "text/plain": [
       "{'__header__': b'MATLAB 5.0 MAT-file, Platform: MACI64, Created on: Wed Jun 12 09:44:01 2019',\n",
       " '__version__': '1.0',\n",
       " '__globals__': [],\n",
       " 'c': array([[2.38277644e+01, 3.89184311e-03, 1.00000000e+00],\n",
       "        [3.36187395e+01, 3.89184311e-03, 1.00000000e+00],\n",
       "        [2.40504822e+01, 4.83471860e-03, 1.00000000e+00],\n",
       "        [3.62164057e+01, 4.83471860e-03, 1.00000000e+00],\n",
       "        [3.65549199e+01, 5.12939850e-03, 1.00000000e+00],\n",
       "        [4.12545834e+01, 5.38863962e-03, 1.00000000e+00],\n",
       "        [4.69936378e+01, 5.23156373e-03, 1.00000000e+00],\n",
       "        [7.20944119e+01, 3.89184311e-03, 1.00000000e+00],\n",
       "        [6.63036129e+01, 4.60212597e-03, 1.00000000e+00],\n",
       "        [7.20944119e+01, 4.97987935e-03, 1.00000000e+00],\n",
       "        [7.34484412e+01, 5.49596830e-03, 1.00000000e+00],\n",
       "        [5.92995386e+01, 5.44203937e-03, 1.00000000e+00],\n",
       "        [6.88175415e+01, 5.33576384e-03, 1.00000000e+00],\n",
       "        [2.71425194e+01, 6.56341608e-03, 1.00000000e+00],\n",
       "        [4.08725483e+01, 6.62845751e-03, 1.00000000e+00],\n",
       "        [4.40307046e+01, 6.49901287e-03, 1.00000000e+00],\n",
       "        [5.45364550e+01, 6.49901287e-03, 1.00000000e+00],\n",
       "        [5.92995386e+01, 6.49901287e-03, 1.00000000e+00],\n",
       "        [8.21236915e+01, 6.43524161e-03, 1.00000000e+00],\n",
       "        [6.04132631e+01, 7.53503883e-03, 1.00000000e+00],\n",
       "        [6.63036129e+01, 7.68511861e-03, 1.00000000e+00],\n",
       "        [7.27682772e+01, 8.65049686e-03, 1.00000000e+00],\n",
       "        [6.69233517e+01, 9.08769519e-03, 1.00000000e+00],\n",
       "        [3.29989747e+01, 8.23433162e-03, 1.00000000e+00],\n",
       "        [3.58810263e+01, 9.73714261e-03, 1.00000000e+00],\n",
       "        [3.45702799e+01, 1.11785916e-02, 1.00000000e+00],\n",
       "        [4.36229614e+01, 1.28334271e-02, 1.00000000e+00],\n",
       "        [4.24222477e+01, 1.47332380e-02, 1.00000000e+00],\n",
       "        [4.78762411e+01, 7.68511861e-03, 1.00000000e+00],\n",
       "        [4.61273054e+01, 8.15353263e-03, 1.00000000e+00],\n",
       "        [4.74328866e+01, 9.08769519e-03, 1.00000000e+00],\n",
       "        [5.01559539e+01, 9.73714261e-03, 1.00000000e+00],\n",
       "        [5.50462064e+01, 1.05363903e-02, 1.00000000e+00],\n",
       "        [5.50462064e+01, 1.17435605e-02, 1.00000000e+00],\n",
       "        [6.38815189e+01, 1.29606024e-02, 1.00000000e+00],\n",
       "        [5.98538105e+01, 1.30890379e-02, 1.00000000e+00],\n",
       "        [6.15479049e+01, 1.47332380e-02, 1.00000000e+00],\n",
       "        [5.82063457e+01, 1.96106442e-02, 1.00000000e+00],\n",
       "        [5.06247609e+01, 1.59425770e-02, 1.00000000e+00],\n",
       "        [8.21236915e+01, 7.53503883e-03, 1.00000000e+00],\n",
       "        [8.52374449e+01, 7.31539658e-03, 1.00000000e+00],\n",
       "        [8.92961783e+01, 9.64159736e-03, 1.00000000e+00],\n",
       "        [7.20944119e+01, 9.64159736e-03, 1.00000000e+00],\n",
       "        [8.52374449e+01, 1.18599355e-02, 1.00000000e+00],\n",
       "        [6.94607780e+01, 1.62601146e-02, 1.00000000e+00],\n",
       "        [7.14267868e+01, 1.62601146e-02, 1.00000000e+00],\n",
       "        [5.66042270e+01, 2.12203322e-02, 1.00000000e+00],\n",
       "        [6.81802617e+01, 2.43617082e-02, 1.00000000e+00],\n",
       "        [8.84692575e+01, 2.48469346e-02, 1.00000000e+00],\n",
       "        [7.55273163e+01, 2.12203322e-02, 1.00000000e+00],\n",
       "        [7.76650316e+01, 1.96106442e-02, 1.00000000e+00],\n",
       "        [9.61959509e+01, 1.72511814e-02, 1.00000000e+00],\n",
       "        [8.92961783e+01, 4.64773162e-03, 1.00000000e+00],\n",
       "        [9.26818795e+01, 1.37505613e-02, 1.00000000e+00],\n",
       "        [9.18236057e+01, 1.28334271e-02, 1.00000000e+00],\n",
       "        [1.47548849e+02, 4.74675006e-03, 2.00000000e+00],\n",
       "        [1.95422599e+02, 4.85066074e-03, 2.00000000e+00],\n",
       "        [1.67176552e+02, 1.17436684e-03, 2.00000000e+00],\n",
       "        [1.41532436e+02, 5.52367500e-03, 2.00000000e+00],\n",
       "        [1.58699500e+02, 5.76815856e-03, 2.00000000e+00],\n",
       "        [1.95422599e+02, 5.76815856e-03, 2.00000000e+00],\n",
       "        [1.83592534e+02, 6.78533372e-03, 2.00000000e+00],\n",
       "        [1.46021184e+02, 6.71226268e-03, 2.00000000e+00],\n",
       "        [1.27542923e+02, 6.71226268e-03, 2.00000000e+00],\n",
       "        [9.73054957e+01, 5.12049848e-03, 2.00000000e+00],\n",
       "        [1.01441863e+02, 7.64356849e-03, 2.00000000e+00],\n",
       "        [1.03575524e+02, 6.71226268e-03, 2.00000000e+00],\n",
       "        [1.12568487e+02, 6.71226268e-03, 2.00000000e+00],\n",
       "        [1.13746172e+02, 7.89592411e-03, 2.00000000e+00],\n",
       "        [1.13746172e+02, 8.15661136e-03, 2.00000000e+00],\n",
       "        [1.09108088e+02, 8.15661136e-03, 2.00000000e+00],\n",
       "        [1.35761346e+02, 7.56125515e-03, 2.00000000e+00],\n",
       "        [1.53821015e+02, 8.15661136e-03, 2.00000000e+00],\n",
       "        [1.65445669e+02, 7.72677791e-03, 2.00000000e+00],\n",
       "        [1.85513269e+02, 7.81089316e-03, 2.00000000e+00],\n",
       "        [1.70692833e+02, 8.61035605e-03, 2.00000000e+00],\n",
       "        [1.49092497e+02, 8.89463057e-03, 2.00000000e+00],\n",
       "        [1.52228410e+02, 9.38943058e-03, 2.00000000e+00],\n",
       "        [1.68925544e+02, 9.38943058e-03, 2.00000000e+00],\n",
       "        [1.53821015e+02, 1.04631376e-02, 2.00000000e+00],\n",
       "        [1.53821015e+02, 1.02389966e-02, 2.00000000e+00],\n",
       "        [1.21075580e+02, 9.08934213e-03, 2.00000000e+00],\n",
       "        [1.11402995e+02, 9.38943058e-03, 2.00000000e+00],\n",
       "        [1.19822009e+02, 1.00196572e-02, 2.00000000e+00],\n",
       "        [1.26222392e+02, 1.03504604e-02, 2.00000000e+00],\n",
       "        [1.28877270e+02, 1.10451922e-02, 2.00000000e+00],\n",
       "        [1.23622204e+02, 1.15340638e-02, 2.00000000e+00],\n",
       "        [1.26222392e+02, 1.16596259e-02, 2.00000000e+00],\n",
       "        [1.41532436e+02, 3.33276448e-02, 2.00000000e+00],\n",
       "        [1.37181674e+02, 2.20860696e-02, 2.00000000e+00],\n",
       "        [1.37181674e+02, 2.02535096e-02, 2.00000000e+00],\n",
       "        [1.21075580e+02, 1.87751932e-02, 2.00000000e+00],\n",
       "        [1.21075580e+02, 1.79794061e-02, 2.00000000e+00],\n",
       "        [1.14936178e+02, 1.74047800e-02, 2.00000000e+00],\n",
       "        [1.04659125e+02, 1.49567345e-02, 2.00000000e+00],\n",
       "        [1.12568487e+02, 1.44787137e-02, 2.00000000e+00],\n",
       "        [1.14936178e+02, 1.29929360e-02, 2.00000000e+00],\n",
       "        [9.14150289e+01, 1.10451922e-02, 2.00000000e+00],\n",
       "        [9.83235003e+01, 1.10451922e-02, 2.00000000e+00],\n",
       "        [1.01441863e+02, 1.10451922e-02, 2.00000000e+00],\n",
       "        [1.44509336e+02, 1.51195565e-02, 2.00000000e+00],\n",
       "        [1.52228410e+02, 1.47956659e-02, 2.00000000e+00],\n",
       "        [1.40067062e+02, 1.37157209e-02, 2.00000000e+00],\n",
       "        [1.50652294e+02, 1.31343797e-02, 2.00000000e+00],\n",
       "        [1.79810519e+02, 1.91861993e-02, 2.00000000e+00],\n",
       "        [1.83592534e+02, 1.20445734e-02, 2.00000000e+00],\n",
       "        [1.76106413e+02, 1.11654324e-02, 2.00000000e+00],\n",
       "        [1.77948828e+02, 1.08085825e-02, 2.00000000e+00],\n",
       "        [2.03729834e+02, 8.89463057e-03, 2.00000000e+00],\n",
       "        [1.93399267e+02, 1.04631376e-02, 2.00000000e+00],\n",
       "        [2.56149660e+02, 9.80501647e-03, 2.00000000e+00],\n",
       "        [2.50872964e+02, 8.61035605e-03, 2.00000000e+00],\n",
       "        [2.43161031e+02, 7.72677791e-03, 2.00000000e+00],\n",
       "        [2.50872964e+02, 1.25776786e-02, 2.00000000e+00],\n",
       "        [2.50872964e+02, 1.15340638e-02, 2.00000000e+00],\n",
       "        [2.53497582e+02, 1.14098538e-02, 2.00000000e+00],\n",
       "        [1.77948828e+02, 1.74047800e-02, 2.00000000e+00],\n",
       "        [1.77948828e+02, 1.68485190e-02, 2.00000000e+00],\n",
       "        [2.16857477e+02, 1.34219032e-02, 2.00000000e+00],\n",
       "        [2.16857477e+02, 1.29929360e-02, 2.00000000e+00],\n",
       "        [3.39260066e+02, 4.69563246e-03, 2.00000000e+00],\n",
       "        [4.63587359e+02, 3.04511271e-03, 2.00000000e+00],\n",
       "        [3.68716382e+02, 5.70604145e-03, 2.00000000e+00],\n",
       "        [4.58787550e+02, 8.51763140e-03, 2.00000000e+00],\n",
       "        [5.47584275e+02, 8.51763140e-03, 2.00000000e+00],\n",
       "        [4.98621861e+02, 7.72677791e-03, 2.00000000e+00],\n",
       "        [6.81349840e+02, 8.24540587e-03, 2.00000000e+00],\n",
       "        [7.32841219e+02, 8.33516701e-03, 2.00000000e+00],\n",
       "        [5.53313071e+02, 6.29006792e-03, 2.00000000e+00],\n",
       "        [5.53313071e+02, 5.95859674e-03, 2.00000000e+00],\n",
       "        [1.95162686e+02, 3.39105225e-02, 3.00000000e+00],\n",
       "        [2.31255361e+02, 2.53663302e-02, 3.00000000e+00],\n",
       "        [2.22203965e+02, 2.20420874e-02, 3.00000000e+00],\n",
       "        [3.24699677e+02, 3.39105225e-02, 3.00000000e+00],\n",
       "        [4.84040734e+02, 3.52048469e-02, 3.00000000e+00],\n",
       "        [3.24699677e+02, 2.00716360e-02, 3.00000000e+00],\n",
       "        [3.31246928e+02, 1.96992088e-02, 3.00000000e+00],\n",
       "        [3.37926198e+02, 1.82773330e-02, 3.00000000e+00],\n",
       "        [2.82352630e+02, 1.77709989e-02, 3.00000000e+00],\n",
       "        [2.90935583e+02, 1.72786917e-02, 3.00000000e+00],\n",
       "        [3.24699677e+02, 1.51555928e-02, 3.00000000e+00],\n",
       "        [3.44740148e+02, 1.50143292e-02, 3.00000000e+00],\n",
       "        [3.58783011e+02, 1.39306049e-02, 3.00000000e+00],\n",
       "        [4.33707464e+02, 1.48743823e-02, 3.00000000e+00],\n",
       "        [4.33707464e+02, 1.31694612e-02, 3.00000000e+00],\n",
       "        [4.33707464e+02, 1.13369463e-02, 3.00000000e+00],\n",
       "        [5.19071185e+02, 1.04206099e-02, 3.00000000e+00],\n",
       "        [6.40120816e+02, 1.08183522e-02, 3.00000000e+00],\n",
       "        [8.05317213e+02, 1.13369463e-02, 3.00000000e+00],\n",
       "        [7.81559376e+02, 1.31694612e-02, 3.00000000e+00],\n",
       "        [6.46542311e+02, 1.50143292e-02, 3.00000000e+00],\n",
       "        [7.36125681e+02, 1.69580873e-02, 3.00000000e+00],\n",
       "        [7.14409079e+02, 1.89749571e-02, 3.00000000e+00],\n",
       "        [6.72878973e+02, 2.12316986e-02, 3.00000000e+00],\n",
       "        [7.58502425e+02, 2.22494723e-02, 3.00000000e+00],\n",
       "        [7.81559376e+02, 2.46636108e-02, 3.00000000e+00],\n",
       "        [5.29537747e+02, 2.04511042e-02, 3.00000000e+00],\n",
       "        [5.29537747e+02, 1.91534847e-02, 3.00000000e+00],\n",
       "        [4.65095252e+02, 1.89749571e-02, 3.00000000e+00],\n",
       "        [4.16732039e+02, 1.96992088e-02, 3.00000000e+00],\n",
       "        [8.55021410e+02, 1.98845505e-02, 3.00000000e+00],\n",
       "        [9.07793352e+02, 1.84492969e-02, 3.00000000e+00],\n",
       "        [9.07793352e+02, 1.50143292e-02, 3.00000000e+00],\n",
       "        [9.07793352e+02, 1.35446875e-02, 3.00000000e+00],\n",
       "        [1.06499365e+03, 1.64883000e-02, 3.00000000e+00],\n",
       "        [1.06499365e+03, 1.60315272e-02, 3.00000000e+00],\n",
       "        [1.48047837e+03, 1.98845505e-02, 3.00000000e+00],\n",
       "        [1.70251946e+03, 1.74412598e-02, 3.00000000e+00],\n",
       "        [1.70251946e+03, 1.61823612e-02, 3.00000000e+00],\n",
       "        [1.35327810e+03, 1.36721239e-02, 3.00000000e+00],\n",
       "        [1.28739568e+03, 1.29251031e-02, 3.00000000e+00],\n",
       "        [1.54078510e+03, 1.32933672e-02, 3.00000000e+00],\n",
       "        [1.52548194e+03, 1.12312759e-02, 3.00000000e+00],\n",
       "        [2.22913886e+03, 9.48905990e-03, 3.00000000e+00],\n",
       "        [2.83254720e+03, 1.09201376e-02, 3.00000000e+00],\n",
       "        [1.32652992e+03, 9.22618596e-03, 3.00000000e+00],\n",
       "        [1.13072509e+03, 8.32310284e-03, 3.00000000e+00],\n",
       "        [9.73491150e+02, 8.72208340e-03, 3.00000000e+00],\n",
       "        [9.44771978e+02, 9.40061341e-03, 3.00000000e+00],\n",
       "        [9.63822380e+02, 1.22188982e-02, 3.00000000e+00],\n",
       "        [1.44139291e+04, 2.89198189e-02, 3.00000000e+00],\n",
       "        [1.68560994e+03, 3.93918518e-02, 3.00000000e+00],\n",
       "        [1.44139291e+04, 3.08790928e-02, 3.00000000e+00],\n",
       "        [8.47452921e+03, 1.26722727e-01, 4.00000000e+00],\n",
       "        [1.42010356e+04, 6.82440469e-02, 4.00000000e+00],\n",
       "        [8.56248196e+03, 4.21211182e-02, 4.00000000e+00],\n",
       "        [6.96494827e+03, 4.53304677e-02, 4.00000000e+00],\n",
       "        [7.03723386e+03, 4.92987907e-02, 4.00000000e+00],\n",
       "        [5.32514684e+03, 6.34124401e-02, 4.00000000e+00],\n",
       "        [5.32514684e+03, 6.14479205e-02, 4.00000000e+00],\n",
       "        [5.16272892e+03, 4.87843484e-02, 4.00000000e+00],\n",
       "        [6.28169734e+03, 4.87843484e-02, 4.00000000e+00],\n",
       "        [6.21717252e+03, 4.87843484e-02, 4.00000000e+00],\n",
       "        [5.96563343e+03, 5.03440075e-02, 4.00000000e+00],\n",
       "        [5.96563343e+03, 5.36145090e-02, 4.00000000e+00],\n",
       "        [2.59944058e+02, 1.97514633e-02, 3.00000000e+00],\n",
       "        [2.22186126e+02, 2.05575677e-02, 3.00000000e+00],\n",
       "        [1.72844755e+02, 2.53616268e-02, 3.00000000e+00],\n",
       "        [2.26884764e+02, 1.44864765e-02, 3.00000000e+00],\n",
       "        [1.04534132e+03, 1.52292435e-02, 3.00000000e+00]]),\n",
       " 'l1': array([[1.35111213e+02, 5.24561392e-02, 3.00000000e+00],\n",
       "        [1.08522155e+02, 2.91791343e-02, 3.00000000e+00],\n",
       "        [9.87938675e+01, 1.98766879e-02, 3.00000000e+00],\n",
       "        [9.27978054e+01, 1.47457337e-02, 3.00000000e+00],\n",
       "        [8.90039986e+01, 1.19135038e-02, 3.00000000e+00],\n",
       "        [8.90039986e+01, 9.72845716e-03, 3.00000000e+00],\n",
       "        [8.90039986e+01, 7.85990127e-03, 3.00000000e+00],\n",
       "        [8.90039986e+01, 6.84241827e-03, 3.00000000e+00],\n",
       "        [8.90039986e+01, 5.70790545e-03, 3.00000000e+00],\n",
       "        [9.47549266e+01, 4.37213104e-03, 3.00000000e+00],\n",
       "        [9.77682722e+01, 3.38486159e-03, 3.00000000e+00],\n",
       "        [1.06280678e+02, 2.62052712e-03, 3.00000000e+00],\n",
       "        [1.16746196e+02, 2.09474149e-03, 3.00000000e+00],\n",
       "        [1.26910955e+02, 1.72888554e-03, 3.00000000e+00],\n",
       "        [1.32320551e+02, 1.45768854e-03, 3.00000000e+00],\n",
       "        [1.45350230e+02, 1.16521620e-03, 3.00000000e+00],\n",
       "        [1.58005461e+02, 8.64428112e-04, 3.00000000e+00],\n",
       "        [1.61337823e+02, 6.41285248e-04, 3.00000000e+00],\n",
       "        [1.61337823e+02, 4.96476840e-04, 3.00000000e+00],\n",
       "        [1.61337823e+02, 4.01117965e-04, 3.00000000e+00],\n",
       "        [1.56365181e+02, 3.24074779e-04, 3.00000000e+00],\n",
       "        [1.46874963e+02, 2.59052036e-04, 3.00000000e+00],\n",
       "        [1.40870346e+02, 2.02705764e-04, 3.00000000e+00]]),\n",
       " 'l2': array([[1.55420726e+02, 5.67569690e-02, 3.00000000e+00],\n",
       "        [1.55420726e+02, 4.05142107e-02, 3.00000000e+00],\n",
       "        [1.62074618e+02, 2.60890717e-02, 3.00000000e+00],\n",
       "        [1.98200235e+02, 1.84492969e-02, 3.00000000e+00],\n",
       "        [2.32427359e+02, 1.44623196e-02, 3.00000000e+00],\n",
       "        [2.84234248e+02, 1.29251031e-02, 3.00000000e+00],\n",
       "        [3.44686559e+02, 1.14436109e-02, 3.00000000e+00],\n",
       "        [4.28643197e+02, 1.01319293e-02, 3.00000000e+00],\n",
       "        [5.51229413e+02, 9.75942369e-03, 3.00000000e+00],\n",
       "        [7.39222036e+02, 8.97059437e-03, 3.00000000e+00],\n",
       "        [1.01657885e+03, 8.56024600e-03, 3.00000000e+00],\n",
       "        [1.38632809e+03, 8.32310284e-03, 3.00000000e+00],\n",
       "        [1.97150121e+03, 8.56024600e-03, 3.00000000e+00],\n",
       "        [2.89929853e+03, 8.56024600e-03, 3.00000000e+00],\n",
       "        [8.91693770e+03, 9.66845717e-03, 3.00000000e+00],\n",
       "        [2.69684571e+04, 1.09201376e-02, 3.00000000e+00]]),\n",
       " 'l3': array([[1.62507797e+02, 3.75899219e-02, 3.00000000e+00],\n",
       "        [3.44348348e+02, 3.75899219e-02, 3.00000000e+00],\n",
       "        [7.22488104e+02, 3.93918518e-02, 3.00000000e+00],\n",
       "        [1.97935262e+03, 4.01365822e-02, 3.00000000e+00],\n",
       "        [4.58423521e+03, 4.08953921e-02, 3.00000000e+00],\n",
       "        [1.16046098e+04, 4.20605901e-02, 3.00000000e+00],\n",
       "        [3.44073979e+04, 4.49101313e-02, 3.00000000e+00]]),\n",
       " 's': array([[1.33008828e+02, 8.55077590e-04, 1.00000000e+00],\n",
       "        [1.55309865e+02, 5.06120369e-04, 1.00000000e+00],\n",
       "        [9.33274585e+01, 2.37305584e-03, 1.00000000e+00],\n",
       "        [9.43665133e+01, 2.97109017e-03, 1.00000000e+00],\n",
       "        [8.35458233e+01, 3.89815122e-03, 1.00000000e+00],\n",
       "        [6.62135512e+01, 5.51235895e-03, 1.00000000e+00],\n",
       "        [9.64794564e+01, 4.40280666e-03, 1.00000000e+00],\n",
       "        [1.03106410e+02, 4.24093519e-03, 1.00000000e+00],\n",
       "        [1.45327641e+02, 1.16470611e-03, 1.00000000e+00],\n",
       "        [1.25845624e+02, 1.69393267e-03, 1.00000000e+00],\n",
       "        [1.50235869e+02, 3.32077193e-04, 1.00000000e+00],\n",
       "        [1.65811260e+02, 3.28981938e-04, 2.00000000e+00],\n",
       "        [1.65811260e+02, 4.96729355e-04, 2.00000000e+00],\n",
       "        [1.72060125e+02, 5.45493744e-04, 2.00000000e+00],\n",
       "        [1.62772455e+02, 8.47107505e-04, 2.00000000e+00],\n",
       "        [1.72060125e+02, 8.47107505e-04, 2.00000000e+00],\n",
       "        [1.85273225e+02, 8.47107505e-04, 2.00000000e+00],\n",
       "        [1.62772455e+02, 1.15385001e-03, 2.00000000e+00],\n",
       "        [1.31583122e+02, 1.75858808e-03, 2.00000000e+00],\n",
       "        [1.16676929e+02, 2.24339625e-03, 2.00000000e+00],\n",
       "        [1.16676929e+02, 2.39538294e-03, 2.00000000e+00],\n",
       "        [1.24480368e+02, 2.39538294e-03, 2.00000000e+00],\n",
       "        [1.30371791e+02, 2.22248580e-03, 2.00000000e+00],\n",
       "        [1.35285062e+02, 2.22248580e-03, 2.00000000e+00],\n",
       "        [1.12439467e+02, 2.60602097e-03, 2.00000000e+00],\n",
       "        [1.18855175e+02, 2.60602097e-03, 2.00000000e+00],\n",
       "        [1.06370073e+02, 2.88878253e-03, 2.00000000e+00],\n",
       "        [1.19959501e+02, 3.86181698e-03, 2.00000000e+00],\n",
       "        [1.08355900e+02, 3.86181698e-03, 2.00000000e+00],\n",
       "        [1.08355900e+02, 3.68516310e-03, 2.00000000e+00],\n",
       "        [1.18855175e+02, 3.17237703e-03, 2.00000000e+00],\n",
       "        [9.17391268e+01, 6.64779144e-03, 2.00000000e+00],\n",
       "        [1.04420640e+02, 1.41939727e-02, 2.00000000e+00],\n",
       "        [1.01563273e+02, 1.30467101e-02, 2.00000000e+00],\n",
       "        [1.01563273e+02, 1.24499050e-02, 2.00000000e+00],\n",
       "        [9.43201021e+01, 5.51235895e-03, 2.00000000e+00],\n",
       "        [9.97019340e+01, 5.51235895e-03, 2.00000000e+00],\n",
       "        [9.97019340e+01, 5.51235895e-03, 2.00000000e+00],\n",
       "        [1.08355900e+02, 5.77660223e-03, 2.00000000e+00],\n",
       "        [1.15602822e+02, 5.61657392e-03, 2.00000000e+00],\n",
       "        [7.62685225e+02, 1.58645289e-03, 2.00000000e+00],\n",
       "        [1.02535686e+03, 1.89539654e-03, 2.00000000e+00],\n",
       "        [1.07388508e+03, 1.05070164e-03, 2.00000000e+00],\n",
       "        [1.48435295e+03, 1.27904640e-03, 2.00000000e+00],\n",
       "        [4.18206868e+03, 8.63122661e-04, 2.00000000e+00],\n",
       "        [5.57063004e+03, 6.10370748e-04, 2.00000000e+00],\n",
       "        [8.06429587e+03, 4.15764041e-04, 2.00000000e+00],\n",
       "        [1.03517409e+04, 2.80564774e-04, 2.00000000e+00],\n",
       "        [1.03517409e+04, 8.15963159e-04, 2.00000000e+00],\n",
       "        [1.59834161e+03, 2.39538294e-03, 2.00000000e+00],\n",
       "        [1.48435295e+03, 2.65528961e-03, 2.00000000e+00],\n",
       "        [1.80253954e+03, 2.51020926e-03, 2.00000000e+00],\n",
       "        [5.83264151e+02, 3.86181698e-03, 2.00000000e+00],\n",
       "        [7.28219939e+02, 5.66941795e-03, 2.00000000e+00],\n",
       "        [8.84321508e+02, 3.54967616e-03, 2.00000000e+00],\n",
       "        [1.02535686e+03, 3.54967616e-03, 2.00000000e+00],\n",
       "        [1.09393348e+03, 3.75483366e-03, 2.00000000e+00],\n",
       "        [1.17794047e+03, 3.45134004e-03, 2.00000000e+00],\n",
       "        [1.36580343e+03, 3.89815122e-03, 2.00000000e+00],\n",
       "        [1.47068826e+03, 3.79016134e-03, 2.00000000e+00],\n",
       "        [1.43044434e+03, 3.54967616e-03, 2.00000000e+00],\n",
       "        [1.54029318e+03, 3.75483366e-03, 2.00000000e+00],\n",
       "        [1.68954174e+03, 3.75483366e-03, 2.00000000e+00],\n",
       "        [1.72108387e+03, 3.89815122e-03, 2.00000000e+00],\n",
       "        [1.87047115e+03, 3.82582140e-03, 2.00000000e+00],\n",
       "        [2.10943530e+03, 4.16224505e-03, 2.00000000e+00],\n",
       "        [2.51466839e+03, 3.93482731e-03, 2.00000000e+00],\n",
       "        [2.73293753e+03, 3.93482731e-03, 2.00000000e+00],\n",
       "        [3.38072957e+03, 4.08501500e-03, 2.00000000e+00],\n",
       "        [4.37999816e+03, 3.79016134e-03, 2.00000000e+00],\n",
       "        [1.73707507e+03, 5.66941795e-03, 2.00000000e+00],\n",
       "        [1.24515284e+03, 5.72275916e-03, 2.00000000e+00],\n",
       "        [1.14570731e+03, 6.58582810e-03, 2.00000000e+00],\n",
       "        [1.40422874e+03, 6.83720136e-03, 2.00000000e+00],\n",
       "        [1.65857769e+03, 6.83720136e-03, 2.00000000e+00],\n",
       "        [1.95899705e+03, 6.83720136e-03, 2.00000000e+00],\n",
       "        [2.01411119e+03, 5.83095189e-03, 2.00000000e+00],\n",
       "        [2.33533020e+03, 5.72275916e-03, 2.00000000e+00],\n",
       "        [2.80982559e+03, 5.72275916e-03, 2.00000000e+00],\n",
       "        [3.60683526e+03, 5.51235895e-03, 2.00000000e+00],\n",
       "        [3.57363138e+03, 6.16795828e-03, 2.00000000e+00],\n",
       "        [3.91990270e+03, 6.16795828e-03, 2.00000000e+00],\n",
       "        [4.84904278e+03, 6.46362871e-03, 2.00000000e+00],\n",
       "        [5.78056821e+03, 6.34369672e-03, 2.00000000e+00],\n",
       "        [6.89104435e+03, 6.34369672e-03, 2.00000000e+00],\n",
       "        [6.70247781e+03, 8.24552411e-03, 2.00000000e+00],\n",
       "        [5.07853889e+03, 7.94237314e-03, 2.00000000e+00],\n",
       "        [4.37999816e+03, 8.16866849e-03, 2.00000000e+00],\n",
       "        [3.25794853e+03, 7.94237314e-03, 2.00000000e+00],\n",
       "        [3.11072380e+03, 7.94237314e-03, 2.00000000e+00],\n",
       "        [2.80982559e+03, 7.94237314e-03, 2.00000000e+00],\n",
       "        [2.44585701e+03, 7.03200797e-03, 2.00000000e+00],\n",
       "        [2.99774880e+03, 6.83720136e-03, 2.00000000e+00],\n",
       "        [1.85325193e+03, 8.01709965e-03, 2.00000000e+00],\n",
       "        [1.75321485e+03, 8.01709965e-03, 2.00000000e+00],\n",
       "        [1.51206439e+03, 7.94237314e-03, 2.00000000e+00],\n",
       "        [1.40422874e+03, 7.94237314e-03, 2.00000000e+00],\n",
       "        [2.49151881e+03, 8.56024600e-03, 2.00000000e+00],\n",
       "        [9.00830941e+02, 5.30969421e-03, 2.00000000e+00],\n",
       "        [8.84321508e+02, 7.65036767e-03, 2.00000000e+00],\n",
       "        [6.52998088e+03, 1.32704319e-02, 3.00000000e+00],\n",
       "        [1.50808221e+04, 1.31380111e-02, 3.00000000e+00],\n",
       "        [1.90489278e+04, 2.65100175e-02, 3.00000000e+00],\n",
       "        [8.82969504e+03, 2.35041638e-02, 3.00000000e+00],\n",
       "        [3.43507903e+03, 2.54676151e-02, 3.00000000e+00],\n",
       "        [3.11650456e+03, 2.37410673e-02, 3.00000000e+00],\n",
       "        [1.92946250e+03, 4.70390816e-02, 4.00000000e+00],\n",
       "        [4.35654298e+03, 4.70390816e-02, 4.00000000e+00]]),\n",
       " 'tri': array([[1.79380226e+01, 3.79959569e-02, 1.00000000e+00],\n",
       "        [2.40912379e+01, 3.92016204e-02, 1.00000000e+00],\n",
       "        [2.60624354e+01, 3.92016204e-02, 1.00000000e+00],\n",
       "        [3.60502267e+01, 3.92016204e-02, 1.00000000e+00],\n",
       "        [4.70093337e+01, 3.83936673e-02, 1.00000000e+00],\n",
       "        [5.23779420e+01, 3.87955406e-02, 1.00000000e+00],\n",
       "        [6.63156560e+01, 3.96119507e-02, 1.00000000e+00],\n",
       "        [7.83785662e+01, 3.79959569e-02, 1.00000000e+00],\n",
       "        [1.05264484e+02, 3.92016204e-02, 1.00000000e+00],\n",
       "        [1.11660296e+02, 3.92016204e-02, 1.00000000e+00],\n",
       "        [1.32318776e+02, 4.05818968e-02, 2.00000000e+00],\n",
       "        [1.97657386e+02, 1.14476541e-02, 2.00000000e+00],\n",
       "        [3.33036697e+02, 1.13285472e-02, 2.00000000e+00],\n",
       "        [6.25816749e+03, 1.32933672e-02, 3.00000000e+00],\n",
       "        [9.45680743e+03, 1.31694612e-02, 3.00000000e+00],\n",
       "        [1.15693344e+04, 1.31694612e-02, 3.00000000e+00],\n",
       "        [1.33614615e+04, 1.31694612e-02, 3.00000000e+00],\n",
       "        [1.52837474e+04, 1.30467101e-02, 3.00000000e+00],\n",
       "        [2.37703914e+04, 1.30467101e-02, 3.00000000e+00],\n",
       "        [5.73047150e+02, 1.13369463e-02, 3.00000000e+00],\n",
       "        [2.01980984e+02, 4.04202922e-02, 4.00000000e+00],\n",
       "        [2.31042118e+02, 4.04202922e-02, 4.00000000e+00],\n",
       "        [2.50449150e+02, 3.96027129e-02, 4.00000000e+00],\n",
       "        [3.74853509e+02, 4.04202922e-02, 4.00000000e+00],\n",
       "        [4.48438073e+02, 4.12547501e-02, 4.00000000e+00],\n",
       "        [7.14642451e+02, 4.08353898e-02, 4.00000000e+00],\n",
       "        [1.33823367e+03, 4.04202922e-02, 4.00000000e+00],\n",
       "        [8.40235737e+03, 4.80875664e-02, 4.00000000e+00],\n",
       "        [1.20249407e+04, 4.80875664e-02, 4.00000000e+00],\n",
       "        [1.53168040e+04, 4.95843434e-02, 4.00000000e+00],\n",
       "        [2.39756505e+04, 4.85814033e-02, 4.00000000e+00],\n",
       "        [3.19385970e+04, 4.85814033e-02, 4.00000000e+00],\n",
       "        [3.31042699e+04, 4.85814033e-02, 4.00000000e+00],\n",
       "        [2.05563597e+01, 1.07646431e-02, 1.00000000e+00],\n",
       "        [2.47490645e+01, 1.05538422e-02, 1.00000000e+00],\n",
       "        [3.22191074e+01, 1.05538422e-02, 1.00000000e+00],\n",
       "        [3.65821714e+01, 1.06587215e-02, 1.00000000e+00],\n",
       "        [4.90402301e+01, 1.07646431e-02, 1.00000000e+00],\n",
       "        [7.17828049e+01, 1.09796545e-02, 1.00000000e+00]])}"
      ]
     },
     "execution_count": 165,
     "metadata": {},
     "output_type": "execute_result"
    }
   ],
   "source": [
    "mat"
   ]
  },
  {
   "cell_type": "code",
   "execution_count": null,
   "metadata": {},
   "outputs": [],
   "source": []
  },
  {
   "cell_type": "markdown",
   "metadata": {},
   "source": [
    "# Hexagons"
   ]
  },
  {
   "cell_type": "markdown",
   "metadata": {},
   "source": [
    "# Squares"
   ]
  },
  {
   "cell_type": "markdown",
   "metadata": {},
   "source": [
    "# Crosses"
   ]
  }
 ],
 "metadata": {
  "kernelspec": {
   "display_name": "Python 3",
   "language": "python",
   "name": "python3"
  },
  "language_info": {
   "codemirror_mode": {
    "name": "ipython",
    "version": 3
   },
   "file_extension": ".py",
   "mimetype": "text/x-python",
   "name": "python",
   "nbconvert_exporter": "python",
   "pygments_lexer": "ipython3",
   "version": "3.7.4"
  }
 },
 "nbformat": 4,
 "nbformat_minor": 4
}

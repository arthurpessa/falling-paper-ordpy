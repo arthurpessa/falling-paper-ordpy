{
 "cells": [
  {
   "cell_type": "code",
   "execution_count": 19,
   "metadata": {
    "ExecuteTime": {
     "end_time": "2021-03-07T05:30:01.582405Z",
     "start_time": "2021-03-07T05:30:01.573148Z"
    },
    "init_cell": true
   },
   "outputs": [
    {
     "data": {
      "text/html": [
       "<style>.container {width:99.5% !important;} </style>"
      ],
      "text/plain": [
       "<IPython.core.display.HTML object>"
      ]
     },
     "metadata": {},
     "output_type": "display_data"
    }
   ],
   "source": [
    "import numpy as np\n",
    "\n",
    "import scipy.io\n",
    "import scipy.stats\n",
    "\n",
    "import matplotlib.pyplot as plt\n",
    "import matplotlib as mpl\n",
    "import seaborn as sns \n",
    "\n",
    "import itertools\n",
    "\n",
    "#extend notebook\n",
    "from IPython.core.display import display, HTML\n",
    "display(HTML(\"<style>.container {width:99.5% !important;} </style>\"))\n",
    "\n",
    "# from tslearn.metrics import dtw as time_warping\n",
    "\n",
    "import ordpy\n",
    "import tqdm\n",
    "import igraph"
   ]
  },
  {
   "cell_type": "code",
   "execution_count": 20,
   "metadata": {
    "ExecuteTime": {
     "end_time": "2021-03-07T05:30:03.714718Z",
     "start_time": "2021-03-07T05:30:03.210888Z"
    },
    "init_cell": true
   },
   "outputs": [],
   "source": [
    "# from sklearn.cluster import SpectralClustering\n",
    "# from sklearn.metrics import silhouette_score"
   ]
  },
  {
   "cell_type": "markdown",
   "metadata": {},
   "source": [
    "# Functions' definitions"
   ]
  },
  {
   "cell_type": "code",
   "execution_count": 21,
   "metadata": {
    "ExecuteTime": {
     "end_time": "2021-03-07T05:30:04.110956Z",
     "start_time": "2021-03-07T05:30:04.104434Z"
    },
    "code_folding": [
     0
    ],
    "init_cell": true
   },
   "outputs": [],
   "source": [
    "def stdfigsize(scale=1, nrows=1, ncols=1, ratio=1.3):\n",
    "    \"\"\"\n",
    "    Returns a tuple to be used as figure size.\n",
    "\n",
    "    Parameters\n",
    "    ----------\n",
    "    returns (7*ratio*scale*nrows, 7.*scale*ncols)\n",
    "    By default: ratio=1.3\n",
    "    ----------\n",
    "    Returns (7*ratio*scale*nrows, 7.*scale*ncols).\n",
    "    \"\"\"\n",
    "\n",
    "    return((7*ratio*scale*ncols, 7.*scale*nrows))"
   ]
  },
  {
   "cell_type": "code",
   "execution_count": 22,
   "metadata": {
    "ExecuteTime": {
     "end_time": "2021-03-07T05:30:04.999611Z",
     "start_time": "2021-03-07T05:30:04.994786Z"
    },
    "code_folding": [
     0
    ],
    "init_cell": true
   },
   "outputs": [],
   "source": [
    "def normalize(array):\n",
    "    \"\"\"\n",
    "    Normalizes an array between 0 and 1.\n",
    "    \"\"\"\n",
    "    return (array-array.min())/(array.max()-array.min())"
   ]
  },
  {
   "cell_type": "code",
   "execution_count": 23,
   "metadata": {
    "ExecuteTime": {
     "end_time": "2021-03-07T05:30:05.975105Z",
     "start_time": "2021-03-07T05:30:05.964642Z"
    },
    "code_folding": [
     2,
     28
    ],
    "init_cell": true
   },
   "outputs": [],
   "source": [
    "#https://github.com/oliviaguest/gini\n",
    "#last modified 31/05/2020\n",
    "def gini_faster(data):\n",
    "    \"\"\"\n",
    "    Calculate the Gini coefficient of a numpy array.\n",
    "    (Allegedly faster implementation to calculate\n",
    "    the Gini index.)\n",
    "     \n",
    "    Parameters\n",
    "    ----------\n",
    "    data: list like object.\n",
    "    ----------\n",
    "    Returns the Gini index of a list of probabilities.    \n",
    "    \"\"\"\n",
    "    # based on bottom eq: http://www.statsdirect.com/help/content/image/stat0206_wmf.gif\n",
    "    # from: http://www.statsdirect.com/help/default.htm#nonparametric_methods/gini.htm\n",
    "\n",
    "#Arthur (modified) line above\n",
    "    array = np.asarray(data).flatten()\n",
    "#     array = array.flatten() #all values are treated equally, arrays must be 1d\n",
    "    if np.amin(array) < 0:\n",
    "        array -= np.amin(array) #values cannot be negative\n",
    "    array += 0.0000001 #values cannot be 0\n",
    "    array = np.sort(array) #values must be sorted\n",
    "    index = np.arange(1,array.shape[0]+1) #index per array element\n",
    "    n = array.shape[0]#number of array elements\n",
    "    return ((np.sum((2 * index - n  - 1) * array)) / (n * np.sum(array))) #Gini coefficient\n",
    "\n",
    "def safe_avg_shortpath(ordnet):\n",
    "    \"\"\"\n",
    "    Calculates the average weighted shortest \n",
    "    path for a graph removing possible\n",
    "    infinities.\n",
    "    \n",
    "    Parameters\n",
    "    ----------\n",
    "    ordinal_network: return of the ordinal_network() function from the ordpy package.\n",
    "    ----------\n",
    "    Returns the average weighted shortest path\n",
    "    calculated after the removal of eventual \n",
    "    infinities.\n",
    "    \"\"\"\n",
    "    nodes, edges, weights = ordnet\n",
    "    \n",
    "    graph = igraph.Graph(directed=True)\n",
    "    graph.add_vertices(nodes)\n",
    "    graph.add_edges(edges)\n",
    "    graph.vs[\"label\"]  = nodes\n",
    "    graph.es[\"weight\"] = weights\n",
    "    \n",
    "    if not True in np.isinf(graph.shortest_paths(weights='weight')):\n",
    "        w = np.asarray(graph.shortest_paths(weights='weight'))\n",
    "        return w.mean()\n",
    "    else:\n",
    "        sp = np.asarray(graph.shortest_paths(weights='weight'))\n",
    "        return np.mean(sp[sp<np.inf])"
   ]
  },
  {
   "cell_type": "code",
   "execution_count": 24,
   "metadata": {
    "ExecuteTime": {
     "end_time": "2021-03-07T05:30:06.913550Z",
     "start_time": "2021-03-07T05:30:06.898572Z"
    },
    "code_folding": [
     6
    ],
    "init_cell": true
   },
   "outputs": [],
   "source": [
    "%matplotlib inline\n",
    "\n",
    "#Style definitions\n",
    "sns.set_style(\"white\")\n",
    "sns.set_style({\"xtick.direction\": \"out\", \"ytick.direction\": \"out\"})\n",
    "\n",
    "rcparams = {\n",
    "    'font.family': 'sans-serif',\n",
    "    'font.sans-serif': ['Helvetica'],\n",
    "    'axes.labelsize': 28,\n",
    "    'axes.titlesize': 28,\n",
    "    'legend.fontsize': 20,\n",
    "    'ytick.right': 'off',\n",
    "    'xtick.top': 'off',\n",
    "    'ytick.left': 'on',\n",
    "    'xtick.bottom': 'on',\n",
    "    'xtick.labelsize': '25',\n",
    "    'ytick.labelsize': '25',\n",
    "    'axes.linewidth': 2.5,\n",
    "    'xtick.major.width': 1.8,\n",
    "    'xtick.minor.width': 1.8,\n",
    "    'xtick.major.size': 14,\n",
    "    'xtick.minor.size': 7,\n",
    "    'xtick.major.pad': 10,\n",
    "    'xtick.minor.pad': 10,\n",
    "    'ytick.major.width': 1.8,\n",
    "    'ytick.minor.width': 1.8,\n",
    "    'ytick.major.size': 14,\n",
    "    'ytick.minor.size': 7,\n",
    "    'ytick.major.pad': 10,\n",
    "    'ytick.minor.pad': 10,\n",
    "    'axes.labelpad': 15,\n",
    "    'axes.titlepad': 15,\n",
    "    'axes.spines.right': False,\n",
    "    'axes.spines.top': False,\n",
    "    'figure.figsize': stdfigsize(),\n",
    "    'lines.linewidth': 3\n",
    "}\n",
    "mpl.rcParams.update(rcparams)"
   ]
  },
  {
   "cell_type": "code",
   "execution_count": 25,
   "metadata": {
    "ExecuteTime": {
     "end_time": "2021-03-07T05:30:08.068903Z",
     "start_time": "2021-03-07T05:30:08.043237Z"
    },
    "code_folding": [
     0
    ],
    "init_cell": true
   },
   "outputs": [],
   "source": [
    "def multi_permutation_entropy(data, dx=3, taux=1, base=2, normalized=True, return_probs=False):\n",
    "    \"\"\"\n",
    "    Calculates Shannon's entropy using an ordinal ditribution extracted from\n",
    "    data (a multidimensional time series).\n",
    "    \n",
    "    Parameters\n",
    "    ----------\n",
    "    data : array\n",
    "           Array object in the format :math:`[[x_{11}, x_{12}, x_{13}, \\\\ldots, x_{1m}],\n",
    "           \\\\ldots, [x_{n1}, x_{n2}, x_{n3}, \\\\ldots, x_{nm}]]` where n is the length \n",
    "           and m is the dimension of a multidimensional time series.\n",
    "    dx : int\n",
    "         Embedding dimension (horizontal axis) (default: 3)\n",
    "    taux : int\n",
    "           Embedding delay (horizontal axis) (default: 1).\n",
    "    base : str, int\n",
    "           Logarithm base in Shannon's entropy. Either 'e' or 2 (default: 'e').\n",
    "    normalized: boolean\n",
    "                If `True`, permutation entropy is normalized by its maximum value.\n",
    "                If `False`, it does not (default: `True`).\n",
    "\n",
    "    Returns\n",
    "    -------\n",
    "     : float\n",
    "       The value of permutation entropy.\n",
    "    \n",
    "    Examples\n",
    "    --------\n",
    "    \"\"\"\n",
    "    try:\n",
    "        ny, nx = np.shape(data)\n",
    "        data   = np.array(data).T\n",
    "    except:\n",
    "        return None\n",
    "    \n",
    "    partitions              = [np.concatenate([[component[i:i+dx*taux:taux]] for i in range(ny-(dx-1)*taux)]) for component in data]\n",
    "    flat_symbolic_sequences = np.apply_along_axis(np.argsort, 2, partitions).reshape(-1, dx)\n",
    "    _, symbols_count        = np.unique(flat_symbolic_sequences, return_counts=True, axis=0)\n",
    "\n",
    "    probabilities = symbols_count/symbols_count.sum()\n",
    "    \n",
    "    if return_probs==True:\n",
    "        miss_symbols  = np.math.factorial(dx)-len(probabilities)\n",
    "        probabilities = np.concatenate((probabilities, np.zeros(miss_symbols)))\n",
    "        \n",
    "        return probabilities\n",
    "    \n",
    "    else:\n",
    "        if normalized==True and base in [2, '2']:        \n",
    "            smax = np.log2(np.math.factorial(dx))\n",
    "            s    = -np.sum(probabilities*np.log2(probabilities))\n",
    "            return s/smax\n",
    "\n",
    "        elif normalized==True and base=='e':        \n",
    "            smax = np.log(np.math.factorial(dx))\n",
    "            s    = -np.sum(probabilities*np.log(probabilities))\n",
    "            return s/smax\n",
    "\n",
    "        elif normalized==False and base in [2, '2']:\n",
    "            return -np.sum(probabilities*np.log2(probabilities))\n",
    "\n",
    "        else:\n",
    "            return -np.sum(probabilities*np.log(probabilities))"
   ]
  },
  {
   "cell_type": "code",
   "execution_count": 26,
   "metadata": {
    "ExecuteTime": {
     "end_time": "2021-03-07T05:30:08.637243Z",
     "start_time": "2021-03-07T05:30:08.619817Z"
    },
    "code_folding": [
     0
    ],
    "init_cell": true
   },
   "outputs": [],
   "source": [
    "def mwpe(data, dx=3, taux=1, base=2, normalized=True, return_probs=False):\n",
    "    \"\"\"\n",
    "    Multivariate weighted permutation entropy.\n",
    "    \n",
    "    Parameters\n",
    "    ----------\n",
    "    data : array\n",
    "           Array object in the format :math:`[[x_{11}, x_{12}, x_{13}, \\\\ldots, x_{1m}],\n",
    "           \\\\ldots, [x_{n1}, x_{n2}, x_{n3}, \\\\ldots, x_{nm}]]` where n is the length \n",
    "           and m is the dimension of a multidimensional time series.\n",
    "    dx : int\n",
    "         Embedding dimension (horizontal axis) (default: 3)\n",
    "    taux : int\n",
    "           Embedding delay (horizontal axis) (default: 1).\n",
    "    base : str, int\n",
    "           Logarithm base in Shannon's entropy. Either 'e' or 2 (default: 'e').\n",
    "    normalized: boolean\n",
    "                If `True`, permutation entropy is normalized by its maximum value.\n",
    "                If `False`, it does not (default: `True`).\n",
    "\n",
    "    Returns\n",
    "    -------\n",
    "     : float\n",
    "       The value of permutation entropy.\n",
    "    \n",
    "    Examples\n",
    "    --------\n",
    "    \"\"\"\n",
    "    try:\n",
    "        ny, nx = np.shape(data)\n",
    "        data   = np.array(data).T\n",
    "    except:\n",
    "        return None\n",
    "    \n",
    "    partitions              = np.asarray([np.concatenate([[component[i:i+dx*taux:taux]] for i in range(ny-(dx-1)*taux)]) for component in data])\n",
    "    weights                 = partitions.var(axis=2).flatten()\n",
    "    flat_symbolic_sequences = np.apply_along_axis(np.argsort, 2, partitions).reshape(-1, dx)\n",
    "    symbols                 = np.unique(flat_symbolic_sequences, return_counts=False, axis=0)\n",
    "\n",
    "\n",
    "    total_variance = []\n",
    "    for symbol in symbols:\n",
    "        z    = flat_symbolic_sequences==symbol\n",
    "        z    = z.sum(axis=1)\n",
    "        args = np.argwhere(z==dx).flatten()\n",
    "        \n",
    "        total_variance.append(sum(weights[args]))\n",
    "\n",
    "    probabilities = total_variance/sum(total_variance)\n",
    "    \n",
    "    if return_probs==True:\n",
    "        miss_symbols  = np.math.factorial(dx)-len(probabilities)\n",
    "        probabilities = np.concatenate((probabilities, np.zeros(miss_symbols)))\n",
    "        \n",
    "        return probabilities\n",
    "    \n",
    "    else:\n",
    "        if normalized==True and base in [2, '2']:        \n",
    "            smax = np.log2(np.math.factorial(dx))\n",
    "            s    = -np.sum(probabilities*np.log2(probabilities))\n",
    "            return s/smax\n",
    "\n",
    "        elif normalized==True and base=='e':        \n",
    "            smax = np.log(np.math.factorial(dx))\n",
    "            s    = -np.sum(probabilities*np.log(probabilities))\n",
    "            return s/smax\n",
    "\n",
    "        elif normalized==False and base in [2, '2']:\n",
    "            return -np.sum(probabilities*np.log2(probabilities))\n",
    "\n",
    "        else:\n",
    "            return -np.sum(probabilities*np.log(probabilities))   "
   ]
  },
  {
   "cell_type": "code",
   "execution_count": 27,
   "metadata": {
    "ExecuteTime": {
     "end_time": "2021-03-07T05:30:09.464785Z",
     "start_time": "2021-03-07T05:30:09.443739Z"
    },
    "code_folding": [
     0
    ],
    "init_cell": true
   },
   "outputs": [],
   "source": [
    "def weighted_permutation_entropy(data, dx=3, taux=1, base=2, normalized=True):\n",
    "    \"\"\"\n",
    "    Multivariate weighted permutation entropy.\n",
    "    \n",
    "    Parameters\n",
    "    ----------\n",
    "    data : array\n",
    "           Array object in the format :math:`[[x_{11}, x_{12}, x_{13}, \\\\ldots, x_{1m}],\n",
    "           \\\\ldots, [x_{n1}, x_{n2}, x_{n3}, \\\\ldots, x_{nm}]]` where n is the length \n",
    "           and m is the dimension of a multidimensional time series.\n",
    "    dx : int\n",
    "         Embedding dimension (horizontal axis) (default: 3)\n",
    "    taux : int\n",
    "           Embedding delay (horizontal axis) (default: 1).\n",
    "    base : str, int\n",
    "           Logarithm base in Shannon's entropy. Either 'e' or 2 (default: 'e').\n",
    "    normalized: boolean\n",
    "                If `True`, permutation entropy is normalized by its maximum value.\n",
    "                If `False`, it does not (default: `True`).\n",
    "\n",
    "    Returns\n",
    "    -------\n",
    "     : float\n",
    "       The value of permutation entropy.\n",
    "    \n",
    "    Examples\n",
    "    --------\n",
    "    \"\"\"\n",
    "    data   = np.asrray(data)\n",
    "    \n",
    "    partitions              = np.asarray([np.concatenate([[component[i:i+dx*taux:taux]] for i in range(ny-(dx-1)*taux)]) for component in data])\n",
    "    weights                 = partitions.var(axis=2).flatten()\n",
    "    flat_symbolic_sequences = np.apply_along_axis(np.argsort, 2, partitions).reshape(-1, dx)\n",
    "    symbols                 = np.unique(flat_symbolic_sequences, return_counts=False, axis=0)\n",
    "\n",
    "\n",
    "    total_variance = []\n",
    "    for symbol in symbols:\n",
    "        z    = flat_symbolic_sequences==symbol\n",
    "        z    = z.sum(axis=1)\n",
    "        args = np.argwhere(z==dx).flatten()\n",
    "        \n",
    "        total_variance.append(sum(weights[args]))\n",
    "\n",
    "    probabilities = total_variance/sum(total_variance)\n",
    "    \n",
    "    if return_probs==True:\n",
    "        miss_symbols  = np.math.factorial(dx)-len(probabilities)\n",
    "        probabilities = np.concatenate((probabilities, np.zeros(miss_symbols)))\n",
    "        \n",
    "        return probabilities\n",
    "    \n",
    "    else:\n",
    "        if normalized==True and base in [2, '2']:        \n",
    "            smax = np.log2(np.math.factorial(dx))\n",
    "            s    = -np.sum(probabilities*np.log2(probabilities))\n",
    "            return s/smax\n",
    "\n",
    "        elif normalized==True and base=='e':        \n",
    "            smax = np.log(np.math.factorial(dx))\n",
    "            s    = -np.sum(probabilities*np.log(probabilities))\n",
    "            return s/smax\n",
    "\n",
    "        elif normalized==False and base in [2, '2']:\n",
    "            return -np.sum(probabilities*np.log2(probabilities))\n",
    "\n",
    "        else:\n",
    "            return -np.sum(probabilities*np.log(probabilities))   "
   ]
  },
  {
   "cell_type": "markdown",
   "metadata": {},
   "source": [
    "# Disks"
   ]
  },
  {
   "cell_type": "markdown",
   "metadata": {},
   "source": [
    "<p style=\"font-size=200px;\"><b>Classification:</b></p>\n",
    "\n",
    "1) Tumbling\n",
    "\n",
    "2) Chaotic\n",
    "\n",
    "3) Steady or periodic behavior</p>"
   ]
  },
  {
   "cell_type": "code",
   "execution_count": 110,
   "metadata": {
    "ExecuteTime": {
     "end_time": "2021-03-07T05:53:47.073478Z",
     "start_time": "2021-03-07T05:53:47.052879Z"
    },
    "init_cell": true
   },
   "outputs": [],
   "source": [
    "shape = 'Square'\n",
    "\n",
    "disk_human_class = scipy.io.loadmat('classification/humanClassification{}.mat'.format(shape))['behaviourHuman'][0]\n",
    "disk_feat_class  = scipy.io.loadmat('classification/data{}Classified.mat'.format(shape))['behaviourAuto'].flatten()\n",
    "\n",
    "#Improving data structure. Extracting data from dataCircle.mat and loading it into data arrays\n",
    "disk_data = scipy.io.loadmat('classification/data{}.mat'.format(shape))"
   ]
  },
  {
   "cell_type": "code",
   "execution_count": 98,
   "metadata": {
    "ExecuteTime": {
     "end_time": "2021-03-07T05:49:03.516089Z",
     "start_time": "2021-03-07T05:49:03.459767Z"
    },
    "code_folding": [
     0
    ],
    "init_cell": true
   },
   "outputs": [],
   "source": [
    "#initial condition of the experiments: 0 (dropping with arm holding the paper horizontally) or 1 (dropping vertically)\n",
    "disk_initcons = []\n",
    "for i in range(len(disk_data['data'][0])):\n",
    "    disk_initcons.append(disk_data['data'][0][i]['initialCondition'][0][0][0][0])\n",
    "disk_initcons = np.asarray(disk_initcons)\n",
    "\n",
    "# radii of the disks dropped\n",
    "disk_radii = []\n",
    "for i in range(len(disk_data['data'][0])):\n",
    "    disk_radii.append(disk_data['data'][0][i]['radius'][0][0][0][0])\n",
    "disk_radii = np.asarray(disk_radii)\n",
    "\n",
    "# camera 1 observable area?\n",
    "disk_cam1 = []\n",
    "for i in range(len(disk_data['data'][0])):\n",
    "    disk_cam1.append(disk_data['data'][0][i]['areaCam1'][0][0].flatten())\n",
    "disk_cam1 = np.asarray(disk_cam1)\n",
    "\n",
    "# camera 2 observable area?\n",
    "disk_cam2 = []\n",
    "for i in range(len(disk_data['data'][0])):\n",
    "    disk_cam2.append(disk_data['data'][0][i]['areaCam2'][0][0].flatten())\n",
    "disk_cam2 = np.asarray(disk_cam2)\n",
    "\n",
    "# coordinates (x, y, z) along trajectory from 1m high to the floor.\n",
    "disk_trajectories = []\n",
    "for i in range(len(disk_data['data'][0])):\n",
    "    disk_trajectories.append(disk_data['data'][0][i]['trajectory'][0][0])\n",
    "disk_trajectories = np.asarray(disk_trajectories)\n",
    "\n",
    "clean_disk_trajectories = []\n",
    "clean_disk_initcons     = []\n",
    "clean_disk_class        = []\n",
    "clean_disk_radii        = []\n",
    "clean_disk_cam2         = []\n",
    "clean_disk_cam1         = []\n",
    "\n",
    "for i in range(len(disk_trajectories)):\n",
    "    #vertical trajectory\n",
    "    z                = disk_trajectories[i][::,2]\n",
    "    # removing the last 5 centimeters of the fall.\n",
    "    trajectory       = disk_trajectories[i][z>.05]\n",
    "    \n",
    "    #removing from area series, the last 5cm of the fall\n",
    "    cut_5pc   = len(z)-len(z[z>.05])\n",
    "    area_cam2 = disk_cam2[i][:-cut_5pc]\n",
    "    area_cam1 = disk_cam1[i][:-cut_5pc]\n",
    "\n",
    "#(original comment) Segment steady and periodic behaviours from trajectories. \n",
    "#We only see steady and periodic from horizontal initial condition.\n",
    "    if disk_initcons[i]==0:        \n",
    "        boolean_trajectory = np.sqrt(trajectory[::,0]**2 + trajectory[::,1]**2)<.2*disk_radii[i]\n",
    "        steady_index       = boolean_trajectory.tolist().index(False)\n",
    "\n",
    "        if steady_index>1: #(original comment) Segment trajectory into steady(periodic)/unknown if more than 2 time-steps are steady(periodic)\n",
    "#             pass\n",
    "#             print(steady_index)\n",
    "            clean_disk_trajectories.append(trajectory[:steady_index])\n",
    "            clean_disk_initcons.append(0)\n",
    "            clean_disk_radii.append(disk_radii[i])\n",
    "            clean_disk_class.append(3)\n",
    "            clean_disk_cam1.append(area_cam1[:steady_index])\n",
    "            clean_disk_cam2.append(area_cam2[:steady_index])\n",
    "            \n",
    "            if len(trajectory[steady_index:])>10: #second part of the sliced original trajectory.\n",
    "                clean_disk_trajectories.append(trajectory[steady_index:])\n",
    "                clean_disk_initcons.append(0)\n",
    "                clean_disk_radii.append(disk_radii[i])\n",
    "                clean_disk_class.append(np.nan)\n",
    "                clean_disk_cam1.append(area_cam1[steady_index:])\n",
    "                clean_disk_cam2.append(area_cam2[steady_index:])\n",
    "                \n",
    "                \n",
    "            else: pass\n",
    "        \n",
    "        else: #no segmentation; only one behavior through the whole fall\n",
    "            clean_disk_trajectories.append(trajectory[steady_index:])\n",
    "            clean_disk_initcons.append(0)\n",
    "            clean_disk_radii.append(disk_radii[i])\n",
    "            clean_disk_class.append(np.nan)\n",
    "            clean_disk_cam1.append(area_cam1[steady_index:])\n",
    "            clean_disk_cam2.append(area_cam2[steady_index:])\n",
    "                \n",
    "    else: #no trajectory segmentation\n",
    "        boolean_trajectory = np.sqrt(trajectory[::,0]**2 + trajectory[::,1]**2)<0.01\n",
    "        cut_index          = boolean_trajectory.tolist().index(False)\n",
    "        \n",
    "        if len(trajectory[cut_index:])>10: #second part of the sliced original trajectory.\n",
    "            clean_disk_trajectories.append(trajectory[cut_index:])\n",
    "            clean_disk_initcons.append(1)\n",
    "            clean_disk_radii.append(disk_radii[i])\n",
    "            clean_disk_class.append(np.nan)\n",
    "            clean_disk_cam1.append(area_cam1[cut_index:])\n",
    "            clean_disk_cam2.append(area_cam2[cut_index:])\n",
    "\n",
    "# np.save('pickles/clean_disk_trajectories.npy', clean_disk_trajectories)\n",
    "# np.save('pickles/clean_disk_initcons.npy', clean_disk_initcons)    \n",
    "# np.save('pickles/clean_disk_class.npy', clean_disk_class)       \n",
    "# np.save('pickles/clean_disk_radii.npy', clean_disk_radii)       \n",
    "# np.save('pickles/clean_disk_class.npy', clean_disk_class)       "
   ]
  },
  {
   "cell_type": "code",
   "execution_count": 50,
   "metadata": {
    "ExecuteTime": {
     "end_time": "2021-03-07T05:35:31.305256Z",
     "start_time": "2021-03-07T05:35:31.300179Z"
    },
    "code_folding": [
     0
    ]
   },
   "outputs": [],
   "source": [
    "#PLOTTING RÈNYI OR TSALLIS CURVES\n",
    "# dx_ = 4\n",
    "\n",
    "# for i in tqdm.tqdm(range(len(clean_disk_trajectories))):\n",
    "#     if not clean_disk_class[i]==3:    \n",
    "#         ts     = np.stack((normalize(clean_disk_cam1[i]), normalize(clean_disk_cam2[i])), axis=1)\n",
    "#         p      = multi_permutation_entropy(ts, dx=dx_, return_probs=True)\n",
    "#         data   = np.asarray(ordpy.renyi_complexity_entropy(p, dx=dx_, alpha=np.logspace(-3, 2, num=100), probs=True))\n",
    "#         h_, c_ = data.T\n",
    "#         #\n",
    "#         #\n",
    "#         f, ax  = plt.subplots()\n",
    "#         if disk_human_class[i]==1:\n",
    "#             ax.plot(h_, c_, '-', color='#C05A3C', label='Tumbling')\n",
    "#         if disk_human_class[i]==2:\n",
    "#             ax.plot(h_, c_, '-', color='#3888BA', label='Chaotic')\n",
    "            \n",
    "#         ax.set_ylabel(r'Statistical complexity, $C$')\n",
    "#         ax.set_xlabel(r'Permutation entropy, $H$')\n",
    "#         ax.legend(frameon=True)\n",
    "        \n",
    "#         f.tight_layout()\n",
    "#         f.savefig('figures/sample-{}-renyi(cam1).svg'.format(i), bbox_inches='tight')\n",
    "#         plt.close()\n",
    "        \n",
    "#     else:\n",
    "#         pass"
   ]
  },
  {
   "cell_type": "code",
   "execution_count": 75,
   "metadata": {
    "ExecuteTime": {
     "end_time": "2021-03-06T07:00:36.203567Z",
     "start_time": "2021-03-06T07:00:35.976267Z"
    },
    "code_folding": [
     0
    ]
   },
   "outputs": [],
   "source": [
    "#3D plotting\n",
    "# from mpl_toolkits.mplot3d import Axes3D\n",
    "\n",
    "# fig = plt.figure()\n",
    "# ax  = fig.gca(projection='3d')\n",
    "\n",
    "# h1, h2 = np.asarray(disk_ce).T\n",
    "\n",
    "# for pe_,h1_,h2_,  class_ in zip(pe,h1,h2,disk_human_class):\n",
    "#     if class_ == 1:\n",
    "#         ax.scatter(pe_, h1_, h2_, '.', marker='*', color='grey')\n",
    "#     elif class_ == 2:\n",
    "#         ax.scatter(pe_, h1_, h2_,  '.', marker='*', color='blue')\n",
    "#     if class_ == 3:\n",
    "#         pass\n",
    "\n",
    "# plt.show()"
   ]
  },
  {
   "cell_type": "code",
   "execution_count": 115,
   "metadata": {
    "ExecuteTime": {
     "end_time": "2021-03-07T05:56:04.427728Z",
     "start_time": "2021-03-07T05:56:02.741538Z"
    }
   },
   "outputs": [
    {
     "data": {
      "image/png": "[encoded data removed]",
      "text/plain": [
       "<Figure size 655.2x504 with 1 Axes>"
      ]
     },
     "metadata": {},
     "output_type": "display_data"
    }
   ],
   "source": [
    "# for ts in clean_disk_trajectories:\n",
    "#     disk_ce.append(mwpe(ts, dx=4))\n",
    "\n",
    "dx_     = 4\n",
    "disk_ce = []    \n",
    "for ts, ts1, ts2, class_ in zip(clean_disk_trajectories, clean_disk_cam1, clean_disk_cam2, clean_disk_class):\n",
    "    if class_==3:\n",
    "        disk_ce.append((np.nan, np.nan))\n",
    "    else:\n",
    "#         ts = np.stack((normalize(ts1), normalize(ts2)), axis=1)\n",
    "#         ts1 =  normalize(ts1)\n",
    "#         print(i)\n",
    "#         ts = np.diff(ts, axis=0)\n",
    "#         p  = multi_permutation_entropy(ts, dx=dx_, return_probs=True)\n",
    "#         p2 = mwpe(ts, dx=dx_, return_probs=True)\n",
    "#         disk_ce.append(ordpy.complexity_entropy(p, dx=dx_, probs=True))\n",
    "#         disk_ce.append([p, p2])\n",
    "        ordnet = ordpy.ordinal_network(normalize(ts1), dx=dx_)\n",
    "        path_  = safe_avg_shortpath(ordnet)\n",
    "        disk_ce.append([ordpy.global_node_entropy(ordnet, dx=dx_), path_])\n",
    "\n",
    "# for i, h_, class_ in zip(range(len(disk_ce)), disk_ce, disk_human_class):\n",
    "#     if class_ == 1:\n",
    "#         plt.plot(i, h_, '.', marker='*', color='grey')\n",
    "#     elif class_ == 2:\n",
    "#         plt.plot(i, h_, '.', marker='*', color='blue')\n",
    "#     if class_ == 3:\n",
    "#         pass\n",
    "\n",
    "# disk_feat_class['behaviourAuto'].flatten()\n",
    "# for (h_, c_), class_ in zip(disk_ce, disk_human_class):\n",
    "for (h_, c_), class_ in zip(disk_ce, disk_feat_class): \n",
    "    if class_ == 1:\n",
    "        plt.plot(h_, c_, '.', marker='*', color='grey')\n",
    "    elif class_ == 2:\n",
    "        plt.plot(h_,c_,  '.', marker='*', color='blue', zorder=0)\n",
    "    if class_ == 3:\n",
    "        pass"
   ]
  },
  {
   "cell_type": "code",
   "execution_count": 116,
   "metadata": {
    "ExecuteTime": {
     "end_time": "2021-03-07T06:17:22.069321Z",
     "start_time": "2021-03-07T06:17:22.058902Z"
    }
   },
   "outputs": [],
   "source": [
    "# for i in tqdm.tqdm(range(len(clean_disk_trajectories))):\n",
    "\n",
    "#     f, ax = plt.subplots()\n",
    "#     x_, z_ = clean_disk_trajectories[i][::,0], clean_disk_trajectories[i][::,2]\n",
    "    \n",
    "#     ax.plot(x_, z_, '-', color='grey')\n",
    "#     ax.set_ylabel('z, altura')\n",
    "#     ax.set_xlabel('x, lateral')\n",
    "    \n",
    "#     ax.vlines(x=0, ymin=0, ymax=1, linestyle='--', zorder= 0)\n",
    "\n",
    "#     f.tight_layout()\n",
    "#     f.savefig('figures/{}cross.svg'.format(i), bbox_inches='tight')\n",
    "#     plt.close()"
   ]
  },
  {
   "cell_type": "code",
   "execution_count": 208,
   "metadata": {
    "ExecuteTime": {
     "end_time": "2021-03-05T02:47:27.033866Z",
     "start_time": "2021-03-05T02:47:26.771713Z"
    }
   },
   "outputs": [
    {
     "data": {
      "image/png": "[encoded data removed]",
      "text/plain": [
       "<Figure size 655.2x504 with 1 Axes>"
      ]
     },
     "metadata": {},
     "output_type": "display_data"
    }
   ],
   "source": [
    "# for i in tqdm.tqdm(range(len(clean_disk_trajectories))):\n",
    "\n",
    "f, ax = plt.subplots()\n",
    "for i in [21,6]:\n",
    "    if i==21:\n",
    "        x_, z_ = clean_disk_trajectories[i][::,0], clean_disk_trajectories[i][::,2]\n",
    "        ax.plot(x_, z_, '-', color='grey')\n",
    "    else:\n",
    "        x_, z_ = clean_disk_trajectories[i][::,0], clean_disk_trajectories[i][::,2]\n",
    "        ax.plot(x_, z_, '.', color='blue')\n",
    "\n",
    "    ax.vlines(x=0, ymin=0, ymax=1, linestyle='--', zorder= 0)\n",
    "    ax.set_ylabel('z, altura')\n",
    "    ax.set_xlabel('x, lateral')\n",
    "\n",
    "    f.tight_layout()\n",
    "# f.savefig('figures/{}.svg'.format(i), bbox_inches='tight')\n",
    "# plt.close()"
   ]
  },
  {
   "cell_type": "code",
   "execution_count": 261,
   "metadata": {
    "ExecuteTime": {
     "end_time": "2021-03-04T06:06:06.875397Z",
     "start_time": "2021-03-04T06:05:45.298277Z"
    }
   },
   "outputs": [],
   "source": [
    "# 21seconds to run.\n",
    "dtw_matrix = []\n",
    "ts         = rev_disk_trajectories\n",
    "A          = range(ts.__len__())\n",
    "\n",
    "k          = ts.__len__()\n",
    "dtw_matrix = []\n",
    "for i,j in list(itertools.product(A, A)):\n",
    "    ts1 = scipy.stats.zscore(ts[i][::,0::2], axis=0)\n",
    "    ts2 = scipy.stats.zscore(ts[j][::,0::2], axis=0)\n",
    "    dtw_matrix.append(time_warping(ts1, ts2))\n",
    "dtw_matrix = np.reshape(dtw_matrix, (170,-1))"
   ]
  },
  {
   "cell_type": "code",
   "execution_count": 230,
   "metadata": {
    "ExecuteTime": {
     "end_time": "2021-03-04T05:58:45.482474Z",
     "start_time": "2021-03-04T05:58:45.475771Z"
    }
   },
   "outputs": [],
   "source": [
    "def check_symmetric(a, tol=1e-8):\n",
    "    \"\"\"Checks if matrix is symmetric.\"\"\"\n",
    "    return np.all(np.abs(a-a.T) < tol)"
   ]
  },
  {
   "cell_type": "markdown",
   "metadata": {},
   "source": [
    "# Hexagons"
   ]
  },
  {
   "cell_type": "markdown",
   "metadata": {},
   "source": [
    "# Squares"
   ]
  },
  {
   "cell_type": "markdown",
   "metadata": {},
   "source": [
    "# Crosses"
   ]
  }
 ],
 "metadata": {
  "kernelspec": {
   "display_name": "Python 3",
   "language": "python",
   "name": "python3"
  },
  "language_info": {
   "codemirror_mode": {
    "name": "ipython",
    "version": 3
   },
   "file_extension": ".py",
   "mimetype": "text/x-python",
   "name": "python",
   "nbconvert_exporter": "python",
   "pygments_lexer": "ipython3",
   "version": "3.7.4"
  }
 },
 "nbformat": 4,
 "nbformat_minor": 4
}

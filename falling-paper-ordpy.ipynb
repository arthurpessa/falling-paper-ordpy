{
 "cells": [
  {
   "cell_type": "code",
   "execution_count": 1,
   "metadata": {
    "ExecuteTime": {
     "end_time": "2021-04-10T21:04:49.063693Z",
     "start_time": "2021-04-10T21:04:47.992680Z"
    },
    "init_cell": true
   },
   "outputs": [
    {
     "data": {
      "text/html": [
       "<style>.container {width:99.5% !important;} </style>"
      ],
      "text/plain": [
       "<IPython.core.display.HTML object>"
      ]
     },
     "metadata": {},
     "output_type": "display_data"
    }
   ],
   "source": [
    "import numpy as np\n",
    "\n",
    "import scipy.io\n",
    "import scipy.stats\n",
    "\n",
    "import matplotlib.pyplot as plt\n",
    "import matplotlib as mpl\n",
    "import seaborn as sns \n",
    "\n",
    "import itertools\n",
    "\n",
    "#extend notebook\n",
    "from IPython.core.display import display, HTML\n",
    "display(HTML(\"<style>.container {width:99.5% !important;} </style>\"))\n",
    "\n",
    "# from tslearn.metrics import dtw as time_warping\n",
    "\n",
    "import ordpy\n",
    "import tqdm\n",
    "import igraph\n",
    "\n",
    "\n",
    "from numpy import linalg as LA\n",
    "from scipy.signal import find_peaks"
   ]
  },
  {
   "cell_type": "code",
   "execution_count": 2,
   "metadata": {
    "ExecuteTime": {
     "end_time": "2021-04-10T21:04:49.068835Z",
     "start_time": "2021-04-10T21:04:49.066127Z"
    },
    "init_cell": true
   },
   "outputs": [],
   "source": [
    "# from sklearn.cluster import SpectralClustering\n",
    "# from sklearn.metrics import silhouette_score"
   ]
  },
  {
   "cell_type": "markdown",
   "metadata": {
    "heading_collapsed": true
   },
   "source": [
    "# Functions' definitions"
   ]
  },
  {
   "cell_type": "code",
   "execution_count": 3,
   "metadata": {
    "ExecuteTime": {
     "end_time": "2021-04-10T21:04:49.076837Z",
     "start_time": "2021-04-10T21:04:49.072007Z"
    },
    "code_folding": [
     0
    ],
    "hidden": true,
    "init_cell": true
   },
   "outputs": [],
   "source": [
    "def stdfigsize(scale=1, nrows=1, ncols=1, ratio=1.3):\n",
    "    \"\"\"\n",
    "    Returns a tuple to be used as figure size.\n",
    "\n",
    "    Parameters\n",
    "    ----------\n",
    "    returns (7*ratio*scale*nrows, 7.*scale*ncols)\n",
    "    By default: ratio=1.3\n",
    "    ----------\n",
    "    Returns (7*ratio*scale*nrows, 7.*scale*ncols).\n",
    "    \"\"\"\n",
    "\n",
    "    return((7*ratio*scale*ncols, 7.*scale*nrows))"
   ]
  },
  {
   "cell_type": "code",
   "execution_count": 4,
   "metadata": {
    "ExecuteTime": {
     "end_time": "2021-04-10T21:04:49.096250Z",
     "start_time": "2021-04-10T21:04:49.079517Z"
    },
    "code_folding": [
     6
    ],
    "hidden": true,
    "init_cell": true
   },
   "outputs": [],
   "source": [
    "%matplotlib inline\n",
    "\n",
    "#Style definitions\n",
    "sns.set_style(\"white\")\n",
    "sns.set_style({\"xtick.direction\": \"out\", \"ytick.direction\": \"out\"})\n",
    "\n",
    "rcparams = {\n",
    "    'font.family': 'sans-serif',\n",
    "    'font.sans-serif': ['Helvetica'],\n",
    "    'axes.labelsize': 28,\n",
    "    'axes.titlesize': 28,\n",
    "    'legend.fontsize': 20,\n",
    "    'ytick.right': 'off',\n",
    "    'xtick.top': 'off',\n",
    "    'ytick.left': 'on',\n",
    "    'xtick.bottom': 'on',\n",
    "    'xtick.labelsize': '25',\n",
    "    'ytick.labelsize': '25',\n",
    "    'axes.linewidth': 2.5,\n",
    "    'xtick.major.width': 1.8,\n",
    "    'xtick.minor.width': 1.8,\n",
    "    'xtick.major.size': 14,\n",
    "    'xtick.minor.size': 7,\n",
    "    'xtick.major.pad': 10,\n",
    "    'xtick.minor.pad': 10,\n",
    "    'ytick.major.width': 1.8,\n",
    "    'ytick.minor.width': 1.8,\n",
    "    'ytick.major.size': 14,\n",
    "    'ytick.minor.size': 7,\n",
    "    'ytick.major.pad': 10,\n",
    "    'ytick.minor.pad': 10,\n",
    "    'axes.labelpad': 15,\n",
    "    'axes.titlepad': 15,\n",
    "    'axes.spines.right': False,\n",
    "    'axes.spines.top': False,\n",
    "    'figure.figsize': stdfigsize(),\n",
    "    'lines.linewidth': 3\n",
    "}\n",
    "mpl.rcParams.update(rcparams)"
   ]
  },
  {
   "cell_type": "code",
   "execution_count": 5,
   "metadata": {
    "ExecuteTime": {
     "end_time": "2021-04-10T21:04:49.103103Z",
     "start_time": "2021-04-10T21:04:49.098668Z"
    },
    "code_folding": [
     0
    ],
    "hidden": true,
    "init_cell": true
   },
   "outputs": [],
   "source": [
    "def normalize(array):\n",
    "    \"\"\"\n",
    "    Normalizes an array between 0 and 1.\n",
    "    \"\"\"\n",
    "    return (array-array.min())/(array.max()-array.min())"
   ]
  },
  {
   "cell_type": "code",
   "execution_count": 6,
   "metadata": {
    "ExecuteTime": {
     "end_time": "2021-04-10T21:04:49.118468Z",
     "start_time": "2021-04-10T21:04:49.105164Z"
    },
    "code_folding": [
     2,
     28
    ],
    "hidden": true,
    "init_cell": true
   },
   "outputs": [],
   "source": [
    "#https://github.com/oliviaguest/gini\n",
    "#last modified 31/05/2020\n",
    "def gini_faster(data):\n",
    "    \"\"\"\n",
    "    Calculate the Gini coefficient of a numpy array.\n",
    "    (Allegedly faster implementation to calculate\n",
    "    the Gini index.)\n",
    "     \n",
    "    Parameters\n",
    "    ----------\n",
    "    data: list like object.\n",
    "    ----------\n",
    "    Returns the Gini index of a list of probabilities.    \n",
    "    \"\"\"\n",
    "    # based on bottom eq: http://www.statsdirect.com/help/content/image/stat0206_wmf.gif\n",
    "    # from: http://www.statsdirect.com/help/default.htm#nonparametric_methods/gini.htm\n",
    "\n",
    "#Arthur (modified) line above\n",
    "    array = np.asarray(data).flatten()\n",
    "#     array = array.flatten() #all values are treated equally, arrays must be 1d\n",
    "    if np.amin(array) < 0:\n",
    "        array -= np.amin(array) #values cannot be negative\n",
    "    array += 0.0000001 #values cannot be 0\n",
    "    array = np.sort(array) #values must be sorted\n",
    "    index = np.arange(1,array.shape[0]+1) #index per array element\n",
    "    n = array.shape[0]#number of array elements\n",
    "    return ((np.sum((2 * index - n  - 1) * array)) / (n * np.sum(array))) #Gini coefficient\n",
    "\n",
    "def safe_avg_shortpath(ordnet):\n",
    "    \"\"\"\n",
    "    Calculates the average weighted shortest \n",
    "    path for a graph removing possible\n",
    "    infinities.\n",
    "    \n",
    "    Parameters\n",
    "    ----------\n",
    "    ordinal_network: return of the ordinal_network() function from the ordpy package.\n",
    "    ----------\n",
    "    Returns the average weighted shortest path\n",
    "    calculated after the removal of eventual \n",
    "    infinities.\n",
    "    \"\"\"\n",
    "    nodes, edges, weights = ordnet\n",
    "    \n",
    "    graph = igraph.Graph(directed=True)\n",
    "    graph.add_vertices(nodes)\n",
    "    graph.add_edges(edges)\n",
    "    graph.vs[\"label\"]  = nodes\n",
    "    graph.es[\"weight\"] = weights\n",
    "    \n",
    "    if not True in np.isinf(graph.shortest_paths(weights='weight')):\n",
    "        w = np.asarray(graph.shortest_paths(weights='weight'))\n",
    "        return w.mean()\n",
    "    else:\n",
    "        sp = np.asarray(graph.shortest_paths(weights='weight'))\n",
    "        return np.mean(sp[sp<np.inf])"
   ]
  },
  {
   "cell_type": "code",
   "execution_count": 7,
   "metadata": {
    "ExecuteTime": {
     "end_time": "2021-04-10T21:04:49.144052Z",
     "start_time": "2021-04-10T21:04:49.121519Z"
    },
    "code_folding": [
     0
    ],
    "hidden": true,
    "init_cell": true
   },
   "outputs": [],
   "source": [
    "def full_ordinal_distribution(data, dx=3, taux=1, multi=False):\n",
    "    \"\"\"\n",
    "    Ordinal probability distribution. Ordered and with \n",
    "    permutations with zero probability.\n",
    "    \n",
    "    Parameter\n",
    "    ---------\n",
    "    data : array\n",
    "           Array object in the format :math:`[x_{1}, x_{2}, x_{3}, \\\\ldots ,x_{n}]`\n",
    "           or  :math:`[[x_{11}, x_{12}, x_{13}, \\\\ldots, x_{1m}],\n",
    "           \\\\ldots, [x_{n1}, x_{n2}, x_{n3}, \\\\ldots, x_{nm}]]`\n",
    "           or an ordinal probability distribution (such as the ones returned by \n",
    "           `full_ordinal_distribution`).\n",
    "    dx : int\n",
    "         Embedding dimension (horizontal axis) (default: 3).\n",
    "    taux : int\n",
    "           Embedding delay (horizontal axis) (default: 1).\n",
    "    multi : boolean\n",
    "            If `True`, assumes **data** is multivariate time series. If \n",
    "            `False`, **data** is expected to be a one-dimensional \n",
    "            array (default: `False`). \n",
    "    ---------\n",
    "     : tuple\n",
    "       Tuple containing two arrays, one with the ordinal patterns occurring in data \n",
    "       and another with their corresponding probabilities.\n",
    "\n",
    "    \"\"\"\n",
    "    if multi==False:\n",
    "        try:\n",
    "            ny, nx = np.shape(data)\n",
    "            data   = np.array(data)\n",
    "        except:\n",
    "            nx     = np.shape(data)[0]\n",
    "            ny     = 1\n",
    "            data   = np.array([data])\n",
    "            \n",
    "        partitions = np.concatenate(\n",
    "            [\n",
    "                [np.concatenate(data[j:j+1:1,i:i+dx*taux:taux]) for i in range(nx-(dx-1)*taux)] \n",
    "                for j in range(ny)\n",
    "            ]\n",
    "        )\n",
    "\n",
    "        symbols = np.apply_along_axis(np.argsort, 1, partitions)\n",
    "        symbols, symbols_count = np.unique(symbols, return_counts=True, axis=0)\n",
    "\n",
    "        probabilities = symbols_count/len(partitions)\n",
    "        full_symbols  = np.asarray(list(itertools.permutations(np.arange(dx))))\n",
    "\n",
    "        flat_symbols     = np.apply_along_axis(np.array2string, 1, symbols, separator='')\n",
    "        full_symbols_str = np.apply_along_axis(np.array2string, 1, full_symbols, separator='')\n",
    "        full_probs       = np.full(len(full_symbols), 0.)\n",
    "\n",
    "        for symbol_, probs_ in zip(flat_symbols, probabilities):\n",
    "            index             = np.argwhere(symbol_==full_symbols_str).flatten()\n",
    "            full_probs[index] = probs_\n",
    "\n",
    "        return full_symbols, full_probs\n",
    "        \n",
    "    else:\n",
    "        try:\n",
    "            ny, nx = np.shape(data)\n",
    "            data   = np.array(data).T\n",
    "        except:\n",
    "            return None\n",
    "\n",
    "        partitions                  = [np.concatenate([[component[i:i+dx*taux:taux]] for i in range(ny-(dx-1)*taux)]) for component in data]\n",
    "        flat_symbolic_sequences     = np.apply_along_axis(np.argsort, 2, partitions).reshape(-1, dx)\n",
    "        flat_symbols, symbols_count = np.unique(flat_symbolic_sequences, return_counts=True, axis=0)\n",
    "\n",
    "        probabilities = symbols_count/symbols_count.sum()\n",
    "        full_symbols  = np.asarray(list(itertools.permutations(np.arange(dx))))\n",
    "\n",
    "        flat_symbols     = np.apply_along_axis(np.array2string, 1, flat_symbols, separator='')\n",
    "        full_symbols_str = np.apply_along_axis(np.array2string, 1, full_symbols, separator='')\n",
    "        full_probs       = np.full(len(full_symbols), 0.)\n",
    "\n",
    "        for symbol_, probs_ in zip(flat_symbols, probabilities):\n",
    "            index             = np.argwhere(symbol_==full_symbols_str).flatten()\n",
    "            full_probs[index] = probs_\n",
    "\n",
    "        return full_symbols, full_probs"
   ]
  },
  {
   "cell_type": "code",
   "execution_count": 8,
   "metadata": {
    "ExecuteTime": {
     "end_time": "2021-04-10T21:04:49.160402Z",
     "start_time": "2021-04-10T21:04:49.146999Z"
    },
    "code_folding": [
     0
    ],
    "hidden": true,
    "init_cell": true
   },
   "outputs": [],
   "source": [
    "def fisher_shannon(data, dx=3, taux=1, probs=False, multi=False):\n",
    "    \"\"\"\n",
    "    Calculates permutation entropy\\\\ [#bandt_pompe]_ and Fisher \n",
    "    information using an ordinal distribution obtained from data.\n",
    "    \n",
    "    Parameters\n",
    "    ----------\n",
    "    data : array\n",
    "           Array object in the format :math:`[x_{1}, x_{2}, x_{3}, \\\\ldots ,x_{n}]`\n",
    "           or  :math:`[[x_{11}, x_{12}, x_{13}, \\\\ldots, x_{1m}],\n",
    "           \\\\ldots, [x_{n1}, x_{n2}, x_{n3}, \\\\ldots, x_{nm}]]`\n",
    "           or an ordinal probability distribution (such as the ones returned by \n",
    "           `full_ordinal_distribution`).\n",
    "    dx : int\n",
    "         Embedding dimension (horizontal axis) (default: 3).\n",
    "    taux : int\n",
    "           Embedding delay (horizontal axis) (default: 1).\n",
    "    probs : boolean\n",
    "            If `True`, assumes **data** is an ordinal probability distribution. If \n",
    "            `False`, **data** is expected to be a one- or two-dimensional \n",
    "            array (default: `False`). \n",
    "    multi : boolean\n",
    "            If `True`, assumes **data** is multivariate time series. If \n",
    "            `False`, **data** is expected to be a one-dimensional \n",
    "            array (default: `False`). \n",
    "\n",
    "    Returns\n",
    "    -------\n",
    "     : tuple\n",
    "       Values of permutation entropy and Fisher information.\n",
    "    \"\"\"  \n",
    "    if multi==False:\n",
    "        if probs==False:\n",
    "            _, dist_ = full_ordinal_distribution(data, dx, taux)\n",
    "            h_       = ordpy.permutation_entropy(dist_, dx, taux, probs=True)\n",
    "        else:\n",
    "            dist_    = data\n",
    "            h_       = ordpy.permutation_entropy(dist_, dx, taux, probs=True)\n",
    "\n",
    "        if dist_[0]==1. or dist_[-1]==1.: # F = F_0 \\sum_{i = 1}^{N - 1} (\\sqrt{p_{i+1}} - \\sqrt{p_{i}})^2\n",
    "            return h_, np.sum(np.diff(np.sqrt(dist_[::-1]))**2)  # with F_0=1\n",
    "        else:\n",
    "            return h_, 0.5*np.sum(np.diff(np.sqrt(dist_[::-1]))**2) # with F_0=1/2\n",
    "        \n",
    "    else:\n",
    "        if probs==False:\n",
    "            _, dist_ = full_ordinal_distribution(data, dx, taux, multi=True)\n",
    "            h_       = ordpy.permutation_entropy(dist_, dx, taux, probs=True)\n",
    "        else:\n",
    "            dist_    = data\n",
    "            h_       = ordpy.permutation_entropy(dist_, dx, taux, probs=True)\n",
    "\n",
    "        if dist_[0]==1. or dist_[-1]==1.: # F = F_0 \\sum_{i = 1}^{N - 1} (\\sqrt{p_{i+1}} - \\sqrt{p_{i}})^2\n",
    "            return h_, np.sum(np.diff(np.sqrt(dist_[::-1]))**2) # with F_0=1\n",
    "        else:\n",
    "            return h_, 0.5*np.sum(np.diff(np.sqrt(dist_[::-1]))**2) # with F_0=1/2"
   ]
  },
  {
   "cell_type": "code",
   "execution_count": 9,
   "metadata": {
    "ExecuteTime": {
     "end_time": "2021-04-10T21:04:49.178170Z",
     "start_time": "2021-04-10T21:04:49.162480Z"
    },
    "code_folding": [
     0
    ],
    "hidden": true,
    "init_cell": true
   },
   "outputs": [],
   "source": [
    "def multi_permutation_entropy(data, dx=3, taux=1, base=2, normalized=True, return_probs=False):\n",
    "    \"\"\"\n",
    "    Calculates Shannon's entropy using an ordinal ditribution extracted from\n",
    "    data (a multidimensional time series).\n",
    "    \n",
    "    Parameters\n",
    "    ----------\n",
    "    data : array\n",
    "           Array object in the format :math:`[[x_{11}, x_{12}, x_{13}, \\\\ldots, x_{1m}],\n",
    "           \\\\ldots, [x_{n1}, x_{n2}, x_{n3}, \\\\ldots, x_{nm}]]` where n is the length \n",
    "           and m is the dimension of a multidimensional time series.\n",
    "    dx : int\n",
    "         Embedding dimension (horizontal axis) (default: 3)\n",
    "    taux : int\n",
    "           Embedding delay (horizontal axis) (default: 1).\n",
    "    base : str, int\n",
    "           Logarithm base in Shannon's entropy. Either 'e' or 2 (default: 'e').\n",
    "    normalized: boolean\n",
    "                If `True`, permutation entropy is normalized by its maximum value.\n",
    "                If `False`, it does not (default: `True`).\n",
    "\n",
    "    Returns\n",
    "    -------\n",
    "     : float\n",
    "       The value of permutation entropy.\n",
    "    \n",
    "    Examples\n",
    "    --------\n",
    "    \"\"\"\n",
    "    try:\n",
    "        ny, nx = np.shape(data)\n",
    "        data   = np.array(data).T\n",
    "    except:\n",
    "        return None\n",
    "    \n",
    "    partitions                  = [np.concatenate([[component[i:i+dx*taux:taux]] for i in range(ny-(dx-1)*taux)]) for component in data]\n",
    "    flat_symbolic_sequences     = np.apply_along_axis(np.argsort, 2, partitions).reshape(-1, dx)\n",
    "    flat_symbols, symbols_count = np.unique(flat_symbolic_sequences, return_counts=True, axis=0)\n",
    "\n",
    "    probabilities = symbols_count/symbols_count.sum()\n",
    "\n",
    "    if return_probs==True:\n",
    "        miss_symbols  = np.math.factorial(dx)-len(probabilities)\n",
    "        probabilities = np.concatenate((probabilities, np.zeros(miss_symbols)))\n",
    "        \n",
    "        return probabilities\n",
    "    \n",
    "    else:\n",
    "        if normalized==True and base in [2, '2']:        \n",
    "            smax = np.log2(np.math.factorial(dx))\n",
    "            s    = -np.sum(probabilities*np.log2(probabilities))\n",
    "            return s/smax\n",
    "\n",
    "        elif normalized==True and base=='e':        \n",
    "            smax = np.log(np.math.factorial(dx))\n",
    "            s    = -np.sum(probabilities*np.log(probabilities))\n",
    "            return s/smax\n",
    "\n",
    "        elif normalized==False and base in [2, '2']:\n",
    "            return -np.sum(probabilities*np.log2(probabilities))\n",
    "\n",
    "        else:\n",
    "            return -np.sum(probabilities*np.log(probabilities))"
   ]
  },
  {
   "cell_type": "code",
   "execution_count": 10,
   "metadata": {
    "ExecuteTime": {
     "end_time": "2021-04-10T21:04:49.195503Z",
     "start_time": "2021-04-10T21:04:49.180392Z"
    },
    "code_folding": [
     0
    ],
    "hidden": true,
    "init_cell": true
   },
   "outputs": [],
   "source": [
    "def mwpe(data, dx=3, taux=1, base=2, normalized=True, return_probs=False):\n",
    "    \"\"\"\n",
    "    Multivariate weighted permutation entropy.\n",
    "    \n",
    "    Parameters\n",
    "    ----------\n",
    "    data : array\n",
    "           Array object in the format :math:`[[x_{11}, x_{12}, x_{13}, \\\\ldots, x_{1m}],\n",
    "           \\\\ldots, [x_{n1}, x_{n2}, x_{n3}, \\\\ldots, x_{nm}]]` where n is the length \n",
    "           and m is the dimension of a multidimensional time series.\n",
    "    dx : int\n",
    "         Embedding dimension (horizontal axis) (default: 3)\n",
    "    taux : int\n",
    "           Embedding delay (horizontal axis) (default: 1).\n",
    "    base : str, int\n",
    "           Logarithm base in Shannon's entropy. Either 'e' or 2 (default: 'e').\n",
    "    normalized: boolean\n",
    "                If `True`, permutation entropy is normalized by its maximum value.\n",
    "                If `False`, it does not (default: `True`).\n",
    "\n",
    "    Returns\n",
    "    -------\n",
    "     : float\n",
    "       The value of permutation entropy.\n",
    "    \n",
    "    Examples\n",
    "    --------\n",
    "    \"\"\"\n",
    "    try:\n",
    "        ny, nx = np.shape(data)\n",
    "        data   = np.array(data).T\n",
    "    except:\n",
    "        return None\n",
    "    \n",
    "    partitions              = np.asarray([np.concatenate([[component[i:i+dx*taux:taux]] for i in range(ny-(dx-1)*taux)]) for component in data])\n",
    "    weights                 = partitions.var(axis=2).flatten()\n",
    "    flat_symbolic_sequences = np.apply_along_axis(np.argsort, 2, partitions).reshape(-1, dx)\n",
    "    symbols                 = np.unique(flat_symbolic_sequences, return_counts=False, axis=0)\n",
    "\n",
    "\n",
    "    total_variance = []\n",
    "    for symbol in symbols:\n",
    "        z    = flat_symbolic_sequences==symbol\n",
    "        z    = z.sum(axis=1)\n",
    "        args = np.argwhere(z==dx).flatten()\n",
    "        \n",
    "        total_variance.append(sum(weights[args]))\n",
    "\n",
    "    probabilities = total_variance/sum(total_variance)\n",
    "    \n",
    "    if return_probs==True:\n",
    "        miss_symbols  = np.math.factorial(dx)-len(probabilities)\n",
    "        probabilities = np.concatenate((probabilities, np.zeros(miss_symbols)))\n",
    "        \n",
    "        return probabilities\n",
    "    \n",
    "    else:\n",
    "        if normalized==True and base in [2, '2']:        \n",
    "            smax = np.log2(np.math.factorial(dx))\n",
    "            s    = -np.sum(probabilities*np.log2(probabilities))\n",
    "            return s/smax\n",
    "\n",
    "        elif normalized==True and base=='e':        \n",
    "            smax = np.log(np.math.factorial(dx))\n",
    "            s    = -np.sum(probabilities*np.log(probabilities))\n",
    "            return s/smax\n",
    "\n",
    "        elif normalized==False and base in [2, '2']:\n",
    "            return -np.sum(probabilities*np.log2(probabilities))\n",
    "\n",
    "        else:\n",
    "            return -np.sum(probabilities*np.log(probabilities))   "
   ]
  },
  {
   "cell_type": "code",
   "execution_count": 11,
   "metadata": {
    "ExecuteTime": {
     "end_time": "2021-04-10T21:04:49.213478Z",
     "start_time": "2021-04-10T21:04:49.197852Z"
    },
    "code_folding": [
     0
    ],
    "hidden": true,
    "init_cell": true
   },
   "outputs": [],
   "source": [
    "def weighted_permutation_entropy(data, dx=3, taux=1, base=2, normalized=True):\n",
    "    \"\"\"\n",
    "    Multivariate weighted permutation entropy.\n",
    "    \n",
    "    Parameters\n",
    "    ----------\n",
    "    data : array\n",
    "           Array object in the format :math:`[[x_{11}, x_{12}, x_{13}, \\\\ldots, x_{1m}],\n",
    "           \\\\ldots, [x_{n1}, x_{n2}, x_{n3}, \\\\ldots, x_{nm}]]` where n is the length \n",
    "           and m is the dimension of a multidimensional time series.\n",
    "    dx : int\n",
    "         Embedding dimension (horizontal axis) (default: 3)\n",
    "    taux : int\n",
    "           Embedding delay (horizontal axis) (default: 1).\n",
    "    base : str, int\n",
    "           Logarithm base in Shannon's entropy. Either 'e' or 2 (default: 'e').\n",
    "    normalized: boolean\n",
    "                If `True`, permutation entropy is normalized by its maximum value.\n",
    "                If `False`, it does not (default: `True`).\n",
    "\n",
    "    Returns\n",
    "    -------\n",
    "     : float\n",
    "       The value of permutation entropy.\n",
    "    \n",
    "    Examples\n",
    "    --------\n",
    "    \"\"\"\n",
    "    data   = np.asarray(data)\n",
    "    \n",
    "    partitions              = np.asarray([np.concatenate([[component[i:i+dx*taux:taux]] for i in range(ny-(dx-1)*taux)]) for component in data])\n",
    "    weights                 = partitions.var(axis=2).flatten()\n",
    "    flat_symbolic_sequences = np.apply_along_axis(np.argsort, 2, partitions).reshape(-1, dx)\n",
    "    symbols                 = np.unique(flat_symbolic_sequences, return_counts=False, axis=0)\n",
    "\n",
    "\n",
    "    total_variance = []\n",
    "    for symbol in symbols:\n",
    "        z    = flat_symbolic_sequences==symbol\n",
    "        z    = z.sum(axis=1)\n",
    "        args = np.argwhere(z==dx).flatten()\n",
    "        \n",
    "        total_variance.append(sum(weights[args]))\n",
    "\n",
    "    probabilities = total_variance/sum(total_variance)\n",
    "    \n",
    "    if return_probs==True:\n",
    "        miss_symbols  = np.math.factorial(dx)-len(probabilities)\n",
    "        probabilities = np.concatenate((probabilities, np.zeros(miss_symbols)))\n",
    "        \n",
    "        return probabilities\n",
    "    \n",
    "    else:\n",
    "        if normalized==True and base in [2, '2']:        \n",
    "            smax = np.log2(np.math.factorial(dx))\n",
    "            s    = -np.sum(probabilities*np.log2(probabilities))\n",
    "            return s/smax\n",
    "\n",
    "        elif normalized==True and base=='e':        \n",
    "            smax = np.log(np.math.factorial(dx))\n",
    "            s    = -np.sum(probabilities*np.log(probabilities))\n",
    "            return s/smax\n",
    "\n",
    "        elif normalized==False and base in [2, '2']:\n",
    "            return -np.sum(probabilities*np.log2(probabilities))\n",
    "\n",
    "        else:\n",
    "            return -np.sum(probabilities*np.log(probabilities))   "
   ]
  },
  {
   "cell_type": "markdown",
   "metadata": {},
   "source": [
    "# Disks"
   ]
  },
  {
   "cell_type": "markdown",
   "metadata": {},
   "source": [
    "<p style=\"font-size=200px;\"><b>Classification:</b></p>\n",
    "\n",
    "1) Tumbling\n",
    "\n",
    "2) Chaotic\n",
    "\n",
    "3) Steady or periodic behavior</p>"
   ]
  },
  {
   "cell_type": "code",
   "execution_count": 173,
   "metadata": {
    "ExecuteTime": {
     "end_time": "2021-04-10T20:50:25.709149Z",
     "start_time": "2021-04-10T20:50:25.704303Z"
    }
   },
   "outputs": [],
   "source": [
    "# for a, b, c, d, e, f, g,  k in zip(scipy.io.loadmat('classification/data{}Classified.mat'.format(shape))['dx'].flatten()==np.asarray(dx), \n",
    "#                             scipy.io.loadmat('classification/data{}Classified.mat'.format(shape))['dy'].flatten()==np.asarray(dy), \n",
    "#                             scipy.io.loadmat('classification/data{}Classified.mat'.format(shape))['dz'].flatten()==np.asarray(dz), \n",
    "#                             scipy.io.loadmat('classification/data{}Classified.mat'.format(shape))['pathLength'].flatten(), np.asarray(pathlength),\n",
    "#                             scipy.io.loadmat('classification/data{}Classified.mat'.format(shape))['time'].flatten(), np.asarray(time),\n",
    "#                             range(len(dx))):\n",
    "    z\n",
    "#     print(a, b, c, abs(d-e)<0.0001, abs(f-g)<0.0001, k)"
   ]
  },
  {
   "cell_type": "code",
   "execution_count": 16,
   "metadata": {
    "ExecuteTime": {
     "end_time": "2021-04-10T21:06:09.230729Z",
     "start_time": "2021-04-10T21:06:09.220712Z"
    }
   },
   "outputs": [
    {
     "data": {
      "text/plain": [
       "(0.13959878428211653, 0.13959878428211653)"
      ]
     },
     "execution_count": 16,
     "metadata": {},
     "output_type": "execute_result"
    }
   ],
   "source": [
    "scipy.io.loadmat('classification/data{}Classified.mat'.format(shape))['pathL'].flatten()[0], np.asarray(pathlength)[0]"
   ]
  },
  {
   "cell_type": "code",
   "execution_count": 100,
   "metadata": {
    "ExecuteTime": {
     "end_time": "2021-04-10T19:58:43.814728Z",
     "start_time": "2021-04-10T19:58:43.812486Z"
    },
    "code_folding": [
     0
    ],
    "scrolled": false
   },
   "outputs": [],
   "source": [
    "# f, ax = plt.subplots()\n",
    "\n",
    "# for (osc, vz), class_ in zip(X, disk_feat_class):\n",
    "#     if class_==1:\n",
    "#         ax.plot(osc, vz, 'o', markeredgecolor='black', color='grey')\n",
    "#     elif class_==2:\n",
    "#         ax.plot(osc, vz, '*', markeredgecolor='black', color='blue')\n",
    "#     else:\n",
    "#         pass\n",
    "# #         ax.plot(osc, vz, 's', markeredgecolor='black', color='red')\n",
    "    \n",
    "# f.tight_layout()"
   ]
  },
  {
   "cell_type": "code",
   "execution_count": 111,
   "metadata": {
    "ExecuteTime": {
     "end_time": "2021-04-10T20:01:22.560698Z",
     "start_time": "2021-04-10T20:01:22.554561Z"
    }
   },
   "outputs": [
    {
     "data": {
      "text/plain": [
       "0"
      ]
     },
     "execution_count": 111,
     "metadata": {},
     "output_type": "execute_result"
    }
   ],
   "source": [
    "disk_initcons[30]"
   ]
  },
  {
   "cell_type": "markdown",
   "metadata": {
    "ExecuteTime": {
     "end_time": "2021-03-27T21:16:49.259834Z",
     "start_time": "2021-03-27T21:16:49.257065Z"
    }
   },
   "source": [
    "# disk_human_class"
   ]
  },
  {
   "cell_type": "code",
   "execution_count": 141,
   "metadata": {
    "ExecuteTime": {
     "end_time": "2021-04-10T20:35:44.612063Z",
     "start_time": "2021-04-10T20:35:44.607374Z"
    }
   },
   "outputs": [],
   "source": [
    "trajectory = disk_trajectories[30]\n",
    "\n",
    "tc=0\n",
    "while np.sqrt(trajectory[::,0][tc]**2 + trajectory[::,1][tc]**2)<0.2*disk_radii[30] and tc<len(trajectory):\n",
    "    tc=tc+1"
   ]
  },
  {
   "cell_type": "code",
   "execution_count": 77,
   "metadata": {
    "ExecuteTime": {
     "end_time": "2021-04-10T21:46:09.666407Z",
     "start_time": "2021-04-10T21:46:09.663866Z"
    }
   },
   "outputs": [],
   "source": [
    "shape = 'Hexagon' #one between 'Circle', 'Square', 'Hexagon', 'Cross"
   ]
  },
  {
   "cell_type": "code",
   "execution_count": 86,
   "metadata": {
    "ExecuteTime": {
     "end_time": "2021-04-10T21:48:26.691955Z",
     "start_time": "2021-04-10T21:48:26.687585Z"
    }
   },
   "outputs": [
    {
     "data": {
      "text/plain": [
       "array([ 0.        , -0.00339043, -0.00517386])"
      ]
     },
     "execution_count": 86,
     "metadata": {},
     "output_type": "execute_result"
    }
   ],
   "source": [
    "clean_traj_[::, 0]"
   ]
  },
  {
   "cell_type": "code",
   "execution_count": 84,
   "metadata": {
    "ExecuteTime": {
     "end_time": "2021-04-10T21:47:59.907159Z",
     "start_time": "2021-04-10T21:47:59.901670Z"
    }
   },
   "outputs": [
    {
     "data": {
      "text/plain": [
       "(-0.36273034345557265, -0.0036368180532826955)"
      ]
     },
     "execution_count": 84,
     "metadata": {},
     "output_type": "execute_result"
    }
   ],
   "source": [
    "dx[38],  scipy.io.loadmat('classification/data{}Classified.mat'.format(shape))['dx'].flatten()[38]"
   ]
  },
  {
   "cell_type": "code",
   "execution_count": 43,
   "metadata": {
    "ExecuteTime": {
     "end_time": "2021-04-10T21:13:52.566460Z",
     "start_time": "2021-04-10T21:13:52.560938Z"
    }
   },
   "outputs": [
    {
     "data": {
      "text/plain": [
       "-1"
      ]
     },
     "execution_count": 43,
     "metadata": {},
     "output_type": "execute_result"
    }
   ],
   "source": [
    "index_original = 29\n",
    "traj_     = disk_trajectories[index_original]\n",
    "cut_index = 0\n",
    "d         = 0\n",
    "\n",
    "for z_ in traj_[::,2][::-1]:\n",
    "    if z_<0.05:\n",
    "        cut_index -= 1\n",
    "    else: break\n",
    "cut_index"
   ]
  },
  {
   "cell_type": "code",
   "execution_count": 44,
   "metadata": {
    "ExecuteTime": {
     "end_time": "2021-04-10T21:13:53.886891Z",
     "start_time": "2021-04-10T21:13:53.880655Z"
    }
   },
   "outputs": [
    {
     "data": {
      "text/plain": [
       "2"
      ]
     },
     "execution_count": 44,
     "metadata": {},
     "output_type": "execute_result"
    }
   ],
   "source": [
    "traj_ = traj_[:cut_index]\n",
    "tc    = 0\n",
    "while np.sqrt(traj_[::,0][tc]**2 + traj_[::,1][tc]**2)<(0.2*disk_radii[index_original]) and tc<len(traj_[::,1]):\n",
    "    tc=tc+1\n",
    "tc"
   ]
  },
  {
   "cell_type": "code",
   "execution_count": 46,
   "metadata": {
    "ExecuteTime": {
     "end_time": "2021-04-10T21:14:09.160681Z",
     "start_time": "2021-04-10T21:14:09.150773Z"
    }
   },
   "outputs": [
    {
     "data": {
      "text/plain": [
       "array([[ 0.00000000e+00,  0.00000000e+00,  9.79506215e-01],\n",
       "       [-3.39042965e-03,  2.41060907e-03,  9.79510365e-01],\n",
       "       [-5.17385763e-03,  3.82229767e-03,  9.78269857e-01],\n",
       "       [-6.66841066e-03,  5.23301980e-03,  9.76692906e-01],\n",
       "       [-7.57163176e-03,  6.30248196e-03,  9.74554370e-01],\n",
       "       [-7.05819403e-03,  6.56908363e-03,  9.70949170e-01],\n",
       "       [-6.97898469e-03,  6.75371012e-03,  9.67165178e-01],\n",
       "       [-6.87991988e-03,  6.61401532e-03,  9.62733421e-01],\n",
       "       [-6.76924541e-03,  6.08976517e-03,  9.57724305e-01],\n",
       "       [-6.89959027e-03,  5.34880025e-03,  9.52263162e-01],\n",
       "       [-6.81958055e-03,  4.46840905e-03,  9.46284230e-01],\n",
       "       [-6.29848981e-03,  3.42039678e-03,  9.39788261e-01],\n",
       "       [-5.68241486e-03,  2.29063840e-03,  9.33138488e-01],\n",
       "       [-4.77673972e-03,  1.25302291e-03,  9.26267698e-01],\n",
       "       [-3.68702423e-03,  2.45906199e-04,  9.19276713e-01],\n",
       "       [-2.55497004e-03, -6.86044651e-04,  9.12263595e-01],\n",
       "       [-1.29028300e-03, -1.45969815e-03,  9.05036882e-01],\n",
       "       [ 2.14024990e-04, -1.94399956e-03,  8.97536021e-01],\n",
       "       [ 1.69737393e-03, -2.28795953e-03,  8.89920822e-01],\n",
       "       [ 3.36651546e-03, -2.29031432e-03,  8.81922004e-01],\n",
       "       [ 5.26123270e-03, -1.89798686e-03,  8.73459607e-01],\n",
       "       [ 7.28193982e-03, -1.20473954e-03,  8.64643087e-01],\n",
       "       [ 9.25738379e-03, -2.06687873e-04,  8.55567589e-01],\n",
       "       [ 1.08591951e-02,  1.36755914e-03,  8.46126776e-01],\n",
       "       [ 1.29191839e-02,  3.25439336e-03,  8.36032849e-01],\n",
       "       [ 1.47316853e-02,  5.57530450e-03,  8.25567615e-01],\n",
       "       [ 1.63571094e-02,  8.43021581e-03,  8.14684810e-01],\n",
       "       [ 1.76730878e-02,  1.18763070e-02,  8.03462556e-01],\n",
       "       [ 1.92202347e-02,  1.58117288e-02,  7.91713644e-01],\n",
       "       [ 2.01218337e-02,  2.04160311e-02,  7.79908145e-01],\n",
       "       [ 2.08439387e-02,  2.57501622e-02,  7.67983008e-01],\n",
       "       [ 2.12620925e-02,  3.17935801e-02,  7.56191703e-01],\n",
       "       [ 2.11050632e-02,  3.84368071e-02,  7.44784954e-01],\n",
       "       [ 2.00637026e-02,  4.58011039e-02,  7.34347164e-01],\n",
       "       [ 1.80665253e-02,  5.35126324e-02,  7.25115244e-01],\n",
       "       [ 1.57224435e-02,  6.11941854e-02,  7.16715523e-01],\n",
       "       [ 1.26994156e-02,  6.87331920e-02,  7.09584600e-01],\n",
       "       [ 9.28634011e-03,  7.59610222e-02,  7.03563209e-01],\n",
       "       [ 6.21516112e-03,  8.23849708e-02,  6.98072204e-01],\n",
       "       [-1.97819861e-01,  1.94271961e-02,  7.30588481e-01],\n",
       "       [-2.01718864e-01,  2.39981715e-02,  7.26507583e-01],\n",
       "       [-2.05873259e-01,  2.79235832e-02,  7.22429415e-01],\n",
       "       [-2.09832671e-01,  3.13733809e-02,  7.18468316e-01],\n",
       "       [-2.14098457e-01,  3.40726404e-02,  7.13043215e-01],\n",
       "       [-1.53166757e-02,  1.06212721e-01,  6.64519782e-01],\n",
       "       [-1.81690626e-02,  1.08603224e-01,  6.55511318e-01],\n",
       "       [-2.04802804e-02,  1.10808162e-01,  6.44959697e-01],\n",
       "       [-2.26939228e-02,  1.12845736e-01,  6.32445874e-01],\n",
       "       [-2.49770143e-02,  1.15140859e-01,  6.19917725e-01],\n",
       "       [-2.76554550e-02,  1.17576752e-01,  6.07566944e-01],\n",
       "       [-3.05086734e-02,  1.20097619e-01,  5.94216795e-01],\n",
       "       [-3.36674188e-02,  1.22834508e-01,  5.80263015e-01],\n",
       "       [-3.73055560e-02,  1.25834872e-01,  5.65776641e-01],\n",
       "       [-4.12713372e-02,  1.29113572e-01,  5.51075410e-01],\n",
       "       [-4.52712744e-02,  1.32581733e-01,  5.37159825e-01],\n",
       "       [-4.85609915e-02,  1.36370425e-01,  5.23640830e-01],\n",
       "       [-5.08413056e-02,  1.40180551e-01,  5.10500449e-01],\n",
       "       [-5.95063069e-02,  1.43662916e-01,  4.99266406e-01],\n",
       "       [-6.86562339e-02,  1.46932035e-01,  4.89674820e-01],\n",
       "       [-2.89811926e-01,  6.20918628e-02,  5.74723355e-01],\n",
       "       [-3.00359654e-01,  6.43976760e-02,  5.70485077e-01],\n",
       "       [-3.12396382e-01,  6.65392065e-02,  5.68592584e-01],\n",
       "       [-3.18427446e-01,  6.78495541e-02,  5.65201688e-01],\n",
       "       [-3.24045173e-01,  6.86431632e-02,  5.61842397e-01],\n",
       "       [-1.21312218e-01,  1.56827993e-01,  4.61452457e-01],\n",
       "       [-1.26080843e-01,  1.56869781e-01,  4.54481850e-01],\n",
       "       [-1.30086642e-01,  1.56529582e-01,  4.46267292e-01],\n",
       "       [-1.34684193e-01,  1.56266494e-01,  4.39548630e-01],\n",
       "       [-1.37853658e-01,  1.55454946e-01,  4.30602113e-01],\n",
       "       [-1.41581944e-01,  1.54568935e-01,  4.22767577e-01],\n",
       "       [-1.45986145e-01,  1.53677293e-01,  4.16682245e-01],\n",
       "       [-1.51937537e-01,  1.52724967e-01,  4.11732696e-01],\n",
       "       [-3.58608802e-01,  6.32046786e-02,  5.15820646e-01],\n",
       "       [-5.32668585e-01,  1.90976524e-05,  6.15574858e-01],\n",
       "       [-5.37417481e-01, -9.08549344e-04,  6.13056494e-01],\n",
       "       [-5.41630942e-01, -2.25153478e-03,  6.09616562e-01],\n",
       "       [-5.44575997e-01, -3.73913529e-03,  6.05544710e-01],\n",
       "       [-3.79394279e-01,  5.66142554e-02,  4.97004857e-01],\n",
       "       [-1.81812153e-01,  1.42578611e-01,  3.77585333e-01],\n",
       "       [-1.84267291e-01,  1.40756748e-01,  3.69799004e-01],\n",
       "       [-1.86945154e-01,  1.38820786e-01,  3.61301552e-01],\n",
       "       [-1.89921995e-01,  1.36577188e-01,  3.52028520e-01],\n",
       "       [-1.93429054e-01,  1.34100452e-01,  3.42420810e-01],\n",
       "       [-1.97689593e-01,  1.31202060e-01,  3.32756189e-01],\n",
       "       [-2.02437553e-01,  1.27679665e-01,  3.23111367e-01],\n",
       "       [-2.07198452e-01,  1.23556383e-01,  3.13203318e-01],\n",
       "       [-2.12303930e-01,  1.18745557e-01,  3.04146986e-01],\n",
       "       [-2.17695895e-01,  1.13584538e-01,  2.96515047e-01],\n",
       "       [-2.22207451e-01,  1.07984224e-01,  2.89304570e-01],\n",
       "       [-2.26765629e-01,  1.01967533e-01,  2.84626730e-01],\n",
       "       [-4.18837631e-01,  1.70490761e-02,  4.04222505e-01],\n",
       "       [-5.77746736e-01, -4.33578468e-02,  5.11166202e-01],\n",
       "       [-7.12018496e-01, -8.50406937e-02,  6.07851653e-01],\n",
       "       [-7.14506884e-01, -8.86150371e-02,  6.03897259e-01],\n",
       "       [-7.16882717e-01, -9.17711722e-02,  5.98627419e-01],\n",
       "       [-5.86194985e-01, -5.68800840e-02,  4.91797831e-01],\n",
       "       [-4.30899869e-01, -5.28667012e-03,  3.70770891e-01],\n",
       "       [-2.41020774e-01,  6.80581333e-02,  2.29352082e-01],\n",
       "       [-4.28442157e-01, -1.13782572e-02,  3.50615535e-01],\n",
       "       [-5.84123671e-01, -6.88808885e-02,  4.57230519e-01],\n",
       "       [-7.16828104e-01, -1.10147041e-01,  5.52149148e-01],\n",
       "       [-7.22221361e-01, -1.16201109e-01,  5.48842709e-01],\n",
       "       [-7.27173928e-01, -1.22885349e-01,  5.45244067e-01],\n",
       "       [-5.99934186e-01, -9.43857594e-02,  4.36514691e-01],\n",
       "       [-4.50010465e-01, -5.26282331e-02,  3.14723203e-01],\n",
       "       [-2.68113422e-01,  7.02902417e-03,  1.74851111e-01],\n",
       "       [-2.66983447e-01, -1.40640025e-03,  1.68034448e-01],\n",
       "       [-2.65694553e-01, -9.59221558e-03,  1.61694654e-01],\n",
       "       [-2.64660669e-01, -1.73300191e-02,  1.57042875e-01],\n",
       "       [-4.40753937e-01, -8.32070009e-02,  2.73659400e-01],\n",
       "       [-5.89316034e-01, -1.30075601e-01,  3.76841213e-01],\n",
       "       [-7.18224621e-01, -1.62931626e-01,  4.69885349e-01],\n",
       "       [-8.37181311e-01, -1.85764586e-01,  5.59719513e-01],\n",
       "       [-9.65322119e-01, -2.02305521e-01,  6.64858708e-01],\n",
       "       [-8.37153470e-01, -1.91561073e-01,  5.52798150e-01],\n",
       "       [-7.17124794e-01, -1.75479624e-01,  4.56118558e-01],\n",
       "       [-5.86097947e-01, -1.51006954e-01,  3.55533722e-01],\n",
       "       [-4.34704947e-01, -1.15476297e-01,  2.45459468e-01],\n",
       "       [-2.54646735e-01, -6.48533449e-02,  1.20688727e-01],\n",
       "       [-2.53119925e-01, -6.94884611e-02,  1.18195829e-01],\n",
       "       [-2.51446597e-01, -7.41645720e-02,  1.15924827e-01],\n",
       "       [-2.49536398e-01, -7.88539417e-02,  1.13824178e-01],\n",
       "       [-2.47132732e-01, -8.33526445e-02,  1.11243866e-01],\n",
       "       [-2.44205062e-01, -8.76466931e-02,  1.08124636e-01],\n",
       "       [-2.40747252e-01, -9.16698575e-02,  1.04181466e-01],\n",
       "       [-2.36436927e-01, -9.50787710e-02,  9.81772899e-02],\n",
       "       [-4.12944848e-01, -1.47878485e-01,  2.07671802e-01],\n",
       "       [-5.63693118e-01, -1.85523417e-01,  3.04217307e-01],\n",
       "       [-6.96677675e-01, -2.11926593e-01,  3.92218553e-01],\n",
       "       [-8.21547292e-01, -2.30254126e-01,  4.78866047e-01],\n",
       "       [-9.58297599e-01, -2.43533666e-01,  5.84804330e-01],\n",
       "       [-9.57899490e-01, -2.46073693e-01,  5.79819242e-01],\n",
       "       [-9.57525568e-01, -2.48661452e-01,  5.74915175e-01],\n",
       "       [-9.57127486e-01, -2.51266310e-01,  5.69966231e-01],\n",
       "       [-9.56680838e-01, -2.53894746e-01,  5.64975022e-01],\n",
       "       [-9.56236055e-01, -2.56575740e-01,  5.60068323e-01],\n",
       "       [-9.55818747e-01, -2.59269726e-01,  5.55141039e-01],\n",
       "       [-8.12651308e-01, -2.52198927e-01,  4.36483253e-01],\n",
       "       [-6.79288765e-01, -2.40277424e-01,  3.34960505e-01],\n",
       "       [-5.34755664e-01, -2.20858733e-01,  2.30295593e-01],\n",
       "       [-3.67904201e-01, -1.90612629e-01,  1.13533537e-01]])"
      ]
     },
     "execution_count": 46,
     "metadata": {},
     "output_type": "execute_result"
    }
   ],
   "source": [
    "traj_"
   ]
  },
  {
   "cell_type": "code",
   "execution_count": 45,
   "metadata": {
    "ExecuteTime": {
     "end_time": "2021-04-10T21:14:00.263568Z",
     "start_time": "2021-04-10T21:14:00.256422Z"
    }
   },
   "outputs": [
    {
     "data": {
      "text/plain": [
       "array([[ 0.        ,  0.        ,  0.97950621],\n",
       "       [-0.00339043,  0.00241061,  0.97951037],\n",
       "       [-0.00517386,  0.0038223 ,  0.97826986]])"
      ]
     },
     "execution_count": 45,
     "metadata": {},
     "output_type": "execute_result"
    }
   ],
   "source": [
    "clean_traj_ = traj_[:tc+1].copy()\n",
    "clean_traj_"
   ]
  },
  {
   "cell_type": "code",
   "execution_count": 53,
   "metadata": {
    "ExecuteTime": {
     "end_time": "2021-04-10T21:22:04.723649Z",
     "start_time": "2021-04-10T21:22:04.716413Z"
    }
   },
   "outputs": [
    {
     "data": {
      "text/plain": [
       "2"
      ]
     },
     "execution_count": 53,
     "metadata": {},
     "output_type": "execute_result"
    }
   ],
   "source": [
    "tc"
   ]
  },
  {
   "cell_type": "code",
   "execution_count": 52,
   "metadata": {
    "ExecuteTime": {
     "end_time": "2021-04-10T21:21:50.220045Z",
     "start_time": "2021-04-10T21:21:50.209854Z"
    }
   },
   "outputs": [
    {
     "data": {
      "text/plain": [
       "array([[-5.17385763e-03,  3.82229767e-03,  9.78269857e-01],\n",
       "       [-6.66841066e-03,  5.23301980e-03,  9.76692906e-01],\n",
       "       [-7.57163176e-03,  6.30248196e-03,  9.74554370e-01],\n",
       "       [-7.05819403e-03,  6.56908363e-03,  9.70949170e-01],\n",
       "       [-6.97898469e-03,  6.75371012e-03,  9.67165178e-01],\n",
       "       [-6.87991988e-03,  6.61401532e-03,  9.62733421e-01],\n",
       "       [-6.76924541e-03,  6.08976517e-03,  9.57724305e-01],\n",
       "       [-6.89959027e-03,  5.34880025e-03,  9.52263162e-01],\n",
       "       [-6.81958055e-03,  4.46840905e-03,  9.46284230e-01],\n",
       "       [-6.29848981e-03,  3.42039678e-03,  9.39788261e-01],\n",
       "       [-5.68241486e-03,  2.29063840e-03,  9.33138488e-01],\n",
       "       [-4.77673972e-03,  1.25302291e-03,  9.26267698e-01],\n",
       "       [-3.68702423e-03,  2.45906199e-04,  9.19276713e-01],\n",
       "       [-2.55497004e-03, -6.86044651e-04,  9.12263595e-01],\n",
       "       [-1.29028300e-03, -1.45969815e-03,  9.05036882e-01],\n",
       "       [ 2.14024990e-04, -1.94399956e-03,  8.97536021e-01],\n",
       "       [ 1.69737393e-03, -2.28795953e-03,  8.89920822e-01],\n",
       "       [ 3.36651546e-03, -2.29031432e-03,  8.81922004e-01],\n",
       "       [ 5.26123270e-03, -1.89798686e-03,  8.73459607e-01],\n",
       "       [ 7.28193982e-03, -1.20473954e-03,  8.64643087e-01],\n",
       "       [ 9.25738379e-03, -2.06687873e-04,  8.55567589e-01],\n",
       "       [ 1.08591951e-02,  1.36755914e-03,  8.46126776e-01],\n",
       "       [ 1.29191839e-02,  3.25439336e-03,  8.36032849e-01],\n",
       "       [ 1.47316853e-02,  5.57530450e-03,  8.25567615e-01],\n",
       "       [ 1.63571094e-02,  8.43021581e-03,  8.14684810e-01],\n",
       "       [ 1.76730878e-02,  1.18763070e-02,  8.03462556e-01],\n",
       "       [ 1.92202347e-02,  1.58117288e-02,  7.91713644e-01],\n",
       "       [ 2.01218337e-02,  2.04160311e-02,  7.79908145e-01],\n",
       "       [ 2.08439387e-02,  2.57501622e-02,  7.67983008e-01],\n",
       "       [ 2.12620925e-02,  3.17935801e-02,  7.56191703e-01],\n",
       "       [ 2.11050632e-02,  3.84368071e-02,  7.44784954e-01],\n",
       "       [ 2.00637026e-02,  4.58011039e-02,  7.34347164e-01],\n",
       "       [ 1.80665253e-02,  5.35126324e-02,  7.25115244e-01],\n",
       "       [ 1.57224435e-02,  6.11941854e-02,  7.16715523e-01],\n",
       "       [ 1.26994156e-02,  6.87331920e-02,  7.09584600e-01],\n",
       "       [ 9.28634011e-03,  7.59610222e-02,  7.03563209e-01],\n",
       "       [ 6.21516112e-03,  8.23849708e-02,  6.98072204e-01],\n",
       "       [-1.97819861e-01,  1.94271961e-02,  7.30588481e-01],\n",
       "       [-2.01718864e-01,  2.39981715e-02,  7.26507583e-01],\n",
       "       [-2.05873259e-01,  2.79235832e-02,  7.22429415e-01],\n",
       "       [-2.09832671e-01,  3.13733809e-02,  7.18468316e-01],\n",
       "       [-2.14098457e-01,  3.40726404e-02,  7.13043215e-01],\n",
       "       [-1.53166757e-02,  1.06212721e-01,  6.64519782e-01],\n",
       "       [-1.81690626e-02,  1.08603224e-01,  6.55511318e-01],\n",
       "       [-2.04802804e-02,  1.10808162e-01,  6.44959697e-01],\n",
       "       [-2.26939228e-02,  1.12845736e-01,  6.32445874e-01],\n",
       "       [-2.49770143e-02,  1.15140859e-01,  6.19917725e-01],\n",
       "       [-2.76554550e-02,  1.17576752e-01,  6.07566944e-01],\n",
       "       [-3.05086734e-02,  1.20097619e-01,  5.94216795e-01],\n",
       "       [-3.36674188e-02,  1.22834508e-01,  5.80263015e-01],\n",
       "       [-3.73055560e-02,  1.25834872e-01,  5.65776641e-01],\n",
       "       [-4.12713372e-02,  1.29113572e-01,  5.51075410e-01],\n",
       "       [-4.52712744e-02,  1.32581733e-01,  5.37159825e-01],\n",
       "       [-4.85609915e-02,  1.36370425e-01,  5.23640830e-01],\n",
       "       [-5.08413056e-02,  1.40180551e-01,  5.10500449e-01],\n",
       "       [-5.95063069e-02,  1.43662916e-01,  4.99266406e-01],\n",
       "       [-6.86562339e-02,  1.46932035e-01,  4.89674820e-01],\n",
       "       [-2.89811926e-01,  6.20918628e-02,  5.74723355e-01],\n",
       "       [-3.00359654e-01,  6.43976760e-02,  5.70485077e-01],\n",
       "       [-3.12396382e-01,  6.65392065e-02,  5.68592584e-01],\n",
       "       [-3.18427446e-01,  6.78495541e-02,  5.65201688e-01],\n",
       "       [-3.24045173e-01,  6.86431632e-02,  5.61842397e-01],\n",
       "       [-1.21312218e-01,  1.56827993e-01,  4.61452457e-01],\n",
       "       [-1.26080843e-01,  1.56869781e-01,  4.54481850e-01],\n",
       "       [-1.30086642e-01,  1.56529582e-01,  4.46267292e-01],\n",
       "       [-1.34684193e-01,  1.56266494e-01,  4.39548630e-01],\n",
       "       [-1.37853658e-01,  1.55454946e-01,  4.30602113e-01],\n",
       "       [-1.41581944e-01,  1.54568935e-01,  4.22767577e-01],\n",
       "       [-1.45986145e-01,  1.53677293e-01,  4.16682245e-01],\n",
       "       [-1.51937537e-01,  1.52724967e-01,  4.11732696e-01],\n",
       "       [-3.58608802e-01,  6.32046786e-02,  5.15820646e-01],\n",
       "       [-5.32668585e-01,  1.90976524e-05,  6.15574858e-01],\n",
       "       [-5.37417481e-01, -9.08549344e-04,  6.13056494e-01],\n",
       "       [-5.41630942e-01, -2.25153478e-03,  6.09616562e-01],\n",
       "       [-5.44575997e-01, -3.73913529e-03,  6.05544710e-01],\n",
       "       [-3.79394279e-01,  5.66142554e-02,  4.97004857e-01],\n",
       "       [-1.81812153e-01,  1.42578611e-01,  3.77585333e-01],\n",
       "       [-1.84267291e-01,  1.40756748e-01,  3.69799004e-01],\n",
       "       [-1.86945154e-01,  1.38820786e-01,  3.61301552e-01],\n",
       "       [-1.89921995e-01,  1.36577188e-01,  3.52028520e-01],\n",
       "       [-1.93429054e-01,  1.34100452e-01,  3.42420810e-01],\n",
       "       [-1.97689593e-01,  1.31202060e-01,  3.32756189e-01],\n",
       "       [-2.02437553e-01,  1.27679665e-01,  3.23111367e-01],\n",
       "       [-2.07198452e-01,  1.23556383e-01,  3.13203318e-01],\n",
       "       [-2.12303930e-01,  1.18745557e-01,  3.04146986e-01],\n",
       "       [-2.17695895e-01,  1.13584538e-01,  2.96515047e-01],\n",
       "       [-2.22207451e-01,  1.07984224e-01,  2.89304570e-01],\n",
       "       [-2.26765629e-01,  1.01967533e-01,  2.84626730e-01],\n",
       "       [-4.18837631e-01,  1.70490761e-02,  4.04222505e-01],\n",
       "       [-5.77746736e-01, -4.33578468e-02,  5.11166202e-01],\n",
       "       [-7.12018496e-01, -8.50406937e-02,  6.07851653e-01],\n",
       "       [-7.14506884e-01, -8.86150371e-02,  6.03897259e-01],\n",
       "       [-7.16882717e-01, -9.17711722e-02,  5.98627419e-01],\n",
       "       [-5.86194985e-01, -5.68800840e-02,  4.91797831e-01],\n",
       "       [-4.30899869e-01, -5.28667012e-03,  3.70770891e-01],\n",
       "       [-2.41020774e-01,  6.80581333e-02,  2.29352082e-01],\n",
       "       [-4.28442157e-01, -1.13782572e-02,  3.50615535e-01],\n",
       "       [-5.84123671e-01, -6.88808885e-02,  4.57230519e-01],\n",
       "       [-7.16828104e-01, -1.10147041e-01,  5.52149148e-01],\n",
       "       [-7.22221361e-01, -1.16201109e-01,  5.48842709e-01],\n",
       "       [-7.27173928e-01, -1.22885349e-01,  5.45244067e-01],\n",
       "       [-5.99934186e-01, -9.43857594e-02,  4.36514691e-01],\n",
       "       [-4.50010465e-01, -5.26282331e-02,  3.14723203e-01],\n",
       "       [-2.68113422e-01,  7.02902417e-03,  1.74851111e-01],\n",
       "       [-2.66983447e-01, -1.40640025e-03,  1.68034448e-01],\n",
       "       [-2.65694553e-01, -9.59221558e-03,  1.61694654e-01],\n",
       "       [-2.64660669e-01, -1.73300191e-02,  1.57042875e-01],\n",
       "       [-4.40753937e-01, -8.32070009e-02,  2.73659400e-01],\n",
       "       [-5.89316034e-01, -1.30075601e-01,  3.76841213e-01],\n",
       "       [-7.18224621e-01, -1.62931626e-01,  4.69885349e-01],\n",
       "       [-8.37181311e-01, -1.85764586e-01,  5.59719513e-01],\n",
       "       [-9.65322119e-01, -2.02305521e-01,  6.64858708e-01],\n",
       "       [-8.37153470e-01, -1.91561073e-01,  5.52798150e-01],\n",
       "       [-7.17124794e-01, -1.75479624e-01,  4.56118558e-01],\n",
       "       [-5.86097947e-01, -1.51006954e-01,  3.55533722e-01],\n",
       "       [-4.34704947e-01, -1.15476297e-01,  2.45459468e-01],\n",
       "       [-2.54646735e-01, -6.48533449e-02,  1.20688727e-01],\n",
       "       [-2.53119925e-01, -6.94884611e-02,  1.18195829e-01],\n",
       "       [-2.51446597e-01, -7.41645720e-02,  1.15924827e-01],\n",
       "       [-2.49536398e-01, -7.88539417e-02,  1.13824178e-01],\n",
       "       [-2.47132732e-01, -8.33526445e-02,  1.11243866e-01],\n",
       "       [-2.44205062e-01, -8.76466931e-02,  1.08124636e-01],\n",
       "       [-2.40747252e-01, -9.16698575e-02,  1.04181466e-01],\n",
       "       [-2.36436927e-01, -9.50787710e-02,  9.81772899e-02],\n",
       "       [-4.12944848e-01, -1.47878485e-01,  2.07671802e-01],\n",
       "       [-5.63693118e-01, -1.85523417e-01,  3.04217307e-01],\n",
       "       [-6.96677675e-01, -2.11926593e-01,  3.92218553e-01],\n",
       "       [-8.21547292e-01, -2.30254126e-01,  4.78866047e-01],\n",
       "       [-9.58297599e-01, -2.43533666e-01,  5.84804330e-01],\n",
       "       [-9.57899490e-01, -2.46073693e-01,  5.79819242e-01],\n",
       "       [-9.57525568e-01, -2.48661452e-01,  5.74915175e-01],\n",
       "       [-9.57127486e-01, -2.51266310e-01,  5.69966231e-01],\n",
       "       [-9.56680838e-01, -2.53894746e-01,  5.64975022e-01],\n",
       "       [-9.56236055e-01, -2.56575740e-01,  5.60068323e-01],\n",
       "       [-9.55818747e-01, -2.59269726e-01,  5.55141039e-01],\n",
       "       [-8.12651308e-01, -2.52198927e-01,  4.36483253e-01],\n",
       "       [-6.79288765e-01, -2.40277424e-01,  3.34960505e-01],\n",
       "       [-5.34755664e-01, -2.20858733e-01,  2.30295593e-01],\n",
       "       [-3.67904201e-01, -1.90612629e-01,  1.13533537e-01]])"
      ]
     },
     "execution_count": 52,
     "metadata": {},
     "output_type": "execute_result"
    }
   ],
   "source": [
    "#second part of the sliced original trajectory.\n",
    "sec_clean_traj_ = traj_[tc:]\n",
    "sec_clean_traj_[]"
   ]
  },
  {
   "cell_type": "code",
   "execution_count": 54,
   "metadata": {
    "ExecuteTime": {
     "end_time": "2021-04-10T21:22:57.404548Z",
     "start_time": "2021-04-10T21:22:57.397343Z"
    }
   },
   "outputs": [
    {
     "data": {
      "text/plain": [
       "0.31178386920153944"
      ]
     },
     "execution_count": 54,
     "metadata": {},
     "output_type": "execute_result"
    }
   ],
   "source": [
    "traj_ = sec_clean_traj_\n",
    "for j in range(1, len(traj_)):\n",
    "    if LA.norm(traj_[j]-traj_[j-1])>0.1:\n",
    "        stop==1\n",
    "        break\n",
    "    d = d + LA.norm(traj_[j]-traj_[j-1])\n",
    "d"
   ]
  },
  {
   "cell_type": "code",
   "execution_count": 66,
   "metadata": {
    "ExecuteTime": {
     "end_time": "2021-04-10T19:54:47.022891Z",
     "start_time": "2021-04-10T19:54:47.014967Z"
    }
   },
   "outputs": [
    {
     "data": {
      "text/plain": [
       "(1.0811118040686305, 0.017933871863836492)"
      ]
     },
     "execution_count": 66,
     "metadata": {},
     "output_type": "execute_result"
    }
   ],
   "source": [
    "scipy.io.loadmat('classification/data{}Classified.mat'.format(shape))['pathLength'].flatten()[39], np.asarray(pathlength)[39]"
   ]
  },
  {
   "cell_type": "code",
   "execution_count": 78,
   "metadata": {
    "ExecuteTime": {
     "end_time": "2021-04-10T21:46:10.716970Z",
     "start_time": "2021-04-10T21:46:10.686925Z"
    },
    "code_folding": [
     0
    ]
   },
   "outputs": [],
   "source": [
    "#Classifications\n",
    "disk_human_class = scipy.io.loadmat('classification/humanClassification{}.mat'.format(shape))['behaviourHuman'][0]\n",
    "disk_feat_class  = scipy.io.loadmat('classification/data{}Classified.mat'.format(shape))['behaviourAuto'].flatten()\n",
    "\n",
    "##########################################################################################\n",
    "#Data processing\n",
    "\n",
    "#Improving data structure. Extracting data from dataCircle.mat and loading it into data arrays\n",
    "disk_data = scipy.io.loadmat('classification/data{}.mat'.format(shape))\n",
    "\n",
    "#initial condition of the experiments: 0 (dropping with arm holding the paper horizontally) or 1 (dropping vertically)\n",
    "disk_initcons = []\n",
    "for i in range(len(disk_data['data'][0])):\n",
    "    disk_initcons.append(disk_data['data'][0][i]['initialCondition'][0][0][0][0])\n",
    "disk_initcons = np.asarray(disk_initcons)\n",
    "\n",
    "# radii of the disks dropped\n",
    "disk_radii = []\n",
    "for i in range(len(disk_data['data'][0])):\n",
    "    disk_radii.append(disk_data['data'][0][i]['radius'][0][0][0][0])\n",
    "disk_radii = np.asarray(disk_radii)\n",
    "\n",
    "# camera 1 observable area?\n",
    "disk_cam1 = []\n",
    "for i in range(len(disk_data['data'][0])):\n",
    "    disk_cam1.append(disk_data['data'][0][i]['areaCam1'][0][0].flatten())\n",
    "disk_cam1 = np.asarray(disk_cam1)\n",
    "\n",
    "# camera 2 observable area?\n",
    "disk_cam2 = []\n",
    "for i in range(len(disk_data['data'][0])):\n",
    "    disk_cam2.append(disk_data['data'][0][i]['areaCam2'][0][0].flatten())\n",
    "disk_cam2 = np.asarray(disk_cam2)\n",
    "\n",
    "# coordinates (x, y, z) along trajectory from 1m high to the floor.\n",
    "disk_trajectories = []\n",
    "for i in range(len(disk_data['data'][0])):\n",
    "    disk_trajectories.append(disk_data['data'][0][i]['trajectory'][0][0])\n",
    "disk_trajectories = np.asarray(disk_trajectories)"
   ]
  },
  {
   "cell_type": "code",
   "execution_count": 81,
   "metadata": {
    "ExecuteTime": {
     "end_time": "2021-04-10T21:46:15.513336Z",
     "start_time": "2021-04-10T21:46:15.507986Z"
    }
   },
   "outputs": [
    {
     "data": {
      "text/plain": [
       "(-0.36273034345557265, -0.0036368180532826955)"
      ]
     },
     "execution_count": 81,
     "metadata": {},
     "output_type": "execute_result"
    }
   ],
   "source": [
    "dx[38], scipy.io.loadmat('classification/data{}Classified.mat'.format(shape))['dx'].flatten()[38]"
   ]
  },
  {
   "cell_type": "code",
   "execution_count": 26,
   "metadata": {
    "ExecuteTime": {
     "end_time": "2021-04-10T21:08:14.435539Z",
     "start_time": "2021-04-10T21:08:14.285419Z"
    }
   },
   "outputs": [
    {
     "name": "stdout",
     "output_type": "stream",
     "text": [
      "True 0\n",
      "True 1\n",
      "True 2\n",
      "True 3\n",
      "True 4\n",
      "True 5\n",
      "True 6\n",
      "True 7\n",
      "True 8\n",
      "True 9\n",
      "True 10\n",
      "True 11\n",
      "True 12\n",
      "True 13\n",
      "True 14\n",
      "True 15\n",
      "True 16\n",
      "True 17\n",
      "True 18\n",
      "True 19\n",
      "True 20\n",
      "True 21\n",
      "True 22\n",
      "True 23\n",
      "True 24\n",
      "True 25\n",
      "True 26\n",
      "True 27\n",
      "True 28\n",
      "True 29\n",
      "True 30\n",
      "True 31\n",
      "True 32\n",
      "True 33\n",
      "True 34\n",
      "True 35\n",
      "True 36\n",
      "True 37\n",
      "False 38\n",
      "False 39\n",
      "False 40\n",
      "False 41\n",
      "False 42\n",
      "False 43\n",
      "False 44\n",
      "False 45\n",
      "False 46\n",
      "False 47\n",
      "False 48\n",
      "False 49\n",
      "False 50\n",
      "False 51\n",
      "False 52\n",
      "False 53\n",
      "False 54\n",
      "False 55\n",
      "False 56\n",
      "False 57\n",
      "False 58\n",
      "False 59\n",
      "False 60\n",
      "False 61\n",
      "False 62\n",
      "False 63\n",
      "False 64\n",
      "False 65\n",
      "False 66\n",
      "False 67\n",
      "False 68\n",
      "False 69\n",
      "False 70\n",
      "False 71\n",
      "False 72\n",
      "False 73\n",
      "False 74\n",
      "False 75\n",
      "False 76\n",
      "False 77\n",
      "False 78\n",
      "False 79\n",
      "False 80\n",
      "False 81\n",
      "False 82\n",
      "False 83\n",
      "False 84\n",
      "False 85\n",
      "False 86\n",
      "False 87\n",
      "False 88\n",
      "False 89\n",
      "False 90\n",
      "False 91\n",
      "False 92\n",
      "False 93\n",
      "False 94\n",
      "False 95\n",
      "False 96\n",
      "False 97\n",
      "False 98\n",
      "False 99\n",
      "False 100\n",
      "False 101\n",
      "False 102\n",
      "False 103\n",
      "False 104\n",
      "False 105\n",
      "False 106\n",
      "False 107\n",
      "False 108\n",
      "False 109\n",
      "False 110\n",
      "False 111\n",
      "False 112\n",
      "False 113\n",
      "False 114\n",
      "False 115\n",
      "False 116\n",
      "False 117\n",
      "False 118\n",
      "False 119\n",
      "False 120\n",
      "False 121\n",
      "False 122\n",
      "False 123\n",
      "False 124\n",
      "False 125\n",
      "False 126\n",
      "False 127\n",
      "False 128\n",
      "False 129\n",
      "False 130\n",
      "False 131\n",
      "False 132\n",
      "False 133\n",
      "False 134\n",
      "False 135\n",
      "False 136\n",
      "False 137\n",
      "False 138\n",
      "False 139\n",
      "False 140\n",
      "False 141\n",
      "False 142\n",
      "False 143\n",
      "False 144\n",
      "False 145\n",
      "False 146\n",
      "False 147\n",
      "False 148\n",
      "False 149\n",
      "False 150\n",
      "False 151\n",
      "False 152\n",
      "False 153\n",
      "False 154\n",
      "False 155\n",
      "False 156\n",
      "False 157\n",
      "False 158\n",
      "False 159\n",
      "False 160\n",
      "False 161\n",
      "False 162\n",
      "False 163\n",
      "False 164\n",
      "False 165\n",
      "False 166\n",
      "False 167\n",
      "False 168\n"
     ]
    }
   ],
   "source": [
    "for i in range(len(scipy.io.loadmat('classification/data{}Classified.mat'.format(shape))['dz'].flatten())):\n",
    "    print(scipy.io.loadmat('classification/data{}Classified.mat'.format(shape))['dz'].flatten()[i]==np.asarray(dz)[i], i)"
   ]
  },
  {
   "cell_type": "code",
   "execution_count": 41,
   "metadata": {
    "ExecuteTime": {
     "end_time": "2021-04-10T21:13:38.808263Z",
     "start_time": "2021-04-10T21:13:38.798474Z"
    }
   },
   "outputs": [
    {
     "data": {
      "text/plain": [
       "array([[ 0.00000000e+00,  0.00000000e+00,  9.79506215e-01],\n",
       "       [-3.39042965e-03,  2.41060907e-03,  9.79510365e-01],\n",
       "       [-5.17385763e-03,  3.82229767e-03,  9.78269857e-01],\n",
       "       [-6.66841066e-03,  5.23301980e-03,  9.76692906e-01],\n",
       "       [-7.57163176e-03,  6.30248196e-03,  9.74554370e-01],\n",
       "       [-7.05819403e-03,  6.56908363e-03,  9.70949170e-01],\n",
       "       [-6.97898469e-03,  6.75371012e-03,  9.67165178e-01],\n",
       "       [-6.87991988e-03,  6.61401532e-03,  9.62733421e-01],\n",
       "       [-6.76924541e-03,  6.08976517e-03,  9.57724305e-01],\n",
       "       [-6.89959027e-03,  5.34880025e-03,  9.52263162e-01],\n",
       "       [-6.81958055e-03,  4.46840905e-03,  9.46284230e-01],\n",
       "       [-6.29848981e-03,  3.42039678e-03,  9.39788261e-01],\n",
       "       [-5.68241486e-03,  2.29063840e-03,  9.33138488e-01],\n",
       "       [-4.77673972e-03,  1.25302291e-03,  9.26267698e-01],\n",
       "       [-3.68702423e-03,  2.45906199e-04,  9.19276713e-01],\n",
       "       [-2.55497004e-03, -6.86044651e-04,  9.12263595e-01],\n",
       "       [-1.29028300e-03, -1.45969815e-03,  9.05036882e-01],\n",
       "       [ 2.14024990e-04, -1.94399956e-03,  8.97536021e-01],\n",
       "       [ 1.69737393e-03, -2.28795953e-03,  8.89920822e-01],\n",
       "       [ 3.36651546e-03, -2.29031432e-03,  8.81922004e-01],\n",
       "       [ 5.26123270e-03, -1.89798686e-03,  8.73459607e-01],\n",
       "       [ 7.28193982e-03, -1.20473954e-03,  8.64643087e-01],\n",
       "       [ 9.25738379e-03, -2.06687873e-04,  8.55567589e-01],\n",
       "       [ 1.08591951e-02,  1.36755914e-03,  8.46126776e-01],\n",
       "       [ 1.29191839e-02,  3.25439336e-03,  8.36032849e-01],\n",
       "       [ 1.47316853e-02,  5.57530450e-03,  8.25567615e-01],\n",
       "       [ 1.63571094e-02,  8.43021581e-03,  8.14684810e-01],\n",
       "       [ 1.76730878e-02,  1.18763070e-02,  8.03462556e-01],\n",
       "       [ 1.92202347e-02,  1.58117288e-02,  7.91713644e-01],\n",
       "       [ 2.01218337e-02,  2.04160311e-02,  7.79908145e-01],\n",
       "       [ 2.08439387e-02,  2.57501622e-02,  7.67983008e-01],\n",
       "       [ 2.12620925e-02,  3.17935801e-02,  7.56191703e-01],\n",
       "       [ 2.11050632e-02,  3.84368071e-02,  7.44784954e-01],\n",
       "       [ 2.00637026e-02,  4.58011039e-02,  7.34347164e-01],\n",
       "       [ 1.80665253e-02,  5.35126324e-02,  7.25115244e-01],\n",
       "       [ 1.57224435e-02,  6.11941854e-02,  7.16715523e-01],\n",
       "       [ 1.26994156e-02,  6.87331920e-02,  7.09584600e-01],\n",
       "       [ 9.28634011e-03,  7.59610222e-02,  7.03563209e-01],\n",
       "       [ 6.21516112e-03,  8.23849708e-02,  6.98072204e-01],\n",
       "       [-1.97819861e-01,  1.94271961e-02,  7.30588481e-01],\n",
       "       [-2.01718864e-01,  2.39981715e-02,  7.26507583e-01],\n",
       "       [-2.05873259e-01,  2.79235832e-02,  7.22429415e-01],\n",
       "       [-2.09832671e-01,  3.13733809e-02,  7.18468316e-01],\n",
       "       [-2.14098457e-01,  3.40726404e-02,  7.13043215e-01],\n",
       "       [-1.53166757e-02,  1.06212721e-01,  6.64519782e-01],\n",
       "       [-1.81690626e-02,  1.08603224e-01,  6.55511318e-01],\n",
       "       [-2.04802804e-02,  1.10808162e-01,  6.44959697e-01],\n",
       "       [-2.26939228e-02,  1.12845736e-01,  6.32445874e-01],\n",
       "       [-2.49770143e-02,  1.15140859e-01,  6.19917725e-01],\n",
       "       [-2.76554550e-02,  1.17576752e-01,  6.07566944e-01],\n",
       "       [-3.05086734e-02,  1.20097619e-01,  5.94216795e-01],\n",
       "       [-3.36674188e-02,  1.22834508e-01,  5.80263015e-01],\n",
       "       [-3.73055560e-02,  1.25834872e-01,  5.65776641e-01],\n",
       "       [-4.12713372e-02,  1.29113572e-01,  5.51075410e-01],\n",
       "       [-4.52712744e-02,  1.32581733e-01,  5.37159825e-01],\n",
       "       [-4.85609915e-02,  1.36370425e-01,  5.23640830e-01],\n",
       "       [-5.08413056e-02,  1.40180551e-01,  5.10500449e-01],\n",
       "       [-5.95063069e-02,  1.43662916e-01,  4.99266406e-01],\n",
       "       [-6.86562339e-02,  1.46932035e-01,  4.89674820e-01],\n",
       "       [-2.89811926e-01,  6.20918628e-02,  5.74723355e-01],\n",
       "       [-3.00359654e-01,  6.43976760e-02,  5.70485077e-01],\n",
       "       [-3.12396382e-01,  6.65392065e-02,  5.68592584e-01],\n",
       "       [-3.18427446e-01,  6.78495541e-02,  5.65201688e-01],\n",
       "       [-3.24045173e-01,  6.86431632e-02,  5.61842397e-01],\n",
       "       [-1.21312218e-01,  1.56827993e-01,  4.61452457e-01],\n",
       "       [-1.26080843e-01,  1.56869781e-01,  4.54481850e-01],\n",
       "       [-1.30086642e-01,  1.56529582e-01,  4.46267292e-01],\n",
       "       [-1.34684193e-01,  1.56266494e-01,  4.39548630e-01],\n",
       "       [-1.37853658e-01,  1.55454946e-01,  4.30602113e-01],\n",
       "       [-1.41581944e-01,  1.54568935e-01,  4.22767577e-01],\n",
       "       [-1.45986145e-01,  1.53677293e-01,  4.16682245e-01],\n",
       "       [-1.51937537e-01,  1.52724967e-01,  4.11732696e-01],\n",
       "       [-3.58608802e-01,  6.32046786e-02,  5.15820646e-01],\n",
       "       [-5.32668585e-01,  1.90976524e-05,  6.15574858e-01],\n",
       "       [-5.37417481e-01, -9.08549344e-04,  6.13056494e-01],\n",
       "       [-5.41630942e-01, -2.25153478e-03,  6.09616562e-01],\n",
       "       [-5.44575997e-01, -3.73913529e-03,  6.05544710e-01],\n",
       "       [-3.79394279e-01,  5.66142554e-02,  4.97004857e-01],\n",
       "       [-1.81812153e-01,  1.42578611e-01,  3.77585333e-01],\n",
       "       [-1.84267291e-01,  1.40756748e-01,  3.69799004e-01],\n",
       "       [-1.86945154e-01,  1.38820786e-01,  3.61301552e-01],\n",
       "       [-1.89921995e-01,  1.36577188e-01,  3.52028520e-01],\n",
       "       [-1.93429054e-01,  1.34100452e-01,  3.42420810e-01],\n",
       "       [-1.97689593e-01,  1.31202060e-01,  3.32756189e-01],\n",
       "       [-2.02437553e-01,  1.27679665e-01,  3.23111367e-01],\n",
       "       [-2.07198452e-01,  1.23556383e-01,  3.13203318e-01],\n",
       "       [-2.12303930e-01,  1.18745557e-01,  3.04146986e-01],\n",
       "       [-2.17695895e-01,  1.13584538e-01,  2.96515047e-01],\n",
       "       [-2.22207451e-01,  1.07984224e-01,  2.89304570e-01],\n",
       "       [-2.26765629e-01,  1.01967533e-01,  2.84626730e-01],\n",
       "       [-4.18837631e-01,  1.70490761e-02,  4.04222505e-01],\n",
       "       [-5.77746736e-01, -4.33578468e-02,  5.11166202e-01],\n",
       "       [-7.12018496e-01, -8.50406937e-02,  6.07851653e-01],\n",
       "       [-7.14506884e-01, -8.86150371e-02,  6.03897259e-01],\n",
       "       [-7.16882717e-01, -9.17711722e-02,  5.98627419e-01],\n",
       "       [-5.86194985e-01, -5.68800840e-02,  4.91797831e-01],\n",
       "       [-4.30899869e-01, -5.28667012e-03,  3.70770891e-01],\n",
       "       [-2.41020774e-01,  6.80581333e-02,  2.29352082e-01],\n",
       "       [-4.28442157e-01, -1.13782572e-02,  3.50615535e-01],\n",
       "       [-5.84123671e-01, -6.88808885e-02,  4.57230519e-01],\n",
       "       [-7.16828104e-01, -1.10147041e-01,  5.52149148e-01],\n",
       "       [-7.22221361e-01, -1.16201109e-01,  5.48842709e-01],\n",
       "       [-7.27173928e-01, -1.22885349e-01,  5.45244067e-01],\n",
       "       [-5.99934186e-01, -9.43857594e-02,  4.36514691e-01],\n",
       "       [-4.50010465e-01, -5.26282331e-02,  3.14723203e-01],\n",
       "       [-2.68113422e-01,  7.02902417e-03,  1.74851111e-01],\n",
       "       [-2.66983447e-01, -1.40640025e-03,  1.68034448e-01],\n",
       "       [-2.65694553e-01, -9.59221558e-03,  1.61694654e-01],\n",
       "       [-2.64660669e-01, -1.73300191e-02,  1.57042875e-01],\n",
       "       [-4.40753937e-01, -8.32070009e-02,  2.73659400e-01],\n",
       "       [-5.89316034e-01, -1.30075601e-01,  3.76841213e-01],\n",
       "       [-7.18224621e-01, -1.62931626e-01,  4.69885349e-01],\n",
       "       [-8.37181311e-01, -1.85764586e-01,  5.59719513e-01],\n",
       "       [-9.65322119e-01, -2.02305521e-01,  6.64858708e-01],\n",
       "       [-8.37153470e-01, -1.91561073e-01,  5.52798150e-01],\n",
       "       [-7.17124794e-01, -1.75479624e-01,  4.56118558e-01],\n",
       "       [-5.86097947e-01, -1.51006954e-01,  3.55533722e-01],\n",
       "       [-4.34704947e-01, -1.15476297e-01,  2.45459468e-01],\n",
       "       [-2.54646735e-01, -6.48533449e-02,  1.20688727e-01],\n",
       "       [-2.53119925e-01, -6.94884611e-02,  1.18195829e-01],\n",
       "       [-2.51446597e-01, -7.41645720e-02,  1.15924827e-01],\n",
       "       [-2.49536398e-01, -7.88539417e-02,  1.13824178e-01],\n",
       "       [-2.47132732e-01, -8.33526445e-02,  1.11243866e-01],\n",
       "       [-2.44205062e-01, -8.76466931e-02,  1.08124636e-01],\n",
       "       [-2.40747252e-01, -9.16698575e-02,  1.04181466e-01],\n",
       "       [-2.36436927e-01, -9.50787710e-02,  9.81772899e-02],\n",
       "       [-4.12944848e-01, -1.47878485e-01,  2.07671802e-01],\n",
       "       [-5.63693118e-01, -1.85523417e-01,  3.04217307e-01],\n",
       "       [-6.96677675e-01, -2.11926593e-01,  3.92218553e-01],\n",
       "       [-8.21547292e-01, -2.30254126e-01,  4.78866047e-01],\n",
       "       [-9.58297599e-01, -2.43533666e-01,  5.84804330e-01],\n",
       "       [-9.57899490e-01, -2.46073693e-01,  5.79819242e-01],\n",
       "       [-9.57525568e-01, -2.48661452e-01,  5.74915175e-01],\n",
       "       [-9.57127486e-01, -2.51266310e-01,  5.69966231e-01],\n",
       "       [-9.56680838e-01, -2.53894746e-01,  5.64975022e-01],\n",
       "       [-9.56236055e-01, -2.56575740e-01,  5.60068323e-01],\n",
       "       [-9.55818747e-01, -2.59269726e-01,  5.55141039e-01],\n",
       "       [-8.12651308e-01, -2.52198927e-01,  4.36483253e-01],\n",
       "       [-6.79288765e-01, -2.40277424e-01,  3.34960505e-01],\n",
       "       [-5.34755664e-01, -2.20858733e-01,  2.30295593e-01],\n",
       "       [-3.67904201e-01, -1.90612629e-01,  1.13533537e-01],\n",
       "       [-1.69230591e-01, -1.45769915e-01, -2.01438490e-02]])"
      ]
     },
     "execution_count": 41,
     "metadata": {},
     "output_type": "execute_result"
    }
   ],
   "source": [
    "disk_trajectories[29]"
   ]
  },
  {
   "cell_type": "code",
   "execution_count": 177,
   "metadata": {
    "ExecuteTime": {
     "end_time": "2021-04-10T20:51:03.931144Z",
     "start_time": "2021-04-10T20:51:03.921226Z"
    }
   },
   "outputs": [
    {
     "data": {
      "text/plain": [
       "(1.1734693877551021, 0.061224489795918366)"
      ]
     },
     "execution_count": 177,
     "metadata": {},
     "output_type": "execute_result"
    }
   ],
   "source": [
    "scipy.io.loadmat('classification/data{}Classified.mat'.format(shape))['time'].flatten()[39], np.asarray(time)[39]"
   ]
  },
  {
   "cell_type": "code",
   "execution_count": 182,
   "metadata": {
    "ExecuteTime": {
     "end_time": "2021-04-10T20:51:36.785428Z",
     "start_time": "2021-04-10T20:51:36.777627Z"
    }
   },
   "outputs": [
    {
     "data": {
      "text/plain": [
       "(169, 171)"
      ]
     },
     "execution_count": 182,
     "metadata": {},
     "output_type": "execute_result"
    }
   ],
   "source": [
    "scipy.io.loadmat('classification/data{}Classified.mat'.format(shape))['pathLength'].flatten().__len__(), np.asarray(pathlength).__len__()"
   ]
  },
  {
   "cell_type": "code",
   "execution_count": 79,
   "metadata": {
    "ExecuteTime": {
     "end_time": "2021-04-10T21:46:12.363242Z",
     "start_time": "2021-04-10T21:46:12.360790Z"
    }
   },
   "outputs": [],
   "source": [
    "# for a, b, c, d, e, f, g,  k in zip(scipy.io.loadmat('classification/data{}Classified.mat'.format(shape))['dx'].flatten()==np.asarray(dx), \n",
    "#                             scipy.io.loadmat('classification/data{}Classified.mat'.format(shape))['dy'].flatten()==np.asarray(dy), \n",
    "#                             scipy.io.loadmat('classification/data{}Classified.mat'.format(shape))['dz'].flatten()==np.asarray(dz), \n",
    "#                             scipy.io.loadmat('classification/data{}Classified.mat'.format(shape))['pathLength'].flatten(), np.asarray(pathlength),\n",
    "#                             scipy.io.loadmat('classification/data{}Classified.mat'.format(shape))['time'].flatten(), np.asarray(time),\n",
    "#                             range(len(dx))):\n",
    "    \n",
    "#     print(a, b, c, abs(d-e)<0.0001, abs(f-g)<0.0001, k)"
   ]
  },
  {
   "cell_type": "code",
   "execution_count": 80,
   "metadata": {
    "ExecuteTime": {
     "end_time": "2021-04-10T21:46:13.989881Z",
     "start_time": "2021-04-10T21:46:13.598123Z"
    },
    "code_folding": []
   },
   "outputs": [
    {
     "name": "stdout",
     "output_type": "stream",
     "text": [
      "sem limpar:  0 limpo:  1\n",
      "sem limpar:  1 limpo:  2\n",
      "sem limpar:  2 limpo:  3\n",
      "sem limpar:  3 limpo:  4\n",
      "sem limpar:  4 limpo:  5\n",
      "sem limpar:  5 limpo:  6\n",
      "sem limpar:  6 limpo:  8\n",
      "sem limpar:  7 limpo:  9\n",
      "sem limpar:  8 limpo:  10\n",
      "sem limpar:  9 limpo:  11\n",
      "sem limpar:  10 limpo:  12\n",
      "sem limpar:  11 limpo:  13\n",
      "sem limpar:  12 limpo:  14\n",
      "sem limpar:  13 limpo:  16\n",
      "sem limpar:  14 limpo:  17\n",
      "sem limpar:  15 limpo:  18\n",
      "sem limpar:  16 limpo:  20\n",
      "sem limpar:  17 limpo:  22\n",
      "sem limpar:  18 limpo:  23\n",
      "sem limpar:  19 limpo:  24\n",
      "sem limpar:  20 limpo:  25\n",
      "sem limpar:  21 limpo:  26\n",
      "sem limpar:  22 limpo:  28\n",
      "sem limpar:  23 limpo:  29\n",
      "sem limpar:  24 limpo:  31\n",
      "sem limpar:  25 limpo:  33\n",
      "sem limpar:  26 limpo:  34\n",
      "sem limpar:  27 limpo:  35\n",
      "sem limpar:  28 limpo:  36\n",
      "sem limpar:  29 limpo:  38\n",
      "sem limpar:  30 limpo:  40\n",
      "sem limpar:  31 limpo:  41\n",
      "sem limpar:  32 limpo:  42\n",
      "sem limpar:  33 limpo:  44\n",
      "sem limpar:  34 limpo:  45\n",
      "sem limpar:  35 limpo:  47\n",
      "sem limpar:  36 limpo:  48\n",
      "sem limpar:  37 limpo:  49\n",
      "sem limpar:  38 limpo:  50\n",
      "sem limpar:  39 limpo:  51\n",
      "sem limpar:  40 limpo:  52\n",
      "sem limpar:  41 limpo:  54\n",
      "sem limpar:  42 limpo:  56\n",
      "sem limpar:  43 limpo:  57\n",
      "sem limpar:  44 limpo:  58\n",
      "sem limpar:  45 limpo:  60\n",
      "sem limpar:  46 limpo:  61\n",
      "sem limpar:  47 limpo:  62\n",
      "sem limpar:  48 limpo:  63\n",
      "sem limpar:  49 limpo:  65\n",
      "sem limpar:  50 limpo:  67\n",
      "sem limpar:  51 limpo:  68\n",
      "sem limpar:  52 limpo:  69\n",
      "sem limpar:  53 limpo:  71\n",
      "sem limpar:  54 limpo:  72\n",
      "sem limpar:  55 limpo:  74\n",
      "sem limpar:  56 limpo:  75\n",
      "sem limpar:  57 limpo:  77\n",
      "sem limpar:  58 limpo:  78\n",
      "sem limpar:  59 limpo:  79\n",
      "sem limpar:  60 limpo:  81\n",
      "sem limpar:  61 limpo:  82\n",
      "sem limpar:  62 limpo:  84\n",
      "sem limpar:  63 limpo:  86\n",
      "sem limpar:  64 limpo:  87\n",
      "sem limpar:  65 limpo:  88\n",
      "sem limpar:  66 limpo:  89\n",
      "sem limpar:  67 limpo:  91\n",
      "sem limpar:  68 limpo:  93\n",
      "sem limpar:  69 limpo:  94\n",
      "sem limpar:  70 limpo:  96\n",
      "sem limpar:  71 limpo:  97\n",
      "sem limpar:  72 limpo:  98\n",
      "sem limpar:  73 limpo:  100\n",
      "sem limpar:  74 limpo:  102\n",
      "sem limpar:  75 limpo:  103\n",
      "sem limpar:  76 limpo:  104\n",
      "sem limpar:  77 limpo:  105\n",
      "sem limpar:  78 limpo:  107\n",
      "sem limpar:  79 limpo:  108\n",
      "sem limpar:  80 limpo:  109\n",
      "sem limpar:  81 limpo:  111\n",
      "sem limpar:  82 limpo:  113\n",
      "sem limpar:  83 limpo:  115\n",
      "sem limpar:  84 limpo:  117\n",
      "sem limpar:  85 limpo:  119\n",
      "sem limpar:  86 limpo:  120\n",
      "sem limpar:  87 limpo:  122\n",
      "sem limpar:  88 limpo:  123\n",
      "sem limpar:  89 limpo:  124\n",
      "sem limpar:  90 limpo:  125\n",
      "sem limpar:  91 limpo:  126\n",
      "sem limpar:  92 limpo:  128\n",
      "sem limpar:  93 limpo:  130\n",
      "sem limpar:  94 limpo:  131\n",
      "sem limpar:  95 limpo:  132\n",
      "sem limpar:  96 limpo:  134\n",
      "sem limpar:  97 limpo:  136\n",
      "sem limpar:  98 limpo:  138\n",
      "sem limpar:  99 limpo:  140\n",
      "sem limpar:  100 limpo:  142\n",
      "sem limpar:  101 limpo:  143\n",
      "sem limpar:  102 limpo:  144\n",
      "sem limpar:  103 limpo:  145\n",
      "sem limpar:  104 limpo:  146\n",
      "sem limpar:  105 limpo:  147\n",
      "sem limpar:  106 limpo:  149\n",
      "sem limpar:  107 limpo:  150\n",
      "sem limpar:  108 limpo:  152\n",
      "sem limpar:  109 limpo:  153\n",
      "sem limpar:  110 limpo:  155\n",
      "sem limpar:  111 limpo:  156\n",
      "sem limpar:  112 limpo:  158\n",
      "sem limpar:  113 limpo:  160\n",
      "sem limpar:  114 limpo:  161\n",
      "sem limpar:  115 limpo:  162\n",
      "sem limpar:  116 limpo:  164\n",
      "sem limpar:  117 limpo:  165\n",
      "sem limpar:  118 limpo:  166\n",
      "sem limpar:  119 limpo:  167\n",
      "sem limpar:  120 limpo:  168\n",
      "sem limpar:  121 limpo:  169\n",
      "sem limpar:  122 limpo:  170\n"
     ]
    }
   ],
   "source": [
    "#\n",
    "clean_disk_trajectories = []\n",
    "clean_disk_initcons     = []\n",
    "clean_disk_class        = []\n",
    "clean_disk_radii        = []\n",
    "clean_disk_cam2         = []\n",
    "clean_disk_cam1         = []\n",
    "\n",
    "for i in range(len(disk_trajectories)):\n",
    "    #vertical trajectory\n",
    "    z         = disk_trajectories[i][::,2][::-1]\n",
    "    \n",
    "    #finding the index to remove the last 5cm of fall\n",
    "    cut_index = 0\n",
    "    for z_ in z:\n",
    "        if z_<0.05:\n",
    "            cut_index -= 1\n",
    "        else: break\n",
    "    \n",
    "    if not cut_index==0:\n",
    "        # removing the last 5 centimeters of the fall.\n",
    "        trajectory = disk_trajectories[i][:cut_index].copy() \n",
    "\n",
    "        #removing  the last 5cm of fall from observable area series\n",
    "        area_cam2 = disk_cam2[i][:cut_index].copy()\n",
    "        area_cam1 = disk_cam1[i][:cut_index].copy()\n",
    "        \n",
    "    else:\n",
    "        trajectory = disk_trajectories[i].copy() \n",
    "        area_cam2  = disk_cam2[i].copy()\n",
    "        area_cam1  = disk_cam1[i].copy()\n",
    "\n",
    "#(original comment) Segment steady and periodic behaviours from trajectories. \n",
    "    if disk_initcons[i]==0: #(original comment) We only see steady and periodic from horizontal initial condition.\n",
    "        tc=0\n",
    "        while np.sqrt(trajectory[::,0][tc]**2 + trajectory[::,1][tc]**2)<(0.2*disk_radii[i]) and tc<len(trajectory[::,1]):\n",
    "            tc=tc+1\n",
    "\n",
    "        if tc>1: #(original comment) Segment trajectory into steady(periodic)/unknown if more than 2 time-steps are steady(periodic)\n",
    "#             pass\n",
    "#             print(steady_index)\n",
    "            clean_disk_trajectories.append(trajectory[:tc+1])\n",
    "            clean_disk_initcons.append(0)\n",
    "            clean_disk_radii.append(disk_radii[i])\n",
    "            clean_disk_class.append(3)\n",
    "            clean_disk_cam1.append(area_cam1[:tc+1]) #slicing in Python is exclusive: [start: end), therefore, we sum 1 to tc.\n",
    "            clean_disk_cam2.append(area_cam2[:tc+1]) #slicing in Python is exclusive: [start: end), therefore, we sum 1 to tc.\n",
    "#             print('dividiu: ', i)\n",
    "#             print('counter steady:', counter)\n",
    "\n",
    "            if len(trajectory)-tc>10: #second part of the sliced original trajectory.\n",
    "                clean_disk_trajectories.append(trajectory[tc:])\n",
    "                clean_disk_initcons.append(0)\n",
    "                clean_disk_radii.append(disk_radii[i])\n",
    "                clean_disk_class.append(np.nan)\n",
    "                clean_disk_cam1.append(area_cam1[tc:])\n",
    "                clean_disk_cam2.append(area_cam2[tc:])\n",
    "        \n",
    "        else: #no segmentation; only one behavior throughout the whole fall\n",
    "            clean_disk_trajectories.append(trajectory)\n",
    "            clean_disk_initcons.append(0)\n",
    "            clean_disk_radii.append(disk_radii[i])\n",
    "            clean_disk_class.append(np.nan)\n",
    "            clean_disk_cam1.append(area_cam1)\n",
    "            clean_disk_cam2.append(area_cam2)\n",
    "                \n",
    "    else: #(original comment) Vertical initial condition, no steady and peridoic behaviour\n",
    "        tc = 0\n",
    "        while np.sqrt(trajectory[::,0][tc]**2 + trajectory[::,1][tc]**2)<0.01 and tc<len(trajectory[::,1]):\n",
    "            tc = tc+1\n",
    "        \n",
    "        if len(trajectory[::,1])-tc>10:\n",
    "            clean_disk_trajectories.append(trajectory[tc:])\n",
    "            clean_disk_initcons.append(1)\n",
    "            clean_disk_radii.append(disk_radii[i])\n",
    "            clean_disk_class.append(np.nan)\n",
    "            clean_disk_cam1.append(area_cam1[tc:])\n",
    "            clean_disk_cam2.append(area_cam2[tc:])\n",
    "    \n",
    "#     counter += 1\n",
    "    print('sem limpar: ', i, 'limpo: ', len(clean_disk_trajectories)-1)\n",
    "#     print('counter full:', counter, '\\n')  \n",
    "\n",
    "##################################################################\n",
    "dx         = []\n",
    "dy         = []\n",
    "dz         = []\n",
    "pathlength = []\n",
    "time       = []\n",
    "radius     = []\n",
    "X          = []\n",
    "width      = []\n",
    "\n",
    "for i in range(len(clean_disk_trajectories)):\n",
    "    stop = 0\n",
    "    d    = 0 \n",
    "    \n",
    "    for j in range(1, len(clean_disk_trajectories[i])):\n",
    "        if LA.norm(clean_disk_trajectories[i][j]-clean_disk_trajectories[i][j-1])>0.1:\n",
    "            stop==1\n",
    "            break\n",
    "        d = d + LA.norm(clean_disk_trajectories[i][j]-clean_disk_trajectories[i][j-1])\n",
    "    \n",
    "    if stop==0:\n",
    "        pathlength.append(d)\n",
    "        z = clean_disk_trajectories[i][::,2]\n",
    "        dz.append(np.absolute(clean_disk_trajectories[i][::,2][-1]-clean_disk_trajectories[i][::,2][0]))\n",
    "        dy.append(clean_disk_trajectories[i][::,1][-1]-clean_disk_trajectories[i][::,1][0])\n",
    "        dx.append(clean_disk_trajectories[i][::,0][-1]-clean_disk_trajectories[i][::,0][0])\n",
    "        time.append(len(clean_disk_trajectories[i])*1/98)\n",
    "        \n",
    "        locs1 = find_peaks(clean_disk_cam1[i])[0]\n",
    "        locs2 = find_peaks(clean_disk_cam2[i])[0]\n",
    "        \n",
    "        Osc    = (len(locs1)+len(locs2))/(2*time[-1])\n",
    "        SpeedZ = np.std(np.diff(z))\n",
    "        \n",
    "        X.append([Osc, SpeedZ])\n",
    "\n",
    "# np.save('pickles/clean_disk_trajectories.npy', clean_disk_trajectories)\n",
    "# np.save('pickles/clean_disk_initcons.npy', clean_disk_initcons)    \n",
    "# np.save('pickles/clean_disk_class.npy', clean_disk_class)       \n",
    "# np.save('pickles/clean_disk_radii.npy', clean_disk_radii)       \n",
    "# np.save('pickles/clean_disk_class.npy', clean_disk_class)       "
   ]
  },
  {
   "cell_type": "code",
   "execution_count": 198,
   "metadata": {
    "ExecuteTime": {
     "end_time": "2021-03-21T23:11:21.479629Z",
     "start_time": "2021-03-21T23:11:21.476511Z"
    },
    "code_folding": [
     0
    ]
   },
   "outputs": [],
   "source": [
    "#missing patterns analysis\n",
    "\n",
    "# dims     = 1\n",
    "# dx_      = 3\n",
    "# missing_ = []\n",
    "# dist_    = []\n",
    "\n",
    "# for i, st, ts1, ts2, class_ in zip(range(len(clean_disk_trajectories)), clean_disk_trajectories, \n",
    "#                                    clean_disk_cam1, clean_disk_cam2, clean_disk_class):\n",
    "\n",
    "#     if class_==3:\n",
    "#         missing_.append([np.nan])\n",
    "        \n",
    "#     else:\n",
    "# #         p  = multi_permutation_entropy(ts, dx=dx_, return_probs=True)\n",
    "#         ts   = np.stack((normalize(ts1), normalize(ts2)), axis=1)\n",
    "#         temp = [] \n",
    "#         size = [np.quantile(range(len(ts)), j).astype('int') for j in np.arange(0.2,1.05,.05)]\n",
    "#         for i, k in zip(size, range(len(size))):\n",
    "#             s, p = full_ordinal_distribution(ts[0:i], dx=dx_, multi=True)\n",
    "#             data = ordpy.missing_patterns((s, p), dx=dx_, return_fraction=False)[1]\n",
    "#             temp.append(data)\n",
    "            \n",
    "#             if k==0 and data>4:\n",
    "#                 dist_.append([1])\n",
    "#             elif k==0:\n",
    "#                 dist_.append([0])\n",
    "#             else:\n",
    "#                 pass\n",
    "                        \n",
    "#         missing_.append(temp)"
   ]
  },
  {
   "cell_type": "code",
   "execution_count": 199,
   "metadata": {
    "ExecuteTime": {
     "end_time": "2021-03-21T23:11:40.053186Z",
     "start_time": "2021-03-21T23:11:40.049182Z"
    },
    "code_folding": [
     0
    ]
   },
   "outputs": [],
   "source": [
    "# f, ax = plt.subplots()\n",
    "\n",
    "# for i, series, class_, algo_ in zip(range(len(missing_)), missing_, clean_disk_class, disk_feat_class):\n",
    "#     if class_==3:\n",
    "#         pass\n",
    "#     else:\n",
    "#         if algo_==1: #tumbling\n",
    "#             ax.plot(np.arange(0.2,1.05,.05), series, '*', markersize=8, color='red', alpha=.5)\n",
    "#         elif algo_==2: #chaos\n",
    "#             ax.plot(np.arange(0.2,1.05,.05), series, 'o', markersize=8, color='blue', zorder=0, alpha=.5)\n",
    "        \n",
    "    \n",
    "# # ax.set_xticks(np.arange(0.2,1.05,.05))\n",
    "\n",
    "# f.tight_layout()"
   ]
  },
  {
   "cell_type": "markdown",
   "metadata": {},
   "source": [
    "## H x C e Fisher x Shannon"
   ]
  },
  {
   "cell_type": "code",
   "execution_count": 268,
   "metadata": {
    "ExecuteTime": {
     "end_time": "2021-04-05T22:15:04.007012Z",
     "start_time": "2021-04-05T22:15:03.350111Z"
    }
   },
   "outputs": [
    {
     "data": {
      "image/png": "[encoded data removed]",
      "text/plain": [
       "<Figure size 655.2x504 with 1 Axes>"
      ]
     },
     "metadata": {},
     "output_type": "display_data"
    }
   ],
   "source": [
    "# for ts in clean_disk_trajectories:\n",
    "#     disk_ce.append(mwpe(ts, dx=4))\n",
    "\n",
    "dims    = 2\n",
    "dx_     = 4\n",
    "\n",
    "disk_ce = []\n",
    "for i, st, ts1, ts2, class_ in zip(range(len(clean_disk_trajectories)), clean_disk_trajectories, \n",
    "                                   clean_disk_cam1, clean_disk_cam2, clean_disk_class):\n",
    "    if class_==3:\n",
    "        disk_ce.append((np.nan, np.nan))\n",
    "    else:\n",
    "#         p  = multi_permutation_entropy(ts, dx=dx_, return_probs=True)\n",
    "        ts = np.stack((normalize(ts1), normalize(ts2)), axis=1)\n",
    "        disk_ce.append(fisher_shannon(ts, dx=dx_, multi=True))\n",
    "        \n",
    "#         disk_ce.append(fisher_shannon(normalize(ts1), dx=dx_, multi=False))\n",
    "\n",
    "\n",
    "f, ax = plt.subplots()\n",
    "\n",
    "# for (h_, c_), class_ in zip(disk_ce, disk_feat_class): \n",
    "for (h_, c_), class_ in zip(disk_ce, disk_human_class):\n",
    "    if class_ == 1: #tumbling\n",
    "        ax.plot(h_, c_, '.', marker='o', markersize=8, markeredgecolor='black', color='grey', zorder=0)\n",
    "    elif class_ == 2: #chaotic\n",
    "        ax.plot(h_,c_,  '.', marker='*', markersize=8, color='blue')\n",
    "    if class_ == 3:\n",
    "        pass\n",
    "\n",
    "ax.set_ylabel('Fisher information, $F$')\n",
    "ax.set_xlabel('Entropy, $H$')\n",
    "\n",
    "f.tight_layout()\n",
    "# f.savefig('figures/auto-Fisher/Fisher-{}-dx:{}-dims:{}'.format(shape, dx_, dims), bbox_inches='tight')"
   ]
  },
  {
   "cell_type": "markdown",
   "metadata": {},
   "source": [
    "## PCA"
   ]
  },
  {
   "cell_type": "code",
   "execution_count": 228,
   "metadata": {
    "ExecuteTime": {
     "end_time": "2021-03-21T23:44:41.908735Z",
     "start_time": "2021-03-21T23:44:41.880999Z"
    }
   },
   "outputs": [
    {
     "ename": "ValueError",
     "evalue": "operands could not be broadcast together with shapes (129,) (138,) ",
     "output_type": "error",
     "traceback": [
      "\u001b[0;31m---------------------------------------------------------------------------\u001b[0m",
      "\u001b[0;31mValueError\u001b[0m                                Traceback (most recent call last)",
      "\u001b[0;32m<ipython-input-228-52fa3621b471>\u001b[0m in \u001b[0;36m<module>\u001b[0;34m\u001b[0m\n\u001b[0;32m----> 1\u001b[0;31m \u001b[0mnp\u001b[0m\u001b[0;34m.\u001b[0m\u001b[0mmin\u001b[0m\u001b[0;34m(\u001b[0m\u001b[0mclean_disk_cam1\u001b[0m\u001b[0;34m)\u001b[0m\u001b[0;34m\u001b[0m\u001b[0;34m\u001b[0m\u001b[0m\n\u001b[0m",
      "\u001b[0;32m<__array_function__ internals>\u001b[0m in \u001b[0;36mamin\u001b[0;34m(*args, **kwargs)\u001b[0m\n",
      "\u001b[0;32m~/anaconda3/lib/python3.7/site-packages/numpy/core/fromnumeric.py\u001b[0m in \u001b[0;36mamin\u001b[0;34m(a, axis, out, keepdims, initial, where)\u001b[0m\n\u001b[1;32m   2744\u001b[0m     \"\"\"\n\u001b[1;32m   2745\u001b[0m     return _wrapreduction(a, np.minimum, 'min', axis, None, out,\n\u001b[0;32m-> 2746\u001b[0;31m                           keepdims=keepdims, initial=initial, where=where)\n\u001b[0m\u001b[1;32m   2747\u001b[0m \u001b[0;34m\u001b[0m\u001b[0m\n\u001b[1;32m   2748\u001b[0m \u001b[0;34m\u001b[0m\u001b[0m\n",
      "\u001b[0;32m~/anaconda3/lib/python3.7/site-packages/numpy/core/fromnumeric.py\u001b[0m in \u001b[0;36m_wrapreduction\u001b[0;34m(obj, ufunc, method, axis, dtype, out, **kwargs)\u001b[0m\n\u001b[1;32m     88\u001b[0m                 \u001b[0;32mreturn\u001b[0m \u001b[0mreduction\u001b[0m\u001b[0;34m(\u001b[0m\u001b[0maxis\u001b[0m\u001b[0;34m=\u001b[0m\u001b[0maxis\u001b[0m\u001b[0;34m,\u001b[0m \u001b[0mout\u001b[0m\u001b[0;34m=\u001b[0m\u001b[0mout\u001b[0m\u001b[0;34m,\u001b[0m \u001b[0;34m**\u001b[0m\u001b[0mpasskwargs\u001b[0m\u001b[0;34m)\u001b[0m\u001b[0;34m\u001b[0m\u001b[0;34m\u001b[0m\u001b[0m\n\u001b[1;32m     89\u001b[0m \u001b[0;34m\u001b[0m\u001b[0m\n\u001b[0;32m---> 90\u001b[0;31m     \u001b[0;32mreturn\u001b[0m \u001b[0mufunc\u001b[0m\u001b[0;34m.\u001b[0m\u001b[0mreduce\u001b[0m\u001b[0;34m(\u001b[0m\u001b[0mobj\u001b[0m\u001b[0;34m,\u001b[0m \u001b[0maxis\u001b[0m\u001b[0;34m,\u001b[0m \u001b[0mdtype\u001b[0m\u001b[0;34m,\u001b[0m \u001b[0mout\u001b[0m\u001b[0;34m,\u001b[0m \u001b[0;34m**\u001b[0m\u001b[0mpasskwargs\u001b[0m\u001b[0;34m)\u001b[0m\u001b[0;34m\u001b[0m\u001b[0;34m\u001b[0m\u001b[0m\n\u001b[0m\u001b[1;32m     91\u001b[0m \u001b[0;34m\u001b[0m\u001b[0m\n\u001b[1;32m     92\u001b[0m \u001b[0;34m\u001b[0m\u001b[0m\n",
      "\u001b[0;31mValueError\u001b[0m: operands could not be broadcast together with shapes (129,) (138,) "
     ]
    }
   ],
   "source": [
    "np.min(clean_disk_cam1)"
   ]
  },
  {
   "cell_type": "code",
   "execution_count": 240,
   "metadata": {
    "ExecuteTime": {
     "end_time": "2021-03-21T23:49:02.587420Z",
     "start_time": "2021-03-21T23:49:02.569230Z"
    }
   },
   "outputs": [
    {
     "name": "stdout",
     "output_type": "stream",
     "text": [
      "129\n",
      "138\n",
      "101\n",
      "139\n",
      "118\n",
      "139\n",
      "137\n",
      "89\n",
      "118\n",
      "121\n",
      "140\n",
      "73\n",
      "126\n",
      "124\n",
      "122\n",
      "123\n",
      "150\n",
      "89\n",
      "120\n",
      "30\n",
      "4\n",
      "126\n",
      "143\n",
      "11\n",
      "115\n",
      "10\n",
      "112\n",
      "3\n",
      "136\n",
      "11\n",
      "122\n",
      "117\n",
      "137\n",
      "140\n",
      "140\n",
      "4\n",
      "118\n",
      "136\n",
      "85\n",
      "141\n",
      "125\n",
      "8\n",
      "114\n",
      "143\n",
      "139\n",
      "137\n",
      "132\n",
      "148\n",
      "144\n",
      "131\n",
      "135\n",
      "136\n",
      "114\n",
      "11\n",
      "114\n",
      "91\n",
      "141\n",
      "19\n",
      "99\n",
      "108\n",
      "143\n",
      "13\n",
      "100\n",
      "76\n",
      "117\n",
      "92\n",
      "132\n",
      "25\n",
      "103\n",
      "18\n",
      "75\n",
      "138\n",
      "5\n",
      "122\n",
      "27\n",
      "110\n",
      "4\n",
      "99\n",
      "92\n",
      "93\n",
      "149\n",
      "151\n",
      "131\n",
      "129\n",
      "138\n",
      "8\n",
      "113\n",
      "143\n",
      "151\n",
      "117\n",
      "115\n",
      "134\n",
      "133\n",
      "123\n",
      "128\n",
      "129\n",
      "138\n",
      "11\n",
      "109\n",
      "141\n",
      "3\n",
      "108\n",
      "93\n",
      "139\n",
      "10\n",
      "119\n",
      "16\n",
      "109\n",
      "146\n",
      "8\n",
      "118\n",
      "15\n",
      "105\n",
      "106\n",
      "36\n",
      "90\n",
      "3\n",
      "113\n",
      "121\n",
      "139\n",
      "114\n",
      "145\n",
      "3\n",
      "123\n",
      "69\n",
      "105\n",
      "125\n",
      "147\n",
      "92\n",
      "84\n",
      "9\n",
      "106\n",
      "118\n",
      "99\n",
      "143\n",
      "101\n",
      "123\n",
      "136\n",
      "4\n",
      "134\n",
      "6\n",
      "121\n",
      "137\n",
      "4\n",
      "121\n",
      "117\n",
      "137\n",
      "144\n",
      "3\n",
      "95\n",
      "128\n",
      "147\n",
      "141\n",
      "108\n",
      "3\n",
      "126\n",
      "100\n",
      "90\n",
      "28\n",
      "88\n",
      "4\n",
      "122\n",
      "10\n",
      "102\n",
      "138\n",
      "4\n",
      "117\n",
      "84\n",
      "19\n",
      "66\n",
      "9\n",
      "107\n",
      "6\n",
      "97\n",
      "3\n",
      "114\n",
      "10\n",
      "98\n",
      "123\n",
      "96\n",
      "4\n",
      "126\n",
      "125\n",
      "17\n",
      "109\n",
      "137\n",
      "117\n",
      "131\n",
      "19\n",
      "96\n",
      "117\n",
      "134\n",
      "147\n",
      "117\n",
      "109\n",
      "136\n",
      "121\n",
      "141\n",
      "153\n",
      "3\n",
      "132\n",
      "3\n",
      "85\n",
      "148\n",
      "147\n",
      "11\n",
      "102\n",
      "10\n",
      "123\n",
      "137\n",
      "157\n",
      "110\n",
      "149\n",
      "101\n",
      "21\n",
      "113\n",
      "138\n",
      "85\n"
     ]
    }
   ],
   "source": [
    "for i in clean_disk_cam1:\n",
    "    print(len(i))"
   ]
  },
  {
   "cell_type": "code",
   "execution_count": null,
   "metadata": {},
   "outputs": [],
   "source": [
    "X = weights_as_features # shape: (1710, 416) - 1710 amostras diferentes e 416 pesos de arestas de redes ordinais\n",
    "Y = correct_classes\n",
    "\n",
    "X_train, X_test, y_train, y_test = train_test_split(X, Y, test_size=.25, stratify=Y, random_state=42)\n",
    "\n",
    "#Number of principal components\n",
    "npca   = 3\n",
    "fitted_pca = PCA(n_components=npca).fit(X_train)\n",
    "#         print('Explained variance: ', fitted_pca.explained_variance_ratio_, fitted_pca.explained_variance_ratio_.sum())\n",
    "\n",
    "X_train_pca = fitted_pca.transform(X_train)\n",
    "X_test_pca  = fitted_pca.transform(X_test)"
   ]
  },
  {
   "cell_type": "markdown",
   "metadata": {
    "heading_collapsed": true
   },
   "source": [
    "## Trajectories"
   ]
  },
  {
   "cell_type": "code",
   "execution_count": 208,
   "metadata": {
    "ExecuteTime": {
     "end_time": "2021-03-05T02:47:27.033866Z",
     "start_time": "2021-03-05T02:47:26.771713Z"
    },
    "hidden": true
   },
   "outputs": [
    {
     "data": {
      "image/png": "[encoded data removed]",
      "text/plain": [
       "<Figure size 655.2x504 with 1 Axes>"
      ]
     },
     "metadata": {},
     "output_type": "display_data"
    }
   ],
   "source": [
    "# for i in tqdm.tqdm(range(len(clean_disk_trajectories))):\n",
    "\n",
    "f, ax = plt.subplots()\n",
    "for i in [21,6]:\n",
    "    if i==21:\n",
    "        x_, z_ = clean_disk_trajectories[i][::,0], clean_disk_trajectories[i][::,2]\n",
    "        ax.plot(x_, z_, '-', color='grey')\n",
    "    else:\n",
    "        x_, z_ = clean_disk_trajectories[i][::,0], clean_disk_trajectories[i][::,2]\n",
    "        ax.plot(x_, z_, '.', color='blue')\n",
    "\n",
    "    ax.vlines(x=0, ymin=0, ymax=1, linestyle='--', zorder= 0)\n",
    "    ax.set_ylabel('z, altura')\n",
    "    ax.set_xlabel('x, lateral')\n",
    "\n",
    "    f.tight_layout()\n",
    "# f.savefig('figures/{}.svg'.format(i), bbox_inches='tight')\n",
    "# plt.close()"
   ]
  },
  {
   "cell_type": "markdown",
   "metadata": {},
   "source": [
    "# Hexagons"
   ]
  },
  {
   "cell_type": "markdown",
   "metadata": {},
   "source": [
    "# Squares"
   ]
  },
  {
   "cell_type": "markdown",
   "metadata": {},
   "source": [
    "# Crosses"
   ]
  }
 ],
 "metadata": {
  "kernelspec": {
   "display_name": "Python 3",
   "language": "python",
   "name": "python3"
  },
  "language_info": {
   "codemirror_mode": {
    "name": "ipython",
    "version": 3
   },
   "file_extension": ".py",
   "mimetype": "text/x-python",
   "name": "python",
   "nbconvert_exporter": "python",
   "pygments_lexer": "ipython3",
   "version": "3.7.7"
  }
 },
 "nbformat": 4,
 "nbformat_minor": 4
}

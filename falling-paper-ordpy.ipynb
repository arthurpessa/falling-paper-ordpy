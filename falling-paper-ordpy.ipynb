{
 "cells": [
  {
   "cell_type": "code",
   "execution_count": 1,
   "metadata": {
    "ExecuteTime": {
     "end_time": "2021-04-05T18:48:43.893470Z",
     "start_time": "2021-04-05T18:48:42.774924Z"
    },
    "init_cell": true
   },
   "outputs": [
    {
     "data": {
      "text/html": [
       "<style>.container {width:99.5% !important;} </style>"
      ],
      "text/plain": [
       "<IPython.core.display.HTML object>"
      ]
     },
     "metadata": {},
     "output_type": "display_data"
    }
   ],
   "source": [
    "import numpy as np\n",
    "\n",
    "import scipy.io\n",
    "import scipy.stats\n",
    "\n",
    "import matplotlib.pyplot as plt\n",
    "import matplotlib as mpl\n",
    "import seaborn as sns \n",
    "\n",
    "import itertools\n",
    "\n",
    "#extend notebook\n",
    "from IPython.core.display import display, HTML\n",
    "display(HTML(\"<style>.container {width:99.5% !important;} </style>\"))\n",
    "\n",
    "# from tslearn.metrics import dtw as time_warping\n",
    "\n",
    "import ordpy\n",
    "import tqdm\n",
    "import igraph\n",
    "\n",
    "\n",
    "from numpy import linalg as LA\n",
    "from scipy.signal import find_peaks"
   ]
  },
  {
   "cell_type": "code",
   "execution_count": 2,
   "metadata": {
    "ExecuteTime": {
     "end_time": "2021-04-05T18:48:43.897995Z",
     "start_time": "2021-04-05T18:48:43.895603Z"
    },
    "init_cell": true
   },
   "outputs": [],
   "source": [
    "# from sklearn.cluster import SpectralClustering\n",
    "# from sklearn.metrics import silhouette_score"
   ]
  },
  {
   "cell_type": "markdown",
   "metadata": {
    "heading_collapsed": true
   },
   "source": [
    "# Functions' definitions"
   ]
  },
  {
   "cell_type": "code",
   "execution_count": 3,
   "metadata": {
    "ExecuteTime": {
     "end_time": "2021-04-05T18:48:43.905855Z",
     "start_time": "2021-04-05T18:48:43.900672Z"
    },
    "code_folding": [
     0
    ],
    "hidden": true,
    "init_cell": true
   },
   "outputs": [],
   "source": [
    "def stdfigsize(scale=1, nrows=1, ncols=1, ratio=1.3):\n",
    "    \"\"\"\n",
    "    Returns a tuple to be used as figure size.\n",
    "\n",
    "    Parameters\n",
    "    ----------\n",
    "    returns (7*ratio*scale*nrows, 7.*scale*ncols)\n",
    "    By default: ratio=1.3\n",
    "    ----------\n",
    "    Returns (7*ratio*scale*nrows, 7.*scale*ncols).\n",
    "    \"\"\"\n",
    "\n",
    "    return((7*ratio*scale*ncols, 7.*scale*nrows))"
   ]
  },
  {
   "cell_type": "code",
   "execution_count": 4,
   "metadata": {
    "ExecuteTime": {
     "end_time": "2021-04-05T18:48:43.925768Z",
     "start_time": "2021-04-05T18:48:43.908300Z"
    },
    "code_folding": [
     6
    ],
    "hidden": true,
    "init_cell": true
   },
   "outputs": [],
   "source": [
    "%matplotlib inline\n",
    "\n",
    "#Style definitions\n",
    "sns.set_style(\"white\")\n",
    "sns.set_style({\"xtick.direction\": \"out\", \"ytick.direction\": \"out\"})\n",
    "\n",
    "rcparams = {\n",
    "    'font.family': 'sans-serif',\n",
    "    'font.sans-serif': ['Helvetica'],\n",
    "    'axes.labelsize': 28,\n",
    "    'axes.titlesize': 28,\n",
    "    'legend.fontsize': 20,\n",
    "    'ytick.right': 'off',\n",
    "    'xtick.top': 'off',\n",
    "    'ytick.left': 'on',\n",
    "    'xtick.bottom': 'on',\n",
    "    'xtick.labelsize': '25',\n",
    "    'ytick.labelsize': '25',\n",
    "    'axes.linewidth': 2.5,\n",
    "    'xtick.major.width': 1.8,\n",
    "    'xtick.minor.width': 1.8,\n",
    "    'xtick.major.size': 14,\n",
    "    'xtick.minor.size': 7,\n",
    "    'xtick.major.pad': 10,\n",
    "    'xtick.minor.pad': 10,\n",
    "    'ytick.major.width': 1.8,\n",
    "    'ytick.minor.width': 1.8,\n",
    "    'ytick.major.size': 14,\n",
    "    'ytick.minor.size': 7,\n",
    "    'ytick.major.pad': 10,\n",
    "    'ytick.minor.pad': 10,\n",
    "    'axes.labelpad': 15,\n",
    "    'axes.titlepad': 15,\n",
    "    'axes.spines.right': False,\n",
    "    'axes.spines.top': False,\n",
    "    'figure.figsize': stdfigsize(),\n",
    "    'lines.linewidth': 3\n",
    "}\n",
    "mpl.rcParams.update(rcparams)"
   ]
  },
  {
   "cell_type": "code",
   "execution_count": 5,
   "metadata": {
    "ExecuteTime": {
     "end_time": "2021-04-05T18:48:43.931108Z",
     "start_time": "2021-04-05T18:48:43.927651Z"
    },
    "code_folding": [
     0
    ],
    "hidden": true,
    "init_cell": true
   },
   "outputs": [],
   "source": [
    "def normalize(array):\n",
    "    \"\"\"\n",
    "    Normalizes an array between 0 and 1.\n",
    "    \"\"\"\n",
    "    return (array-array.min())/(array.max()-array.min())"
   ]
  },
  {
   "cell_type": "code",
   "execution_count": 6,
   "metadata": {
    "ExecuteTime": {
     "end_time": "2021-04-05T18:48:43.948481Z",
     "start_time": "2021-04-05T18:48:43.933333Z"
    },
    "code_folding": [
     2,
     28
    ],
    "hidden": true,
    "init_cell": true
   },
   "outputs": [],
   "source": [
    "#https://github.com/oliviaguest/gini\n",
    "#last modified 31/05/2020\n",
    "def gini_faster(data):\n",
    "    \"\"\"\n",
    "    Calculate the Gini coefficient of a numpy array.\n",
    "    (Allegedly faster implementation to calculate\n",
    "    the Gini index.)\n",
    "     \n",
    "    Parameters\n",
    "    ----------\n",
    "    data: list like object.\n",
    "    ----------\n",
    "    Returns the Gini index of a list of probabilities.    \n",
    "    \"\"\"\n",
    "    # based on bottom eq: http://www.statsdirect.com/help/content/image/stat0206_wmf.gif\n",
    "    # from: http://www.statsdirect.com/help/default.htm#nonparametric_methods/gini.htm\n",
    "\n",
    "#Arthur (modified) line above\n",
    "    array = np.asarray(data).flatten()\n",
    "#     array = array.flatten() #all values are treated equally, arrays must be 1d\n",
    "    if np.amin(array) < 0:\n",
    "        array -= np.amin(array) #values cannot be negative\n",
    "    array += 0.0000001 #values cannot be 0\n",
    "    array = np.sort(array) #values must be sorted\n",
    "    index = np.arange(1,array.shape[0]+1) #index per array element\n",
    "    n = array.shape[0]#number of array elements\n",
    "    return ((np.sum((2 * index - n  - 1) * array)) / (n * np.sum(array))) #Gini coefficient\n",
    "\n",
    "def safe_avg_shortpath(ordnet):\n",
    "    \"\"\"\n",
    "    Calculates the average weighted shortest \n",
    "    path for a graph removing possible\n",
    "    infinities.\n",
    "    \n",
    "    Parameters\n",
    "    ----------\n",
    "    ordinal_network: return of the ordinal_network() function from the ordpy package.\n",
    "    ----------\n",
    "    Returns the average weighted shortest path\n",
    "    calculated after the removal of eventual \n",
    "    infinities.\n",
    "    \"\"\"\n",
    "    nodes, edges, weights = ordnet\n",
    "    \n",
    "    graph = igraph.Graph(directed=True)\n",
    "    graph.add_vertices(nodes)\n",
    "    graph.add_edges(edges)\n",
    "    graph.vs[\"label\"]  = nodes\n",
    "    graph.es[\"weight\"] = weights\n",
    "    \n",
    "    if not True in np.isinf(graph.shortest_paths(weights='weight')):\n",
    "        w = np.asarray(graph.shortest_paths(weights='weight'))\n",
    "        return w.mean()\n",
    "    else:\n",
    "        sp = np.asarray(graph.shortest_paths(weights='weight'))\n",
    "        return np.mean(sp[sp<np.inf])"
   ]
  },
  {
   "cell_type": "code",
   "execution_count": 7,
   "metadata": {
    "ExecuteTime": {
     "end_time": "2021-04-05T18:48:43.976081Z",
     "start_time": "2021-04-05T18:48:43.950824Z"
    },
    "code_folding": [
     0
    ],
    "hidden": true,
    "init_cell": true
   },
   "outputs": [],
   "source": [
    "def full_ordinal_distribution(data, dx=3, taux=1, multi=False):\n",
    "    \"\"\"\n",
    "    Ordinal probability distribution. Ordered and with \n",
    "    permutations with zero probability.\n",
    "    \n",
    "    Parameter\n",
    "    ---------\n",
    "    data : array\n",
    "           Array object in the format :math:`[x_{1}, x_{2}, x_{3}, \\\\ldots ,x_{n}]`\n",
    "           or  :math:`[[x_{11}, x_{12}, x_{13}, \\\\ldots, x_{1m}],\n",
    "           \\\\ldots, [x_{n1}, x_{n2}, x_{n3}, \\\\ldots, x_{nm}]]`\n",
    "           or an ordinal probability distribution (such as the ones returned by \n",
    "           `full_ordinal_distribution`).\n",
    "    dx : int\n",
    "         Embedding dimension (horizontal axis) (default: 3).\n",
    "    taux : int\n",
    "           Embedding delay (horizontal axis) (default: 1).\n",
    "    multi : boolean\n",
    "            If `True`, assumes **data** is multivariate time series. If \n",
    "            `False`, **data** is expected to be a one-dimensional \n",
    "            array (default: `False`). \n",
    "    ---------\n",
    "     : tuple\n",
    "       Tuple containing two arrays, one with the ordinal patterns occurring in data \n",
    "       and another with their corresponding probabilities.\n",
    "\n",
    "    \"\"\"\n",
    "    if multi==False:\n",
    "        try:\n",
    "            ny, nx = np.shape(data)\n",
    "            data   = np.array(data)\n",
    "        except:\n",
    "            nx     = np.shape(data)[0]\n",
    "            ny     = 1\n",
    "            data   = np.array([data])\n",
    "            \n",
    "        partitions = np.concatenate(\n",
    "            [\n",
    "                [np.concatenate(data[j:j+1:1,i:i+dx*taux:taux]) for i in range(nx-(dx-1)*taux)] \n",
    "                for j in range(ny)\n",
    "            ]\n",
    "        )\n",
    "\n",
    "        symbols = np.apply_along_axis(np.argsort, 1, partitions)\n",
    "        symbols, symbols_count = np.unique(symbols, return_counts=True, axis=0)\n",
    "\n",
    "        probabilities = symbols_count/len(partitions)\n",
    "        full_symbols  = np.asarray(list(itertools.permutations(np.arange(dx))))\n",
    "\n",
    "        flat_symbols     = np.apply_along_axis(np.array2string, 1, symbols, separator='')\n",
    "        full_symbols_str = np.apply_along_axis(np.array2string, 1, full_symbols, separator='')\n",
    "        full_probs       = np.full(len(full_symbols), 0.)\n",
    "\n",
    "        for symbol_, probs_ in zip(flat_symbols, probabilities):\n",
    "            index             = np.argwhere(symbol_==full_symbols_str).flatten()\n",
    "            full_probs[index] = probs_\n",
    "\n",
    "        return full_symbols, full_probs\n",
    "        \n",
    "    else:\n",
    "        try:\n",
    "            ny, nx = np.shape(data)\n",
    "            data   = np.array(data).T\n",
    "        except:\n",
    "            return None\n",
    "\n",
    "        partitions                  = [np.concatenate([[component[i:i+dx*taux:taux]] for i in range(ny-(dx-1)*taux)]) for component in data]\n",
    "        flat_symbolic_sequences     = np.apply_along_axis(np.argsort, 2, partitions).reshape(-1, dx)\n",
    "        flat_symbols, symbols_count = np.unique(flat_symbolic_sequences, return_counts=True, axis=0)\n",
    "\n",
    "        probabilities = symbols_count/symbols_count.sum()\n",
    "        full_symbols  = np.asarray(list(itertools.permutations(np.arange(dx))))\n",
    "\n",
    "        flat_symbols     = np.apply_along_axis(np.array2string, 1, flat_symbols, separator='')\n",
    "        full_symbols_str = np.apply_along_axis(np.array2string, 1, full_symbols, separator='')\n",
    "        full_probs       = np.full(len(full_symbols), 0.)\n",
    "\n",
    "        for symbol_, probs_ in zip(flat_symbols, probabilities):\n",
    "            index             = np.argwhere(symbol_==full_symbols_str).flatten()\n",
    "            full_probs[index] = probs_\n",
    "\n",
    "        return full_symbols, full_probs"
   ]
  },
  {
   "cell_type": "code",
   "execution_count": 8,
   "metadata": {
    "ExecuteTime": {
     "end_time": "2021-04-05T18:48:43.993246Z",
     "start_time": "2021-04-05T18:48:43.979445Z"
    },
    "code_folding": [
     0
    ],
    "hidden": true,
    "init_cell": true
   },
   "outputs": [],
   "source": [
    "def fisher_shannon(data, dx=3, taux=1, probs=False, multi=False):\n",
    "    \"\"\"\n",
    "    Calculates permutation entropy\\\\ [#bandt_pompe]_ and Fisher \n",
    "    information using an ordinal distribution obtained from data.\n",
    "    \n",
    "    Parameters\n",
    "    ----------\n",
    "    data : array\n",
    "           Array object in the format :math:`[x_{1}, x_{2}, x_{3}, \\\\ldots ,x_{n}]`\n",
    "           or  :math:`[[x_{11}, x_{12}, x_{13}, \\\\ldots, x_{1m}],\n",
    "           \\\\ldots, [x_{n1}, x_{n2}, x_{n3}, \\\\ldots, x_{nm}]]`\n",
    "           or an ordinal probability distribution (such as the ones returned by \n",
    "           `full_ordinal_distribution`).\n",
    "    dx : int\n",
    "         Embedding dimension (horizontal axis) (default: 3).\n",
    "    taux : int\n",
    "           Embedding delay (horizontal axis) (default: 1).\n",
    "    probs : boolean\n",
    "            If `True`, assumes **data** is an ordinal probability distribution. If \n",
    "            `False`, **data** is expected to be a one- or two-dimensional \n",
    "            array (default: `False`). \n",
    "    multi : boolean\n",
    "            If `True`, assumes **data** is multivariate time series. If \n",
    "            `False`, **data** is expected to be a one-dimensional \n",
    "            array (default: `False`). \n",
    "\n",
    "    Returns\n",
    "    -------\n",
    "     : tuple\n",
    "       Values of permutation entropy and Fisher information.\n",
    "    \"\"\"  \n",
    "    if multi==False:\n",
    "        if probs==False:\n",
    "            _, dist_ = full_ordinal_distribution(data, dx, taux)\n",
    "            h_       = ordpy.permutation_entropy(dist_, dx, taux, probs=True)\n",
    "        else:\n",
    "            dist_    = data\n",
    "            h_       = ordpy.permutation_entropy(dist_, dx, taux, probs=True)\n",
    "\n",
    "        if dist_[0]==1. or dist_[-1]==1.: # F = F_0 \\sum_{i = 1}^{N - 1} (\\sqrt{p_{i+1}} - \\sqrt{p_{i}})^2\n",
    "            return h_, np.sum(np.diff(np.sqrt(dist_[::-1]))**2)  # with F_0=1\n",
    "        else:\n",
    "            return h_, 0.5*np.sum(np.diff(np.sqrt(dist_[::-1]))**2) # with F_0=1/2\n",
    "        \n",
    "    else:\n",
    "        if probs==False:\n",
    "            _, dist_ = full_ordinal_distribution(data, dx, taux, multi=True)\n",
    "            h_       = ordpy.permutation_entropy(dist_, dx, taux, probs=True)\n",
    "        else:\n",
    "            dist_    = data\n",
    "            h_       = ordpy.permutation_entropy(dist_, dx, taux, probs=True)\n",
    "\n",
    "        if dist_[0]==1. or dist_[-1]==1.: # F = F_0 \\sum_{i = 1}^{N - 1} (\\sqrt{p_{i+1}} - \\sqrt{p_{i}})^2\n",
    "            return h_, np.sum(np.diff(np.sqrt(dist_[::-1]))**2) # with F_0=1\n",
    "        else:\n",
    "            return h_, 0.5*np.sum(np.diff(np.sqrt(dist_[::-1]))**2) # with F_0=1/2"
   ]
  },
  {
   "cell_type": "code",
   "execution_count": 9,
   "metadata": {
    "ExecuteTime": {
     "end_time": "2021-04-05T18:48:44.009032Z",
     "start_time": "2021-04-05T18:48:43.995348Z"
    },
    "code_folding": [
     0
    ],
    "hidden": true,
    "init_cell": true
   },
   "outputs": [],
   "source": [
    "def multi_permutation_entropy(data, dx=3, taux=1, base=2, normalized=True, return_probs=False):\n",
    "    \"\"\"\n",
    "    Calculates Shannon's entropy using an ordinal ditribution extracted from\n",
    "    data (a multidimensional time series).\n",
    "    \n",
    "    Parameters\n",
    "    ----------\n",
    "    data : array\n",
    "           Array object in the format :math:`[[x_{11}, x_{12}, x_{13}, \\\\ldots, x_{1m}],\n",
    "           \\\\ldots, [x_{n1}, x_{n2}, x_{n3}, \\\\ldots, x_{nm}]]` where n is the length \n",
    "           and m is the dimension of a multidimensional time series.\n",
    "    dx : int\n",
    "         Embedding dimension (horizontal axis) (default: 3)\n",
    "    taux : int\n",
    "           Embedding delay (horizontal axis) (default: 1).\n",
    "    base : str, int\n",
    "           Logarithm base in Shannon's entropy. Either 'e' or 2 (default: 'e').\n",
    "    normalized: boolean\n",
    "                If `True`, permutation entropy is normalized by its maximum value.\n",
    "                If `False`, it does not (default: `True`).\n",
    "\n",
    "    Returns\n",
    "    -------\n",
    "     : float\n",
    "       The value of permutation entropy.\n",
    "    \n",
    "    Examples\n",
    "    --------\n",
    "    \"\"\"\n",
    "    try:\n",
    "        ny, nx = np.shape(data)\n",
    "        data   = np.array(data).T\n",
    "    except:\n",
    "        return None\n",
    "    \n",
    "    partitions                  = [np.concatenate([[component[i:i+dx*taux:taux]] for i in range(ny-(dx-1)*taux)]) for component in data]\n",
    "    flat_symbolic_sequences     = np.apply_along_axis(np.argsort, 2, partitions).reshape(-1, dx)\n",
    "    flat_symbols, symbols_count = np.unique(flat_symbolic_sequences, return_counts=True, axis=0)\n",
    "\n",
    "    probabilities = symbols_count/symbols_count.sum()\n",
    "\n",
    "    if return_probs==True:\n",
    "        miss_symbols  = np.math.factorial(dx)-len(probabilities)\n",
    "        probabilities = np.concatenate((probabilities, np.zeros(miss_symbols)))\n",
    "        \n",
    "        return probabilities\n",
    "    \n",
    "    else:\n",
    "        if normalized==True and base in [2, '2']:        \n",
    "            smax = np.log2(np.math.factorial(dx))\n",
    "            s    = -np.sum(probabilities*np.log2(probabilities))\n",
    "            return s/smax\n",
    "\n",
    "        elif normalized==True and base=='e':        \n",
    "            smax = np.log(np.math.factorial(dx))\n",
    "            s    = -np.sum(probabilities*np.log(probabilities))\n",
    "            return s/smax\n",
    "\n",
    "        elif normalized==False and base in [2, '2']:\n",
    "            return -np.sum(probabilities*np.log2(probabilities))\n",
    "\n",
    "        else:\n",
    "            return -np.sum(probabilities*np.log(probabilities))"
   ]
  },
  {
   "cell_type": "code",
   "execution_count": 10,
   "metadata": {
    "ExecuteTime": {
     "end_time": "2021-04-05T18:48:44.029363Z",
     "start_time": "2021-04-05T18:48:44.013087Z"
    },
    "code_folding": [
     0
    ],
    "hidden": true,
    "init_cell": true
   },
   "outputs": [],
   "source": [
    "def mwpe(data, dx=3, taux=1, base=2, normalized=True, return_probs=False):\n",
    "    \"\"\"\n",
    "    Multivariate weighted permutation entropy.\n",
    "    \n",
    "    Parameters\n",
    "    ----------\n",
    "    data : array\n",
    "           Array object in the format :math:`[[x_{11}, x_{12}, x_{13}, \\\\ldots, x_{1m}],\n",
    "           \\\\ldots, [x_{n1}, x_{n2}, x_{n3}, \\\\ldots, x_{nm}]]` where n is the length \n",
    "           and m is the dimension of a multidimensional time series.\n",
    "    dx : int\n",
    "         Embedding dimension (horizontal axis) (default: 3)\n",
    "    taux : int\n",
    "           Embedding delay (horizontal axis) (default: 1).\n",
    "    base : str, int\n",
    "           Logarithm base in Shannon's entropy. Either 'e' or 2 (default: 'e').\n",
    "    normalized: boolean\n",
    "                If `True`, permutation entropy is normalized by its maximum value.\n",
    "                If `False`, it does not (default: `True`).\n",
    "\n",
    "    Returns\n",
    "    -------\n",
    "     : float\n",
    "       The value of permutation entropy.\n",
    "    \n",
    "    Examples\n",
    "    --------\n",
    "    \"\"\"\n",
    "    try:\n",
    "        ny, nx = np.shape(data)\n",
    "        data   = np.array(data).T\n",
    "    except:\n",
    "        return None\n",
    "    \n",
    "    partitions              = np.asarray([np.concatenate([[component[i:i+dx*taux:taux]] for i in range(ny-(dx-1)*taux)]) for component in data])\n",
    "    weights                 = partitions.var(axis=2).flatten()\n",
    "    flat_symbolic_sequences = np.apply_along_axis(np.argsort, 2, partitions).reshape(-1, dx)\n",
    "    symbols                 = np.unique(flat_symbolic_sequences, return_counts=False, axis=0)\n",
    "\n",
    "\n",
    "    total_variance = []\n",
    "    for symbol in symbols:\n",
    "        z    = flat_symbolic_sequences==symbol\n",
    "        z    = z.sum(axis=1)\n",
    "        args = np.argwhere(z==dx).flatten()\n",
    "        \n",
    "        total_variance.append(sum(weights[args]))\n",
    "\n",
    "    probabilities = total_variance/sum(total_variance)\n",
    "    \n",
    "    if return_probs==True:\n",
    "        miss_symbols  = np.math.factorial(dx)-len(probabilities)\n",
    "        probabilities = np.concatenate((probabilities, np.zeros(miss_symbols)))\n",
    "        \n",
    "        return probabilities\n",
    "    \n",
    "    else:\n",
    "        if normalized==True and base in [2, '2']:        \n",
    "            smax = np.log2(np.math.factorial(dx))\n",
    "            s    = -np.sum(probabilities*np.log2(probabilities))\n",
    "            return s/smax\n",
    "\n",
    "        elif normalized==True and base=='e':        \n",
    "            smax = np.log(np.math.factorial(dx))\n",
    "            s    = -np.sum(probabilities*np.log(probabilities))\n",
    "            return s/smax\n",
    "\n",
    "        elif normalized==False and base in [2, '2']:\n",
    "            return -np.sum(probabilities*np.log2(probabilities))\n",
    "\n",
    "        else:\n",
    "            return -np.sum(probabilities*np.log(probabilities))   "
   ]
  },
  {
   "cell_type": "code",
   "execution_count": 11,
   "metadata": {
    "ExecuteTime": {
     "end_time": "2021-04-05T18:48:44.056909Z",
     "start_time": "2021-04-05T18:48:44.042495Z"
    },
    "code_folding": [
     0
    ],
    "hidden": true,
    "init_cell": true
   },
   "outputs": [],
   "source": [
    "def weighted_permutation_entropy(data, dx=3, taux=1, base=2, normalized=True):\n",
    "    \"\"\"\n",
    "    Multivariate weighted permutation entropy.\n",
    "    \n",
    "    Parameters\n",
    "    ----------\n",
    "    data : array\n",
    "           Array object in the format :math:`[[x_{11}, x_{12}, x_{13}, \\\\ldots, x_{1m}],\n",
    "           \\\\ldots, [x_{n1}, x_{n2}, x_{n3}, \\\\ldots, x_{nm}]]` where n is the length \n",
    "           and m is the dimension of a multidimensional time series.\n",
    "    dx : int\n",
    "         Embedding dimension (horizontal axis) (default: 3)\n",
    "    taux : int\n",
    "           Embedding delay (horizontal axis) (default: 1).\n",
    "    base : str, int\n",
    "           Logarithm base in Shannon's entropy. Either 'e' or 2 (default: 'e').\n",
    "    normalized: boolean\n",
    "                If `True`, permutation entropy is normalized by its maximum value.\n",
    "                If `False`, it does not (default: `True`).\n",
    "\n",
    "    Returns\n",
    "    -------\n",
    "     : float\n",
    "       The value of permutation entropy.\n",
    "    \n",
    "    Examples\n",
    "    --------\n",
    "    \"\"\"\n",
    "    data   = np.asarray(data)\n",
    "    \n",
    "    partitions              = np.asarray([np.concatenate([[component[i:i+dx*taux:taux]] for i in range(ny-(dx-1)*taux)]) for component in data])\n",
    "    weights                 = partitions.var(axis=2).flatten()\n",
    "    flat_symbolic_sequences = np.apply_along_axis(np.argsort, 2, partitions).reshape(-1, dx)\n",
    "    symbols                 = np.unique(flat_symbolic_sequences, return_counts=False, axis=0)\n",
    "\n",
    "\n",
    "    total_variance = []\n",
    "    for symbol in symbols:\n",
    "        z    = flat_symbolic_sequences==symbol\n",
    "        z    = z.sum(axis=1)\n",
    "        args = np.argwhere(z==dx).flatten()\n",
    "        \n",
    "        total_variance.append(sum(weights[args]))\n",
    "\n",
    "    probabilities = total_variance/sum(total_variance)\n",
    "    \n",
    "    if return_probs==True:\n",
    "        miss_symbols  = np.math.factorial(dx)-len(probabilities)\n",
    "        probabilities = np.concatenate((probabilities, np.zeros(miss_symbols)))\n",
    "        \n",
    "        return probabilities\n",
    "    \n",
    "    else:\n",
    "        if normalized==True and base in [2, '2']:        \n",
    "            smax = np.log2(np.math.factorial(dx))\n",
    "            s    = -np.sum(probabilities*np.log2(probabilities))\n",
    "            return s/smax\n",
    "\n",
    "        elif normalized==True and base=='e':        \n",
    "            smax = np.log(np.math.factorial(dx))\n",
    "            s    = -np.sum(probabilities*np.log(probabilities))\n",
    "            return s/smax\n",
    "\n",
    "        elif normalized==False and base in [2, '2']:\n",
    "            return -np.sum(probabilities*np.log2(probabilities))\n",
    "\n",
    "        else:\n",
    "            return -np.sum(probabilities*np.log(probabilities))   "
   ]
  },
  {
   "cell_type": "markdown",
   "metadata": {},
   "source": [
    "# Disks"
   ]
  },
  {
   "cell_type": "markdown",
   "metadata": {},
   "source": [
    "<p style=\"font-size=200px;\"><b>Classification:</b></p>\n",
    "\n",
    "1) Tumbling\n",
    "\n",
    "2) Chaotic\n",
    "\n",
    "3) Steady or periodic behavior</p>"
   ]
  },
  {
   "cell_type": "code",
   "execution_count": 233,
   "metadata": {
    "ExecuteTime": {
     "end_time": "2021-04-05T22:08:19.876176Z",
     "start_time": "2021-04-05T22:08:19.832135Z"
    }
   },
   "outputs": [
    {
     "name": "stdout",
     "output_type": "stream",
     "text": [
      "True True True True True 0\n",
      "True True True True True 1\n",
      "True True True True True 2\n",
      "True True True True True 3\n",
      "True True True True True 4\n",
      "True True True True True 5\n",
      "True True True True True 6\n",
      "True True True True True 7\n",
      "True True True True True 8\n",
      "True True True True True 9\n",
      "True True True True True 10\n",
      "True True True True True 11\n",
      "True True True True True 12\n",
      "True True True True True 13\n",
      "True True True True True 14\n",
      "True True True True True 15\n",
      "True True True True True 16\n",
      "True True True True True 17\n",
      "True True True True True 18\n",
      "True True True True True 19\n",
      "True True True True True 20\n",
      "True True True True True 21\n",
      "True True True True True 22\n",
      "True True True True True 23\n",
      "True True True True True 24\n",
      "True True True True True 25\n",
      "True True True True True 26\n",
      "True True True True True 27\n",
      "True True True True True 28\n",
      "True True True True True 29\n",
      "True True True True True 30\n",
      "True True True True True 31\n",
      "True True True True True 32\n",
      "True True True True True 33\n",
      "True True True True True 34\n",
      "True True True True True 35\n",
      "True True True True True 36\n",
      "True True True True True 37\n",
      "True True True True True 38\n",
      "True True True True True 39\n",
      "True True True True True 40\n",
      "True True True True True 41\n",
      "True True True True True 42\n",
      "True True True True True 43\n",
      "True True True True True 44\n",
      "True True True True True 45\n",
      "True True True True True 46\n",
      "True True True True True 47\n",
      "True True True True True 48\n",
      "True True True True True 49\n",
      "True True True True True 50\n",
      "True True True True True 51\n",
      "True True True True True 52\n",
      "True True True True True 53\n",
      "True True True True True 54\n",
      "True True True True True 55\n",
      "True True True True True 56\n",
      "True True True True True 57\n",
      "True True True True True 58\n",
      "True True True True True 59\n",
      "True True True True True 60\n",
      "True True True True True 61\n",
      "True True True True True 62\n",
      "True True True True True 63\n",
      "True True True True True 64\n",
      "True True True True True 65\n",
      "True True True True True 66\n",
      "True True True True True 67\n",
      "True True True True True 68\n",
      "True True True True True 69\n",
      "True True True True True 70\n",
      "True True True True True 71\n",
      "True True True True True 72\n",
      "True True True True True 73\n"
     ]
    }
   ],
   "source": [
    "for a, b, c, d, e, f, g,  k in zip(scipy.io.loadmat('classification/data{}Classified.mat'.format(shape))['dx'].flatten()==np.asarray(dx), \n",
    "                            scipy.io.loadmat('classification/data{}Classified.mat'.format(shape))['dy'].flatten()==np.asarray(dy), \n",
    "                            scipy.io.loadmat('classification/data{}Classified.mat'.format(shape))['dz'].flatten()==np.asarray(dz), \n",
    "                            scipy.io.loadmat('classification/data{}Classified.mat'.format(shape))['pathLength'].flatten(), np.asarray(pathlength),\n",
    "                            scipy.io.loadmat('classification/data{}Classified.mat'.format(shape))['time'].flatten(), np.asarray(time),\n",
    "                            range(len(dx))):\n",
    "    \n",
    "    print(a, b, c, abs(d-e)<0.0001, abs(f-g)<0.0001, k)"
   ]
  },
  {
   "cell_type": "code",
   "execution_count": null,
   "metadata": {},
   "outputs": [],
   "source": [
    "for a, b, c, d, e, f, g,  k in zip(scipy.io.loadmat('classification/data{}Classified.mat'.format(shape))['dx'].flatten()==np.asarray(dx), \n",
    "                            scipy.io.loadmat('classification/data{}Classified.mat'.format(shape))['dy'].flatten()==np.asarray(dy), \n",
    "                            scipy.io.loadmat('classification/data{}Classified.mat'.format(shape))['dz'].flatten()==np.asarray(dz), \n",
    "                            scipy.io.loadmat('classification/data{}Classified.mat'.format(shape))['pathLength'].flatten(), np.asarray(pathlength),\n",
    "                            scipy.io.loadmat('classification/data{}Classified.mat'.format(shape))['time'].flatten(), np.asarray(time),\n",
    "                            range(len(dx))):\n",
    "    \n",
    "    print(a, b, c, abs(d-e)<0.0001, abs(f-g)<0.0001, k)"
   ]
  },
  {
   "cell_type": "code",
   "execution_count": 90,
   "metadata": {
    "ExecuteTime": {
     "end_time": "2021-04-05T19:55:26.305921Z",
     "start_time": "2021-04-05T19:55:26.295952Z"
    }
   },
   "outputs": [
    {
     "data": {
      "text/plain": [
       "(1.1737462634403897, 1.1600630878073874)"
      ]
     },
     "execution_count": 90,
     "metadata": {},
     "output_type": "execute_result"
    }
   ],
   "source": [
    "scipy.io.loadmat('classification/data{}Classified.mat'.format(shape))['pathLength'].flatten()[124], np.asarray(pathlength)[124]"
   ]
  },
  {
   "cell_type": "code",
   "execution_count": null,
   "metadata": {},
   "outputs": [],
   "source": [
    "disk_trajectories[99][21:-6] clean_disk_trajectories[124]"
   ]
  },
  {
   "cell_type": "code",
   "execution_count": 132,
   "metadata": {
    "ExecuteTime": {
     "end_time": "2021-04-05T20:18:47.130847Z",
     "start_time": "2021-04-05T20:18:47.124328Z"
    }
   },
   "outputs": [],
   "source": [
    "d     = 0\n",
    "traj_ = disk_trajectories[99][21:-6] clean_disk_trajectories[124]\n",
    "for j in range(1, len(traj_)):\n",
    "        if LA.norm(traj_[j]-traj_[j-1])>0.1:\n",
    "            stop==1\n",
    "            break\n",
    "        d = d + LA.norm(traj_[j]-traj_[j-1])"
   ]
  },
  {
   "cell_type": "code",
   "execution_count": 133,
   "metadata": {
    "ExecuteTime": {
     "end_time": "2021-04-05T20:18:50.859365Z",
     "start_time": "2021-04-05T20:18:50.855657Z"
    }
   },
   "outputs": [
    {
     "data": {
      "text/plain": [
       "1.1737462634403897"
      ]
     },
     "execution_count": 133,
     "metadata": {},
     "output_type": "execute_result"
    }
   ],
   "source": [
    "d"
   ]
  },
  {
   "cell_type": "code",
   "execution_count": 134,
   "metadata": {
    "ExecuteTime": {
     "end_time": "2021-04-05T20:19:11.333647Z",
     "start_time": "2021-04-05T20:19:11.324720Z"
    }
   },
   "outputs": [
    {
     "data": {
      "text/plain": [
       "(69, 74)"
      ]
     },
     "execution_count": 134,
     "metadata": {},
     "output_type": "execute_result"
    }
   ],
   "source": [
    "len(clean_disk_trajectories[124]), len(disk_trajectories[99][21:-6])"
   ]
  },
  {
   "cell_type": "code",
   "execution_count": 266,
   "metadata": {
    "ExecuteTime": {
     "end_time": "2021-04-05T22:11:48.629818Z",
     "start_time": "2021-04-05T22:11:48.349282Z"
    },
    "scrolled": false
   },
   "outputs": [
    {
     "data": {
      "image/png": "[encoded data removed]",
      "text/plain": [
       "<Figure size 655.2x504 with 1 Axes>"
      ]
     },
     "metadata": {},
     "output_type": "display_data"
    }
   ],
   "source": [
    "f, ax = plt.subplots()\n",
    "\n",
    "for (osc, vz), class_ in zip(X, disk_feat_class):\n",
    "    if class_==1:\n",
    "        ax.plot(osc, vz, 'o', markeredgecolor='black', color='grey')\n",
    "    elif class_==2:\n",
    "        ax.plot(osc, vz, '*', markeredgecolor='black', color='blue')\n",
    "    else:\n",
    "        pass\n",
    "#         ax.plot(osc, vz, 's', markeredgecolor='black', color='red')\n",
    "    \n",
    "f.tight_layout()"
   ]
  },
  {
   "cell_type": "markdown",
   "metadata": {
    "ExecuteTime": {
     "end_time": "2021-03-27T21:16:49.259834Z",
     "start_time": "2021-03-27T21:16:49.257065Z"
    }
   },
   "source": [
    "# disk_human_class"
   ]
  },
  {
   "cell_type": "code",
   "execution_count": 258,
   "metadata": {
    "ExecuteTime": {
     "end_time": "2021-04-05T22:11:14.217956Z",
     "start_time": "2021-04-05T22:11:14.215417Z"
    }
   },
   "outputs": [],
   "source": [
    "shape = 'Cross' #one between 'Circle', 'Square', 'Hexagon', 'Cross"
   ]
  },
  {
   "cell_type": "code",
   "execution_count": 259,
   "metadata": {
    "ExecuteTime": {
     "end_time": "2021-04-05T22:11:15.877385Z",
     "start_time": "2021-04-05T22:11:15.854482Z"
    },
    "code_folding": [
     0
    ]
   },
   "outputs": [],
   "source": [
    "#Classifications\n",
    "disk_human_class = scipy.io.loadmat('classification/humanClassification{}.mat'.format(shape))['behaviourHuman'][0]\n",
    "disk_feat_class  = scipy.io.loadmat('classification/data{}Classified.mat'.format(shape))['behaviourAuto'].flatten()\n",
    "\n",
    "##########################################################################################\n",
    "#Data processing\n",
    "\n",
    "#Improving data structure. Extracting data from dataCircle.mat and loading it into data arrays\n",
    "disk_data = scipy.io.loadmat('classification/data{}.mat'.format(shape))\n",
    "\n",
    "#initial condition of the experiments: 0 (dropping with arm holding the paper horizontally) or 1 (dropping vertically)\n",
    "disk_initcons = []\n",
    "for i in range(len(disk_data['data'][0])):\n",
    "    disk_initcons.append(disk_data['data'][0][i]['initialCondition'][0][0][0][0])\n",
    "disk_initcons = np.asarray(disk_initcons)\n",
    "\n",
    "# radii of the disks dropped\n",
    "disk_radii = []\n",
    "for i in range(len(disk_data['data'][0])):\n",
    "    disk_radii.append(disk_data['data'][0][i]['radius'][0][0][0][0])\n",
    "disk_radii = np.asarray(disk_radii)\n",
    "\n",
    "# camera 1 observable area?\n",
    "disk_cam1 = []\n",
    "for i in range(len(disk_data['data'][0])):\n",
    "    disk_cam1.append(disk_data['data'][0][i]['areaCam1'][0][0].flatten())\n",
    "disk_cam1 = np.asarray(disk_cam1)\n",
    "\n",
    "# camera 2 observable area?\n",
    "disk_cam2 = []\n",
    "for i in range(len(disk_data['data'][0])):\n",
    "    disk_cam2.append(disk_data['data'][0][i]['areaCam2'][0][0].flatten())\n",
    "disk_cam2 = np.asarray(disk_cam2)\n",
    "\n",
    "# coordinates (x, y, z) along trajectory from 1m high to the floor.\n",
    "disk_trajectories = []\n",
    "for i in range(len(disk_data['data'][0])):\n",
    "    disk_trajectories.append(disk_data['data'][0][i]['trajectory'][0][0])\n",
    "disk_trajectories = np.asarray(disk_trajectories)"
   ]
  },
  {
   "cell_type": "code",
   "execution_count": 261,
   "metadata": {
    "ExecuteTime": {
     "end_time": "2021-04-05T22:11:23.220902Z",
     "start_time": "2021-04-05T22:11:23.215258Z"
    }
   },
   "outputs": [
    {
     "data": {
      "text/plain": [
       "(74, 74)"
      ]
     },
     "execution_count": 261,
     "metadata": {},
     "output_type": "execute_result"
    }
   ],
   "source": [
    "scipy.io.loadmat('classification/data{}Classified.mat'.format(shape))['dx'].flatten().__len__(), np.asarray(dx).__len__()"
   ]
  },
  {
   "cell_type": "code",
   "execution_count": 262,
   "metadata": {
    "ExecuteTime": {
     "end_time": "2021-04-05T22:11:24.097422Z",
     "start_time": "2021-04-05T22:11:24.065542Z"
    }
   },
   "outputs": [
    {
     "name": "stdout",
     "output_type": "stream",
     "text": [
      "True True True True True 0\n",
      "True True True True True 1\n",
      "True True True True True 2\n",
      "True True True True True 3\n",
      "True True True True True 4\n",
      "True True True True True 5\n",
      "True True True True True 6\n",
      "True True True True True 7\n",
      "True True True True True 8\n",
      "True True True True True 9\n",
      "True True True True True 10\n",
      "True True True True True 11\n",
      "True True True True True 12\n",
      "True True True True True 13\n",
      "True True True True True 14\n",
      "True True True True True 15\n",
      "True True True True True 16\n",
      "True True True True True 17\n",
      "True True True True True 18\n",
      "True True True True True 19\n",
      "True True True True True 20\n",
      "True True True True True 21\n",
      "True True True True True 22\n",
      "True True True True True 23\n",
      "True True True True True 24\n",
      "True True True True True 25\n",
      "True True True True True 26\n",
      "True True True True True 27\n",
      "True True True True True 28\n",
      "True True True True True 29\n",
      "True True True True True 30\n",
      "True True True True True 31\n",
      "True True True True True 32\n",
      "True True True True True 33\n",
      "True True True True True 34\n",
      "True True True True True 35\n",
      "True True True True True 36\n",
      "True True True True True 37\n",
      "True True True True True 38\n",
      "True True True True True 39\n",
      "True True True True True 40\n",
      "True True True True True 41\n",
      "True True True True True 42\n",
      "True True True True True 43\n",
      "True True True True True 44\n",
      "True True True True True 45\n",
      "True True True True True 46\n",
      "True True True True True 47\n",
      "True True True True True 48\n",
      "True True True True True 49\n",
      "True True True True True 50\n",
      "True True True True True 51\n",
      "True True True True True 52\n",
      "True True True True True 53\n",
      "True True True True True 54\n",
      "True True True True True 55\n",
      "True True True True True 56\n",
      "True True True True True 57\n",
      "True True True True True 58\n",
      "True True True True True 59\n",
      "True True True True True 60\n",
      "True True True True True 61\n",
      "True True True True True 62\n",
      "True True True True True 63\n",
      "True True True True True 64\n",
      "True True True True True 65\n",
      "True True True True True 66\n",
      "True True True True True 67\n",
      "True True True True True 68\n",
      "True True True True True 69\n",
      "True True True True True 70\n",
      "True True True True True 71\n",
      "True True True True True 72\n",
      "True True True True True 73\n"
     ]
    }
   ],
   "source": [
    "for a, b, c, d, e, f, g,  k in zip(scipy.io.loadmat('classification/data{}Classified.mat'.format(shape))['dx'].flatten()==np.asarray(dx), \n",
    "                            scipy.io.loadmat('classification/data{}Classified.mat'.format(shape))['dy'].flatten()==np.asarray(dy), \n",
    "                            scipy.io.loadmat('classification/data{}Classified.mat'.format(shape))['dz'].flatten()==np.asarray(dz), \n",
    "                            scipy.io.loadmat('classification/data{}Classified.mat'.format(shape))['pathLength'].flatten(), np.asarray(pathlength),\n",
    "                            scipy.io.loadmat('classification/data{}Classified.mat'.format(shape))['time'].flatten(), np.asarray(time),\n",
    "                            range(len(dx))):\n",
    "    \n",
    "    print(a, b, c, abs(d-e)<0.0001, abs(f-g)<0.0001, k)"
   ]
  },
  {
   "cell_type": "code",
   "execution_count": 260,
   "metadata": {
    "ExecuteTime": {
     "end_time": "2021-04-05T22:11:18.065132Z",
     "start_time": "2021-04-05T22:11:17.875615Z"
    },
    "code_folding": [
     0
    ]
   },
   "outputs": [
    {
     "name": "stdout",
     "output_type": "stream",
     "text": [
      "sem limpar:  0 limpo:  0\n",
      "sem limpar:  1 limpo:  1\n",
      "sem limpar:  2 limpo:  2\n",
      "sem limpar:  3 limpo:  4\n",
      "sem limpar:  4 limpo:  5\n",
      "sem limpar:  5 limpo:  6\n",
      "sem limpar:  6 limpo:  7\n",
      "sem limpar:  7 limpo:  8\n",
      "sem limpar:  8 limpo:  10\n",
      "sem limpar:  9 limpo:  11\n",
      "sem limpar:  10 limpo:  12\n",
      "sem limpar:  11 limpo:  13\n",
      "sem limpar:  12 limpo:  15\n",
      "sem limpar:  13 limpo:  16\n",
      "sem limpar:  14 limpo:  17\n",
      "sem limpar:  15 limpo:  19\n",
      "sem limpar:  16 limpo:  20\n",
      "sem limpar:  17 limpo:  21\n",
      "sem limpar:  18 limpo:  23\n",
      "sem limpar:  19 limpo:  24\n",
      "sem limpar:  20 limpo:  26\n",
      "sem limpar:  21 limpo:  28\n",
      "sem limpar:  22 limpo:  30\n",
      "sem limpar:  23 limpo:  32\n",
      "sem limpar:  24 limpo:  33\n",
      "sem limpar:  25 limpo:  34\n",
      "sem limpar:  26 limpo:  35\n",
      "sem limpar:  27 limpo:  36\n",
      "sem limpar:  28 limpo:  37\n",
      "sem limpar:  29 limpo:  38\n",
      "sem limpar:  30 limpo:  39\n",
      "sem limpar:  31 limpo:  40\n",
      "sem limpar:  32 limpo:  41\n",
      "sem limpar:  33 limpo:  42\n",
      "sem limpar:  34 limpo:  43\n",
      "sem limpar:  35 limpo:  44\n",
      "sem limpar:  36 limpo:  45\n",
      "sem limpar:  37 limpo:  47\n",
      "sem limpar:  38 limpo:  49\n",
      "sem limpar:  39 limpo:  50\n",
      "sem limpar:  40 limpo:  52\n",
      "sem limpar:  41 limpo:  54\n",
      "sem limpar:  42 limpo:  55\n",
      "sem limpar:  43 limpo:  56\n",
      "sem limpar:  44 limpo:  57\n",
      "sem limpar:  45 limpo:  58\n",
      "sem limpar:  46 limpo:  60\n",
      "sem limpar:  47 limpo:  61\n",
      "sem limpar:  48 limpo:  62\n",
      "sem limpar:  49 limpo:  63\n",
      "sem limpar:  50 limpo:  64\n",
      "sem limpar:  51 limpo:  65\n",
      "sem limpar:  52 limpo:  66\n",
      "sem limpar:  53 limpo:  67\n",
      "sem limpar:  54 limpo:  68\n",
      "sem limpar:  55 limpo:  69\n",
      "sem limpar:  56 limpo:  70\n",
      "sem limpar:  57 limpo:  71\n",
      "sem limpar:  58 limpo:  73\n"
     ]
    }
   ],
   "source": [
    "#\n",
    "clean_disk_trajectories = []\n",
    "clean_disk_initcons     = []\n",
    "clean_disk_class        = []\n",
    "clean_disk_radii        = []\n",
    "clean_disk_cam2         = []\n",
    "clean_disk_cam1         = []\n",
    "\n",
    "for i in range(len(disk_trajectories)):\n",
    "    #vertical trajectory\n",
    "    z         = disk_trajectories[i][::,2][::-1]\n",
    "    \n",
    "    #finding the index to remove the last 5cm of fall\n",
    "    cut_index = 0\n",
    "    for z_ in z:\n",
    "        if z_<0.05:\n",
    "            cut_index -= 1\n",
    "        else: break\n",
    "    \n",
    "    if not cut_index==0:\n",
    "        # removing the last 5 centimeters of the fall.\n",
    "        trajectory = disk_trajectories[i][:cut_index].copy() \n",
    "\n",
    "        #removing  the last 5cm of fall from observable area series\n",
    "        area_cam2 = disk_cam2[i][:cut_index].copy()\n",
    "        area_cam1 = disk_cam1[i][:cut_index].copy()\n",
    "        \n",
    "    else:\n",
    "        trajectory = disk_trajectories[i].copy() \n",
    "        area_cam2  = disk_cam2[i].copy()\n",
    "        area_cam1  = disk_cam1[i].copy()\n",
    "\n",
    "#(original comment) Segment steady and periodic behaviours from trajectories. \n",
    "    if disk_initcons[i]==0: #(original comment) We only see steady and periodic from horizontal initial condition.\n",
    "        tc=0\n",
    "        while np.sqrt(trajectory[::,0][tc]**2 + trajectory[::,1][tc]**2)<.2*disk_radii[i] and tc<len(trajectory[::,1]):\n",
    "            tc=tc+1\n",
    "\n",
    "        if tc>1: #(original comment) Segment trajectory into steady(periodic)/unknown if more than 2 time-steps are steady(periodic)\n",
    "#             pass\n",
    "#             print(steady_index)\n",
    "            clean_disk_trajectories.append(trajectory[:tc+1])\n",
    "            clean_disk_initcons.append(0)\n",
    "            clean_disk_radii.append(disk_radii[i])\n",
    "            clean_disk_class.append(3)\n",
    "            clean_disk_cam1.append(area_cam1[:tc+1]) #slicing in Python is exclusive: [start: end), therefore, we sum 1 to tc.\n",
    "            clean_disk_cam2.append(area_cam2[:tc+1]) #slicing in Python is exclusive: [start: end), therefore, we sum 1 to tc.\n",
    "#             print('dividiu: ', i)\n",
    "#             print('counter steady:', counter)\n",
    "\n",
    "            if len(trajectory)-tc>9: #second part of the sliced original trajectory.\n",
    "                clean_disk_trajectories.append(trajectory[tc:])\n",
    "                clean_disk_initcons.append(0)\n",
    "                clean_disk_radii.append(disk_radii[i])\n",
    "                clean_disk_class.append(np.nan)\n",
    "                clean_disk_cam1.append(area_cam1[tc:])\n",
    "                clean_disk_cam2.append(area_cam2[tc:])\n",
    "        \n",
    "        else: #no segmentation; only one behavior throughout the whole fall\n",
    "            clean_disk_trajectories.append(trajectory)\n",
    "            clean_disk_initcons.append(0)\n",
    "            clean_disk_radii.append(disk_radii[i])\n",
    "            clean_disk_class.append(np.nan)\n",
    "            clean_disk_cam1.append(area_cam1)\n",
    "            clean_disk_cam2.append(area_cam2)\n",
    "                \n",
    "    else: #(original comment) Vertical initial condition, no steady and peridoic behaviour\n",
    "        tc = 0\n",
    "        while (np.sqrt(trajectory[::,0][tc]**2 + trajectory[::,1][tc]**2)<0.01 and tc<len(trajectory[::,1])):\n",
    "            tc = tc+1\n",
    "        \n",
    "        if len(trajectory)-tc>9:\n",
    "            clean_disk_trajectories.append(trajectory[tc:])\n",
    "            clean_disk_initcons.append(1)\n",
    "            clean_disk_radii.append(disk_radii[i])\n",
    "            clean_disk_class.append(np.nan)\n",
    "            clean_disk_cam1.append(area_cam1[tc:])\n",
    "            clean_disk_cam2.append(area_cam2[tc:])\n",
    "    \n",
    "#     counter += 1\n",
    "    print('sem limpar: ', i, 'limpo: ', len(clean_disk_trajectories)-1)\n",
    "#     print('counter full:', counter, '\\n')  \n",
    "\n",
    "##################################################################\n",
    "dx         = []\n",
    "dy         = []\n",
    "dz         = []\n",
    "pathlength = []\n",
    "time       = []\n",
    "radius     = []\n",
    "X          = []\n",
    "width      = []\n",
    "\n",
    "for i in range(len(clean_disk_trajectories)):\n",
    "    stop = 0\n",
    "    d    = 0 \n",
    "    \n",
    "    for j in range(1, len(clean_disk_trajectories[i])):\n",
    "        if LA.norm(clean_disk_trajectories[i][j]-clean_disk_trajectories[i][j-1])>0.1:\n",
    "            stop==1\n",
    "            break\n",
    "        d = d + LA.norm(clean_disk_trajectories[i][j]-clean_disk_trajectories[i][j-1])\n",
    "    \n",
    "    if stop==0:\n",
    "        pathlength.append(d)\n",
    "        z = clean_disk_trajectories[i][::,2]\n",
    "        dz.append(np.absolute(clean_disk_trajectories[i][::,2][-1]-clean_disk_trajectories[i][::,2][0]))\n",
    "        dy.append(clean_disk_trajectories[i][::,1][-1]-clean_disk_trajectories[i][::,1][0])\n",
    "        dx.append(clean_disk_trajectories[i][::,0][-1]-clean_disk_trajectories[i][::,0][0])\n",
    "        time.append(len(clean_disk_trajectories[i])*1/98)\n",
    "        \n",
    "        locs1 = find_peaks(clean_disk_cam1[i])[0]\n",
    "        locs2 = find_peaks(clean_disk_cam2[i])[0]\n",
    "        \n",
    "        Osc    = (len(locs1)+len(locs2))/(2*time[-1])\n",
    "        SpeedZ = np.std(np.diff(z))\n",
    "        \n",
    "        X.append([Osc, SpeedZ])\n",
    "\n",
    "# np.save('pickles/clean_disk_trajectories.npy', clean_disk_trajectories)\n",
    "# np.save('pickles/clean_disk_initcons.npy', clean_disk_initcons)    \n",
    "# np.save('pickles/clean_disk_class.npy', clean_disk_class)       \n",
    "# np.save('pickles/clean_disk_radii.npy', clean_disk_radii)       \n",
    "# np.save('pickles/clean_disk_class.npy', clean_disk_class)       "
   ]
  },
  {
   "cell_type": "code",
   "execution_count": 198,
   "metadata": {
    "ExecuteTime": {
     "end_time": "2021-03-21T23:11:21.479629Z",
     "start_time": "2021-03-21T23:11:21.476511Z"
    },
    "code_folding": [
     0
    ]
   },
   "outputs": [],
   "source": [
    "#missing patterns analysis\n",
    "\n",
    "# dims     = 1\n",
    "# dx_      = 3\n",
    "# missing_ = []\n",
    "# dist_    = []\n",
    "\n",
    "# for i, st, ts1, ts2, class_ in zip(range(len(clean_disk_trajectories)), clean_disk_trajectories, \n",
    "#                                    clean_disk_cam1, clean_disk_cam2, clean_disk_class):\n",
    "\n",
    "#     if class_==3:\n",
    "#         missing_.append([np.nan])\n",
    "        \n",
    "#     else:\n",
    "# #         p  = multi_permutation_entropy(ts, dx=dx_, return_probs=True)\n",
    "#         ts   = np.stack((normalize(ts1), normalize(ts2)), axis=1)\n",
    "#         temp = [] \n",
    "#         size = [np.quantile(range(len(ts)), j).astype('int') for j in np.arange(0.2,1.05,.05)]\n",
    "#         for i, k in zip(size, range(len(size))):\n",
    "#             s, p = full_ordinal_distribution(ts[0:i], dx=dx_, multi=True)\n",
    "#             data = ordpy.missing_patterns((s, p), dx=dx_, return_fraction=False)[1]\n",
    "#             temp.append(data)\n",
    "            \n",
    "#             if k==0 and data>4:\n",
    "#                 dist_.append([1])\n",
    "#             elif k==0:\n",
    "#                 dist_.append([0])\n",
    "#             else:\n",
    "#                 pass\n",
    "                        \n",
    "#         missing_.append(temp)"
   ]
  },
  {
   "cell_type": "code",
   "execution_count": 199,
   "metadata": {
    "ExecuteTime": {
     "end_time": "2021-03-21T23:11:40.053186Z",
     "start_time": "2021-03-21T23:11:40.049182Z"
    },
    "code_folding": [
     0
    ]
   },
   "outputs": [],
   "source": [
    "# f, ax = plt.subplots()\n",
    "\n",
    "# for i, series, class_, algo_ in zip(range(len(missing_)), missing_, clean_disk_class, disk_feat_class):\n",
    "#     if class_==3:\n",
    "#         pass\n",
    "#     else:\n",
    "#         if algo_==1: #tumbling\n",
    "#             ax.plot(np.arange(0.2,1.05,.05), series, '*', markersize=8, color='red', alpha=.5)\n",
    "#         elif algo_==2: #chaos\n",
    "#             ax.plot(np.arange(0.2,1.05,.05), series, 'o', markersize=8, color='blue', zorder=0, alpha=.5)\n",
    "        \n",
    "    \n",
    "# # ax.set_xticks(np.arange(0.2,1.05,.05))\n",
    "\n",
    "# f.tight_layout()"
   ]
  },
  {
   "cell_type": "markdown",
   "metadata": {},
   "source": [
    "## H x C e Fisher x Shannon"
   ]
  },
  {
   "cell_type": "code",
   "execution_count": 267,
   "metadata": {
    "ExecuteTime": {
     "end_time": "2021-04-05T22:14:47.640351Z",
     "start_time": "2021-04-05T22:14:46.978741Z"
    }
   },
   "outputs": [
    {
     "data": {
      "image/png": "[encoded data removed]",
      "text/plain": [
       "<Figure size 655.2x504 with 1 Axes>"
      ]
     },
     "metadata": {},
     "output_type": "display_data"
    }
   ],
   "source": [
    "# for ts in clean_disk_trajectories:\n",
    "#     disk_ce.append(mwpe(ts, dx=4))\n",
    "\n",
    "dims    = 2\n",
    "dx_     = 4\n",
    "\n",
    "disk_ce = []\n",
    "for i, st, ts1, ts2, class_ in zip(range(len(clean_disk_trajectories)), clean_disk_trajectories, \n",
    "                                   clean_disk_cam1, clean_disk_cam2, clean_disk_class):\n",
    "    if class_==3:\n",
    "        disk_ce.append((np.nan, np.nan))\n",
    "    else:\n",
    "#         p  = multi_permutation_entropy(ts, dx=dx_, return_probs=True)\n",
    "        ts = np.stack((normalize(ts1), normalize(ts2)), axis=1)\n",
    "        disk_ce.append(fisher_shannon(ts, dx=dx_, multi=True))\n",
    "        \n",
    "#         disk_ce.append(fisher_shannon(normalize(ts1), dx=dx_, multi=False))\n",
    "\n",
    "\n",
    "f, ax = plt.subplots()\n",
    "\n",
    "# for (h_, c_), class_ in zip(disk_ce, disk_feat_class): \n",
    "for (h_, c_), class_ in zip(disk_ce, disk_human_class):\n",
    "    if class_ == 1: #tumbling\n",
    "        ax.plot(h_, c_, '.', marker='o', markersize=8, markeredgecolor='black', color='grey', zorder=0)\n",
    "    elif class_ == 2: #chaotic\n",
    "        ax.plot(h_,c_,  '.', marker='*', markersize=8, color='blue')\n",
    "    if class_ == 3:\n",
    "        pass\n",
    "\n",
    "ax.set_ylabel('Fisher information, $F$')\n",
    "ax.set_xlabel('Entropy, $H$')\n",
    "\n",
    "f.tight_layout()\n",
    "# f.savefig('figures/auto-Fisher/Fisher-{}-dx:{}-dims:{}'.format(shape, dx_, dims), bbox_inches='tight')"
   ]
  },
  {
   "cell_type": "markdown",
   "metadata": {},
   "source": [
    "## PCA"
   ]
  },
  {
   "cell_type": "code",
   "execution_count": 228,
   "metadata": {
    "ExecuteTime": {
     "end_time": "2021-03-21T23:44:41.908735Z",
     "start_time": "2021-03-21T23:44:41.880999Z"
    }
   },
   "outputs": [
    {
     "ename": "ValueError",
     "evalue": "operands could not be broadcast together with shapes (129,) (138,) ",
     "output_type": "error",
     "traceback": [
      "\u001b[0;31m---------------------------------------------------------------------------\u001b[0m",
      "\u001b[0;31mValueError\u001b[0m                                Traceback (most recent call last)",
      "\u001b[0;32m<ipython-input-228-52fa3621b471>\u001b[0m in \u001b[0;36m<module>\u001b[0;34m\u001b[0m\n\u001b[0;32m----> 1\u001b[0;31m \u001b[0mnp\u001b[0m\u001b[0;34m.\u001b[0m\u001b[0mmin\u001b[0m\u001b[0;34m(\u001b[0m\u001b[0mclean_disk_cam1\u001b[0m\u001b[0;34m)\u001b[0m\u001b[0;34m\u001b[0m\u001b[0;34m\u001b[0m\u001b[0m\n\u001b[0m",
      "\u001b[0;32m<__array_function__ internals>\u001b[0m in \u001b[0;36mamin\u001b[0;34m(*args, **kwargs)\u001b[0m\n",
      "\u001b[0;32m~/anaconda3/lib/python3.7/site-packages/numpy/core/fromnumeric.py\u001b[0m in \u001b[0;36mamin\u001b[0;34m(a, axis, out, keepdims, initial, where)\u001b[0m\n\u001b[1;32m   2744\u001b[0m     \"\"\"\n\u001b[1;32m   2745\u001b[0m     return _wrapreduction(a, np.minimum, 'min', axis, None, out,\n\u001b[0;32m-> 2746\u001b[0;31m                           keepdims=keepdims, initial=initial, where=where)\n\u001b[0m\u001b[1;32m   2747\u001b[0m \u001b[0;34m\u001b[0m\u001b[0m\n\u001b[1;32m   2748\u001b[0m \u001b[0;34m\u001b[0m\u001b[0m\n",
      "\u001b[0;32m~/anaconda3/lib/python3.7/site-packages/numpy/core/fromnumeric.py\u001b[0m in \u001b[0;36m_wrapreduction\u001b[0;34m(obj, ufunc, method, axis, dtype, out, **kwargs)\u001b[0m\n\u001b[1;32m     88\u001b[0m                 \u001b[0;32mreturn\u001b[0m \u001b[0mreduction\u001b[0m\u001b[0;34m(\u001b[0m\u001b[0maxis\u001b[0m\u001b[0;34m=\u001b[0m\u001b[0maxis\u001b[0m\u001b[0;34m,\u001b[0m \u001b[0mout\u001b[0m\u001b[0;34m=\u001b[0m\u001b[0mout\u001b[0m\u001b[0;34m,\u001b[0m \u001b[0;34m**\u001b[0m\u001b[0mpasskwargs\u001b[0m\u001b[0;34m)\u001b[0m\u001b[0;34m\u001b[0m\u001b[0;34m\u001b[0m\u001b[0m\n\u001b[1;32m     89\u001b[0m \u001b[0;34m\u001b[0m\u001b[0m\n\u001b[0;32m---> 90\u001b[0;31m     \u001b[0;32mreturn\u001b[0m \u001b[0mufunc\u001b[0m\u001b[0;34m.\u001b[0m\u001b[0mreduce\u001b[0m\u001b[0;34m(\u001b[0m\u001b[0mobj\u001b[0m\u001b[0;34m,\u001b[0m \u001b[0maxis\u001b[0m\u001b[0;34m,\u001b[0m \u001b[0mdtype\u001b[0m\u001b[0;34m,\u001b[0m \u001b[0mout\u001b[0m\u001b[0;34m,\u001b[0m \u001b[0;34m**\u001b[0m\u001b[0mpasskwargs\u001b[0m\u001b[0;34m)\u001b[0m\u001b[0;34m\u001b[0m\u001b[0;34m\u001b[0m\u001b[0m\n\u001b[0m\u001b[1;32m     91\u001b[0m \u001b[0;34m\u001b[0m\u001b[0m\n\u001b[1;32m     92\u001b[0m \u001b[0;34m\u001b[0m\u001b[0m\n",
      "\u001b[0;31mValueError\u001b[0m: operands could not be broadcast together with shapes (129,) (138,) "
     ]
    }
   ],
   "source": [
    "np.min(clean_disk_cam1)"
   ]
  },
  {
   "cell_type": "code",
   "execution_count": 240,
   "metadata": {
    "ExecuteTime": {
     "end_time": "2021-03-21T23:49:02.587420Z",
     "start_time": "2021-03-21T23:49:02.569230Z"
    }
   },
   "outputs": [
    {
     "name": "stdout",
     "output_type": "stream",
     "text": [
      "129\n",
      "138\n",
      "101\n",
      "139\n",
      "118\n",
      "139\n",
      "137\n",
      "89\n",
      "118\n",
      "121\n",
      "140\n",
      "73\n",
      "126\n",
      "124\n",
      "122\n",
      "123\n",
      "150\n",
      "89\n",
      "120\n",
      "30\n",
      "4\n",
      "126\n",
      "143\n",
      "11\n",
      "115\n",
      "10\n",
      "112\n",
      "3\n",
      "136\n",
      "11\n",
      "122\n",
      "117\n",
      "137\n",
      "140\n",
      "140\n",
      "4\n",
      "118\n",
      "136\n",
      "85\n",
      "141\n",
      "125\n",
      "8\n",
      "114\n",
      "143\n",
      "139\n",
      "137\n",
      "132\n",
      "148\n",
      "144\n",
      "131\n",
      "135\n",
      "136\n",
      "114\n",
      "11\n",
      "114\n",
      "91\n",
      "141\n",
      "19\n",
      "99\n",
      "108\n",
      "143\n",
      "13\n",
      "100\n",
      "76\n",
      "117\n",
      "92\n",
      "132\n",
      "25\n",
      "103\n",
      "18\n",
      "75\n",
      "138\n",
      "5\n",
      "122\n",
      "27\n",
      "110\n",
      "4\n",
      "99\n",
      "92\n",
      "93\n",
      "149\n",
      "151\n",
      "131\n",
      "129\n",
      "138\n",
      "8\n",
      "113\n",
      "143\n",
      "151\n",
      "117\n",
      "115\n",
      "134\n",
      "133\n",
      "123\n",
      "128\n",
      "129\n",
      "138\n",
      "11\n",
      "109\n",
      "141\n",
      "3\n",
      "108\n",
      "93\n",
      "139\n",
      "10\n",
      "119\n",
      "16\n",
      "109\n",
      "146\n",
      "8\n",
      "118\n",
      "15\n",
      "105\n",
      "106\n",
      "36\n",
      "90\n",
      "3\n",
      "113\n",
      "121\n",
      "139\n",
      "114\n",
      "145\n",
      "3\n",
      "123\n",
      "69\n",
      "105\n",
      "125\n",
      "147\n",
      "92\n",
      "84\n",
      "9\n",
      "106\n",
      "118\n",
      "99\n",
      "143\n",
      "101\n",
      "123\n",
      "136\n",
      "4\n",
      "134\n",
      "6\n",
      "121\n",
      "137\n",
      "4\n",
      "121\n",
      "117\n",
      "137\n",
      "144\n",
      "3\n",
      "95\n",
      "128\n",
      "147\n",
      "141\n",
      "108\n",
      "3\n",
      "126\n",
      "100\n",
      "90\n",
      "28\n",
      "88\n",
      "4\n",
      "122\n",
      "10\n",
      "102\n",
      "138\n",
      "4\n",
      "117\n",
      "84\n",
      "19\n",
      "66\n",
      "9\n",
      "107\n",
      "6\n",
      "97\n",
      "3\n",
      "114\n",
      "10\n",
      "98\n",
      "123\n",
      "96\n",
      "4\n",
      "126\n",
      "125\n",
      "17\n",
      "109\n",
      "137\n",
      "117\n",
      "131\n",
      "19\n",
      "96\n",
      "117\n",
      "134\n",
      "147\n",
      "117\n",
      "109\n",
      "136\n",
      "121\n",
      "141\n",
      "153\n",
      "3\n",
      "132\n",
      "3\n",
      "85\n",
      "148\n",
      "147\n",
      "11\n",
      "102\n",
      "10\n",
      "123\n",
      "137\n",
      "157\n",
      "110\n",
      "149\n",
      "101\n",
      "21\n",
      "113\n",
      "138\n",
      "85\n"
     ]
    }
   ],
   "source": [
    "for i in clean_disk_cam1:\n",
    "    print(len(i))"
   ]
  },
  {
   "cell_type": "code",
   "execution_count": null,
   "metadata": {},
   "outputs": [],
   "source": [
    "X = weights_as_features # shape: (1710, 416) - 1710 amostras diferentes e 416 pesos de arestas de redes ordinais\n",
    "Y = correct_classes\n",
    "\n",
    "X_train, X_test, y_train, y_test = train_test_split(X, Y, test_size=.25, stratify=Y, random_state=42)\n",
    "\n",
    "#Number of principal components\n",
    "npca   = 3\n",
    "fitted_pca = PCA(n_components=npca).fit(X_train)\n",
    "#         print('Explained variance: ', fitted_pca.explained_variance_ratio_, fitted_pca.explained_variance_ratio_.sum())\n",
    "\n",
    "X_train_pca = fitted_pca.transform(X_train)\n",
    "X_test_pca  = fitted_pca.transform(X_test)"
   ]
  },
  {
   "cell_type": "markdown",
   "metadata": {
    "heading_collapsed": true
   },
   "source": [
    "## Trajectories"
   ]
  },
  {
   "cell_type": "code",
   "execution_count": 208,
   "metadata": {
    "ExecuteTime": {
     "end_time": "2021-03-05T02:47:27.033866Z",
     "start_time": "2021-03-05T02:47:26.771713Z"
    },
    "hidden": true
   },
   "outputs": [
    {
     "data": {
      "image/png": "[encoded data removed]",
      "text/plain": [
       "<Figure size 655.2x504 with 1 Axes>"
      ]
     },
     "metadata": {},
     "output_type": "display_data"
    }
   ],
   "source": [
    "# for i in tqdm.tqdm(range(len(clean_disk_trajectories))):\n",
    "\n",
    "f, ax = plt.subplots()\n",
    "for i in [21,6]:\n",
    "    if i==21:\n",
    "        x_, z_ = clean_disk_trajectories[i][::,0], clean_disk_trajectories[i][::,2]\n",
    "        ax.plot(x_, z_, '-', color='grey')\n",
    "    else:\n",
    "        x_, z_ = clean_disk_trajectories[i][::,0], clean_disk_trajectories[i][::,2]\n",
    "        ax.plot(x_, z_, '.', color='blue')\n",
    "\n",
    "    ax.vlines(x=0, ymin=0, ymax=1, linestyle='--', zorder= 0)\n",
    "    ax.set_ylabel('z, altura')\n",
    "    ax.set_xlabel('x, lateral')\n",
    "\n",
    "    f.tight_layout()\n",
    "# f.savefig('figures/{}.svg'.format(i), bbox_inches='tight')\n",
    "# plt.close()"
   ]
  },
  {
   "cell_type": "markdown",
   "metadata": {},
   "source": [
    "# Hexagons"
   ]
  },
  {
   "cell_type": "markdown",
   "metadata": {},
   "source": [
    "# Squares"
   ]
  },
  {
   "cell_type": "markdown",
   "metadata": {},
   "source": [
    "# Crosses"
   ]
  }
 ],
 "metadata": {
  "kernelspec": {
   "display_name": "Python 3",
   "language": "python",
   "name": "python3"
  },
  "language_info": {
   "codemirror_mode": {
    "name": "ipython",
    "version": 3
   },
   "file_extension": ".py",
   "mimetype": "text/x-python",
   "name": "python",
   "nbconvert_exporter": "python",
   "pygments_lexer": "ipython3",
   "version": "3.7.7"
  }
 },
 "nbformat": 4,
 "nbformat_minor": 4
}
